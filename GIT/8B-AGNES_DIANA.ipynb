





<!DOCTYPE html>
<html lang="en" data-color-mode="auto" data-light-theme="light" data-dark-theme="dark" data-a11y-animated-images="system">
  <head>
    <meta charset="utf-8">
  <link rel="dns-prefetch" href="https://github.githubassets.com">
  <link rel="dns-prefetch" href="https://avatars.githubusercontent.com">
  <link rel="dns-prefetch" href="https://github-cloud.s3.amazonaws.com">
  <link rel="dns-prefetch" href="https://user-images.githubusercontent.com/">
  <link rel="preconnect" href="https://github.githubassets.com" crossorigin>
  <link rel="preconnect" href="https://avatars.githubusercontent.com">

  


  <link crossorigin="anonymous" media="all" rel="stylesheet" href="https://github.githubassets.com/assets/light-0946cdc16f15.css" /><link crossorigin="anonymous" media="all" rel="stylesheet" href="https://github.githubassets.com/assets/dark-3946c959759a.css" /><link data-color-theme="dark_dimmed" crossorigin="anonymous" media="all" rel="stylesheet" data-href="https://github.githubassets.com/assets/dark_dimmed-9b9a8c91acc5.css" /><link data-color-theme="dark_high_contrast" crossorigin="anonymous" media="all" rel="stylesheet" data-href="https://github.githubassets.com/assets/dark_high_contrast-11302a585e33.css" /><link data-color-theme="dark_colorblind" crossorigin="anonymous" media="all" rel="stylesheet" data-href="https://github.githubassets.com/assets/dark_colorblind-1a4564ab0fbf.css" /><link data-color-theme="light_colorblind" crossorigin="anonymous" media="all" rel="stylesheet" data-href="https://github.githubassets.com/assets/light_colorblind-12a8b2aa9101.css" /><link data-color-theme="light_high_contrast" crossorigin="anonymous" media="all" rel="stylesheet" data-href="https://github.githubassets.com/assets/light_high_contrast-5924a648f3e7.css" /><link data-color-theme="light_tritanopia" crossorigin="anonymous" media="all" rel="stylesheet" data-href="https://github.githubassets.com/assets/light_tritanopia-05358496cb79.css" /><link data-color-theme="dark_tritanopia" crossorigin="anonymous" media="all" rel="stylesheet" data-href="https://github.githubassets.com/assets/dark_tritanopia-aad6b801a158.css" />
    <link crossorigin="anonymous" media="all" rel="stylesheet" href="https://github.githubassets.com/assets/primer-primitives-fb1d51d1ef66.css" />
    <link crossorigin="anonymous" media="all" rel="stylesheet" href="https://github.githubassets.com/assets/primer-0e3420bbec16.css" />
    <link crossorigin="anonymous" media="all" rel="stylesheet" href="https://github.githubassets.com/assets/global-0d04dfcdc794.css" />
    <link crossorigin="anonymous" media="all" rel="stylesheet" href="https://github.githubassets.com/assets/github-c7a3a0ac71d4.css" />
  <link crossorigin="anonymous" media="all" rel="stylesheet" href="https://github.githubassets.com/assets/code-19f06efeff3c.css" />



  <script crossorigin="anonymous" defer="defer" type="application/javascript" src="https://github.githubassets.com/assets/wp-runtime-9a794f867114.js"></script>
<script crossorigin="anonymous" defer="defer" type="application/javascript" src="https://github.githubassets.com/assets/vendors-node_modules_stacktrace-parser_dist_stack-trace-parser_esm_js-node_modules_github_bro-a4c183-ae93d3fba59c.js"></script>
<script crossorigin="anonymous" defer="defer" type="application/javascript" src="https://github.githubassets.com/assets/ui_packages_failbot_failbot_ts-e38c93eab86e.js"></script>
<script crossorigin="anonymous" defer="defer" type="application/javascript" src="https://github.githubassets.com/assets/environment-de3997b81651.js"></script>
<script crossorigin="anonymous" defer="defer" type="application/javascript" src="https://github.githubassets.com/assets/vendors-node_modules_github_selector-observer_dist_index_esm_js-2646a2c533e3.js"></script>
<script crossorigin="anonymous" defer="defer" type="application/javascript" src="https://github.githubassets.com/assets/vendors-node_modules_github_relative-time-element_dist_index_js-99e288659d4f.js"></script>
<script crossorigin="anonymous" defer="defer" type="application/javascript" src="https://github.githubassets.com/assets/vendors-node_modules_fzy_js_index_js-node_modules_github_markdown-toolbar-element_dist_index_js-e3de700a4c9d.js"></script>
<script crossorigin="anonymous" defer="defer" type="application/javascript" src="https://github.githubassets.com/assets/vendors-node_modules_delegated-events_dist_index_js-node_modules_github_auto-complete-element-5b3870-ff38694180c6.js"></script>
<script crossorigin="anonymous" defer="defer" type="application/javascript" src="https://github.githubassets.com/assets/vendors-node_modules_github_file-attachment-element_dist_index_js-node_modules_github_text-ex-3415a8-7ecc10fb88d0.js"></script>
<script crossorigin="anonymous" defer="defer" type="application/javascript" src="https://github.githubassets.com/assets/vendors-node_modules_github_filter-input-element_dist_index_js-node_modules_github_remote-inp-8873b7-5771678648e0.js"></script>
<script crossorigin="anonymous" defer="defer" type="application/javascript" src="https://github.githubassets.com/assets/vendors-node_modules_primer_view-components_app_components_primer_primer_js-node_modules_gith-3af896-d8cf3e5f5813.js"></script>
<script crossorigin="anonymous" defer="defer" type="application/javascript" src="https://github.githubassets.com/assets/github-elements-6f05fe60d18a.js"></script>
<script crossorigin="anonymous" defer="defer" type="application/javascript" src="https://github.githubassets.com/assets/element-registry-90a0fb4e73fa.js"></script>
<script crossorigin="anonymous" defer="defer" type="application/javascript" src="https://github.githubassets.com/assets/vendors-node_modules_lit-html_lit-html_js-9d9fe1859ce5.js"></script>
<script crossorigin="anonymous" defer="defer" type="application/javascript" src="https://github.githubassets.com/assets/vendors-node_modules_github_mini-throttle_dist_index_js-node_modules_github_alive-client_dist-bf5aa2-424aa982deef.js"></script>
<script crossorigin="anonymous" defer="defer" type="application/javascript" src="https://github.githubassets.com/assets/vendors-node_modules_github_turbo_dist_turbo_es2017-esm_js-ba0e4d5b3207.js"></script>
<script crossorigin="anonymous" defer="defer" type="application/javascript" src="https://github.githubassets.com/assets/vendors-node_modules_color-convert_index_js-node_modules_github_jtml_lib_index_js-40bf234a19dc.js"></script>
<script crossorigin="anonymous" defer="defer" type="application/javascript" src="https://github.githubassets.com/assets/vendors-node_modules_github_remote-form_dist_index_js-node_modules_scroll-anchoring_dist_scro-52dc4b-e1e33bfc0b7e.js"></script>
<script crossorigin="anonymous" defer="defer" type="application/javascript" src="https://github.githubassets.com/assets/vendors-node_modules_github_paste-markdown_dist_index_esm_js-node_modules_github_quote-select-743f1d-1b20d530fbf0.js"></script>
<script crossorigin="anonymous" defer="defer" type="application/javascript" src="https://github.githubassets.com/assets/app_assets_modules_github_updatable-content_ts-dadb69f79923.js"></script>
<script crossorigin="anonymous" defer="defer" type="application/javascript" src="https://github.githubassets.com/assets/app_assets_modules_github_behaviors_keyboard-shortcuts-helper_ts-app_assets_modules_github_be-f5afdb-3f05df4c282b.js"></script>
<script crossorigin="anonymous" defer="defer" type="application/javascript" src="https://github.githubassets.com/assets/app_assets_modules_github_sticky-scroll-into-view_ts-0af96d15a250.js"></script>
<script crossorigin="anonymous" defer="defer" type="application/javascript" src="https://github.githubassets.com/assets/app_assets_modules_github_behaviors_ajax-error_ts-app_assets_modules_github_behaviors_include-2e2258-7effad8d88d4.js"></script>
<script crossorigin="anonymous" defer="defer" type="application/javascript" src="https://github.githubassets.com/assets/app_assets_modules_github_behaviors_commenting_edit_ts-app_assets_modules_github_behaviors_ht-83c235-c97eacdef68a.js"></script>
<script crossorigin="anonymous" defer="defer" type="application/javascript" src="https://github.githubassets.com/assets/app_assets_modules_github_blob-anchor_ts-app_assets_modules_github_filter-sort_ts-app_assets_-e5f169-c54621d9e188.js"></script>
<script crossorigin="anonymous" defer="defer" type="application/javascript" src="https://github.githubassets.com/assets/behaviors-a934992bd4b4.js"></script>
<script crossorigin="anonymous" defer="defer" type="application/javascript" src="https://github.githubassets.com/assets/vendors-node_modules_delegated-events_dist_index_js-node_modules_github_catalyst_lib_index_js-623425af41e1.js"></script>
<script crossorigin="anonymous" defer="defer" type="application/javascript" src="https://github.githubassets.com/assets/notifications-global-4dc6f295cc92.js"></script>
<script crossorigin="anonymous" defer="defer" type="application/javascript" src="https://github.githubassets.com/assets/code-menu-da1cefc25b0a.js"></script>
  
  <script crossorigin="anonymous" defer="defer" type="application/javascript" src="https://github.githubassets.com/assets/react-lib-26cb888452e9.js"></script>
<script crossorigin="anonymous" defer="defer" type="application/javascript" src="https://github.githubassets.com/assets/vendors-node_modules_primer_octicons-react_dist_index_esm_js-node_modules_primer_react_lib-es-ca6dae-b92ad3d50a7c.js"></script>
<script crossorigin="anonymous" defer="defer" type="application/javascript" src="https://github.githubassets.com/assets/vendors-node_modules_primer_react_lib-esm_Button_index_js-node_modules_primer_react_lib-esm_T-c6e74c-0275da95e0ca.js"></script>
<script crossorigin="anonymous" defer="defer" type="application/javascript" src="https://github.githubassets.com/assets/vendors-node_modules_primer_react_lib-esm_TextInput_TextInput_js-78eadeb91f74.js"></script>
<script crossorigin="anonymous" defer="defer" type="application/javascript" src="https://github.githubassets.com/assets/vendors-node_modules_primer_react_lib-esm_ActionList_index_js-node_modules_primer_react_lib-e-6c83fc-209125ca37d7.js"></script>
<script crossorigin="anonymous" defer="defer" type="application/javascript" src="https://github.githubassets.com/assets/vendors-node_modules_dompurify_dist_purify_js-64d590970fa6.js"></script>
<script crossorigin="anonymous" defer="defer" type="application/javascript" src="https://github.githubassets.com/assets/vendors-node_modules_primer_react_lib-esm_ActionMenu_js-6f5478fce534.js"></script>
<script crossorigin="anonymous" defer="defer" type="application/javascript" src="https://github.githubassets.com/assets/vendors-node_modules_primer_react_lib-esm_deprecated_ActionList_index_js-node_modules_primer_-fed12b-aab66293925c.js"></script>
<script crossorigin="anonymous" defer="defer" type="application/javascript" src="https://github.githubassets.com/assets/vendors-node_modules_primer_react_lib-esm_FormControl_FormControl_js-785e3d3ff3f3.js"></script>
<script crossorigin="anonymous" defer="defer" type="application/javascript" src="https://github.githubassets.com/assets/vendors-node_modules_primer_react_lib-esm_Heading_Heading_js-node_modules_primer_react_lib-es-20c766-2f73d206e824.js"></script>
<script crossorigin="anonymous" defer="defer" type="application/javascript" src="https://github.githubassets.com/assets/vendors-node_modules_primer_react_lib-esm_Dialog_ConfirmationDialog_js-5c0818339f06.js"></script>
<script crossorigin="anonymous" defer="defer" type="application/javascript" src="https://github.githubassets.com/assets/vendors-node_modules_primer_behaviors_dist_esm_focus-zone_js-e11d55a242ff.js"></script>
<script crossorigin="anonymous" defer="defer" type="application/javascript" src="https://github.githubassets.com/assets/vendors-node_modules_primer_react_lib-esm_TreeView_TreeView_js-7165830dc4a6.js"></script>
<script crossorigin="anonymous" defer="defer" type="application/javascript" src="https://github.githubassets.com/assets/vendors-node_modules_primer_react_lib-esm_Avatar_Avatar_js-node_modules_primer_react_lib-esm_-9d76dd-8810f816d9b8.js"></script>
<script crossorigin="anonymous" defer="defer" type="application/javascript" src="https://github.githubassets.com/assets/vendors-node_modules_github_blackbird-parser_dist_blackbird_js-fcd9d30e9b7e.js"></script>
<script crossorigin="anonymous" defer="defer" type="application/javascript" src="https://github.githubassets.com/assets/vendors-node_modules_primer_react_lib-esm_UnderlineNav2_index_js-node_modules_react-router-do-3a0e98-3da6649648f5.js"></script>
<script crossorigin="anonymous" defer="defer" type="application/javascript" src="https://github.githubassets.com/assets/vendors-node_modules_primer_behaviors_dist_esm_anchored-position_js-node_modules_primer_react-943b23-e07ed798c9a6.js"></script>
<script crossorigin="anonymous" defer="defer" type="application/javascript" src="https://github.githubassets.com/assets/vendors-node_modules_primer_behaviors_dist_esm_scroll-into-view_js-node_modules_primer_react_-cd1b19-62b2b0b32cbe.js"></script>
<script crossorigin="anonymous" defer="defer" type="application/javascript" src="https://github.githubassets.com/assets/ui_packages_react-core_deferred-registry_ts-ui_packages_react-core_AppContextProvider_tsx-ui_-ffd985-18d5698b6549.js"></script>
<script crossorigin="anonymous" defer="defer" type="application/javascript" src="https://github.githubassets.com/assets/ui_packages_react-core_Entry_tsx-f122dd87b4f0.js"></script>
<script crossorigin="anonymous" defer="defer" type="application/javascript" src="https://github.githubassets.com/assets/ui_packages_paths_path_ts-ui_packages_verified-fetch_verified-fetch_ts-ui_packages_safe-html_-d7e3f1-8681e57cea17.js"></script>
<script crossorigin="anonymous" defer="defer" type="application/javascript" src="https://github.githubassets.com/assets/app_assets_modules_react-shared_RefSelector_RefSelector_tsx-194f004daa15.js"></script>
<script crossorigin="anonymous" defer="defer" type="application/javascript" src="https://github.githubassets.com/assets/app_assets_modules_blackbird-monolith_hooks_use-navigate-to-query_ts-app_assets_modules_black-182e14-4606bbb51ec6.js"></script>
<script crossorigin="anonymous" defer="defer" type="application/javascript" src="https://github.githubassets.com/assets/app_assets_modules_react-code-view_pages_CodeView_tsx-047905fa2704.js"></script>
<script crossorigin="anonymous" defer="defer" type="application/javascript" src="https://github.githubassets.com/assets/react-code-view-9ba80612d81c.js"></script>


  <title>ML_Lab_6thSem/8B-AGNES_DIANA.ipynb at main · AVKavan/ML_Lab_6thSem</title>



  <meta name="route-pattern" content="/:user_id/:repository/blob/*name(/*path)">

    
  <meta name="current-catalog-service-hash" content="581425c0eaaa5e5e53c5b736f58a14dbe5d38b0be425901738ad0670bd1d5a33">


  <meta name="request-id" content="DFD4:03BB:6C7BF6:800C4F:647390C5" data-turbo-transient="true" /><meta name="html-safe-nonce" content="7fc40299b8409dbe961afbbd0d80200194d003762c2c30e12f704d49f4475d81" data-turbo-transient="true" /><meta name="visitor-payload" content="eyJyZWZlcnJlciI6Imh0dHBzOi8vZ2l0aHViLmNvbS9BVkthdmFuL01MX0xhYl82dGhTZW0vdHJlZS9tYWluL1BhcnQtQiIsInJlcXVlc3RfaWQiOiJERkQ0OjAzQkI6NkM3QkY2OjgwMEM0Rjo2NDczOTBDNSIsInZpc2l0b3JfaWQiOiI0NTIyODkyNDgwNDEwNDg4Mzk4IiwicmVnaW9uX2VkZ2UiOiJjZW50cmFsaW5kaWEiLCJyZWdpb25fcmVuZGVyIjoiaWFkIn0=" data-turbo-transient="true" /><meta name="visitor-hmac" content="46bec1bb47fc9d8c2ba275b26a6b4bbc7077a1dde4364b09ee6bbfdf27c5b723" data-turbo-transient="true" />


    <meta name="hovercard-subject-tag" content="repository:633462718" data-turbo-transient>


  <meta name="github-keyboard-shortcuts" content="repository,source-code,file-tree" data-turbo-transient="true" />
  

  <meta name="selected-link" value="repo_source" data-turbo-transient>
  <link rel="assets" href="https://github.githubassets.com/">

    <meta name="google-site-verification" content="c1kuD-K2HIVF635lypcsWPoD4kilo5-jA_wBFyT4uMY">
  <meta name="google-site-verification" content="KT5gs8h0wvaagLKAVWq8bbeNwnZZK1r1XQysX3xurLU">
  <meta name="google-site-verification" content="ZzhVyEFwb7w3e0-uOTltm8Jsck2F5StVihD0exw2fsA">
  <meta name="google-site-verification" content="GXs5KoUUkNCoaAZn7wPN-t01Pywp9M3sEjnt_3_ZWPc">
  <meta name="google-site-verification" content="Apib7-x98H0j5cPqHWwSMm6dNU4GmODRoqxLiDzdx9I">

<meta name="octolytics-url" content="https://collector.github.com/github/collect" /><meta name="octolytics-actor-id" content="64247982" /><meta name="octolytics-actor-login" content="suhaswarrior" /><meta name="octolytics-actor-hash" content="d4be6ca19b6de085d1837a6f38f9e5c9215a90d86ebda2ec62899877a793c4c5" />

  <meta name="analytics-location" content="/&lt;user-name&gt;/&lt;repo-name&gt;/blob/show" data-turbo-transient="true" />

  




  

    <meta name="user-login" content="suhaswarrior">

  <link rel="sudo-modal" href="/sessions/sudo_modal">

    <meta name="viewport" content="width=device-width">
    
      <meta name="description" content="This repository contains macchine learning lab programs of 6th semester ISE - ML_Lab_6thSem/8B-AGNES_DIANA.ipynb at main · AVKavan/ML_Lab_6thSem">
      <link rel="search" type="application/opensearchdescription+xml" href="/opensearch.xml" title="GitHub">
    <link rel="fluid-icon" href="https://github.com/fluidicon.png" title="GitHub">
    <meta property="fb:app_id" content="1401488693436528">
    <meta name="apple-itunes-app" content="app-id=1477376905" />
      <meta name="twitter:image:src" content="https://opengraph.githubassets.com/ebf1b96fde7fbda6035f26511d9a76a0233092766032fe123f4bf29064fc5370/AVKavan/ML_Lab_6thSem" /><meta name="twitter:site" content="@github" /><meta name="twitter:card" content="summary_large_image" /><meta name="twitter:title" content="ML_Lab_6thSem/8B-AGNES_DIANA.ipynb at main · AVKavan/ML_Lab_6thSem" /><meta name="twitter:description" content="This repository contains macchine learning lab programs of 6th semester ISE - ML_Lab_6thSem/8B-AGNES_DIANA.ipynb at main · AVKavan/ML_Lab_6thSem" />
      <meta property="og:image" content="https://opengraph.githubassets.com/ebf1b96fde7fbda6035f26511d9a76a0233092766032fe123f4bf29064fc5370/AVKavan/ML_Lab_6thSem" /><meta property="og:image:alt" content="This repository contains macchine learning lab programs of 6th semester ISE - ML_Lab_6thSem/8B-AGNES_DIANA.ipynb at main · AVKavan/ML_Lab_6thSem" /><meta property="og:image:width" content="1200" /><meta property="og:image:height" content="600" /><meta property="og:site_name" content="GitHub" /><meta property="og:type" content="object" /><meta property="og:title" content="ML_Lab_6thSem/8B-AGNES_DIANA.ipynb at main · AVKavan/ML_Lab_6thSem" /><meta property="og:url" content="https://github.com/AVKavan/ML_Lab_6thSem" /><meta property="og:description" content="This repository contains macchine learning lab programs of 6th semester ISE - ML_Lab_6thSem/8B-AGNES_DIANA.ipynb at main · AVKavan/ML_Lab_6thSem" />
      

      <link rel="shared-web-socket" href="wss://alive.github.com/_sockets/u/64247982/ws?session=eyJ2IjoiVjMiLCJ1Ijo2NDI0Nzk4MiwicyI6MTEyNTkwNjI5MywiYyI6MzU2MjAwNjQ5OSwidCI6MTY4NTI5NTMwN30=--e2074976f6f984235bea341babd64943ab42dc7626a0d2aeddd63b3633a880f7" data-refresh-url="/_alive" data-session-id="1a99d9d7a3444e8247e1653b416b4a3ac042ca7763abf1a1b56f2dda798a0729">
      <link rel="shared-web-socket-src" href="/assets-cdn/worker/socket-worker-71e98f781d79.js">


        <meta name="hostname" content="github.com">


      <meta name="keyboard-shortcuts-preference" content="all">

        <meta name="expected-hostname" content="github.com">

    <meta name="enabled-features" content="TURBO_EXPERIMENT_RISKY,IMAGE_METRIC_TRACKING,GEOJSON_AZURE_MAPS">


  <meta http-equiv="x-pjax-version" content="9e7cee55247854e4b5065dcaa48c11a21f0aeecb18e0cf403d423ec8a217adf1" data-turbo-track="reload">
  <meta http-equiv="x-pjax-csp-version" content="0db263f9a873141d8256f783c35f244c06d490aacc3b680f99794dd8fd59fb59" data-turbo-track="reload">
  <meta http-equiv="x-pjax-css-version" content="3a5ebe862e241f673b94226e4d40972fd95ee6fdb7d57b8b44f2b2fa29ce05f7" data-turbo-track="reload">
  <meta http-equiv="x-pjax-js-version" content="9ca49bde30c3d832abb07180263a22984c9334e3474ad0fe3f36eeb88de36d3b" data-turbo-track="reload">

  <meta name="turbo-cache-control" content="no-preview" data-turbo-transient="">

      <meta name="turbo-cache-control" content="no-cache" data-turbo-transient>
    <meta data-hydrostats="publish">

  <meta name="go-import" content="github.com/AVKavan/ML_Lab_6thSem git https://github.com/AVKavan/ML_Lab_6thSem.git">

  <meta name="octolytics-dimension-user_id" content="107805278" /><meta name="octolytics-dimension-user_login" content="AVKavan" /><meta name="octolytics-dimension-repository_id" content="633462718" /><meta name="octolytics-dimension-repository_nwo" content="AVKavan/ML_Lab_6thSem" /><meta name="octolytics-dimension-repository_public" content="true" /><meta name="octolytics-dimension-repository_is_fork" content="false" /><meta name="octolytics-dimension-repository_network_root_id" content="633462718" /><meta name="octolytics-dimension-repository_network_root_nwo" content="AVKavan/ML_Lab_6thSem" />



  <meta name="turbo-body-classes" content="logged-in env-production page-responsive">


  <meta name="browser-stats-url" content="https://api.github.com/_private/browser/stats">

  <meta name="browser-errors-url" content="https://api.github.com/_private/browser/errors">

  <meta name="browser-optimizely-client-errors-url" content="https://api.github.com/_private/browser/optimizely_client/errors">

  <link rel="mask-icon" href="https://github.githubassets.com/pinned-octocat.svg" color="#000000">
  <link rel="alternate icon" class="js-site-favicon" type="image/png" href="https://github.githubassets.com/favicons/favicon.png">
  <link rel="icon" class="js-site-favicon" type="image/svg+xml" href="https://github.githubassets.com/favicons/favicon.svg">

<meta name="theme-color" content="#1e2327">
<meta name="color-scheme" content="light dark" />


  <link rel="manifest" href="/manifest.json" crossOrigin="use-credentials">

  </head>

  <body class="logged-in env-production page-responsive" style="word-wrap: break-word;">
    <div data-turbo-body class="logged-in env-production page-responsive" style="word-wrap: break-word;">
      


    <div class="position-relative js-header-wrapper ">
      <a href="#start-of-content" class="p-3 color-bg-accent-emphasis color-fg-on-emphasis show-on-focus js-skip-to-content">Skip to content</a>
      <span data-view-component="true" class="progress-pjax-loader Progress position-fixed width-full">
    <span style="width: 0%;" data-view-component="true" class="Progress-item progress-pjax-loader-bar left-0 top-0 color-bg-accent-emphasis"></span>
</span>      
      


        <script crossorigin="anonymous" defer="defer" type="application/javascript" src="https://github.githubassets.com/assets/vendors-node_modules_allex_crc32_lib_crc32_esm_js-node_modules_github_mini-throttle_dist_deco-26fa0f-02e7ed68dae1.js"></script>
<script crossorigin="anonymous" defer="defer" type="application/javascript" src="https://github.githubassets.com/assets/vendors-node_modules_github_clipboard-copy-element_dist_index_esm_js-node_modules_delegated-e-b37f7d-a9177ba414f2.js"></script>
<script crossorigin="anonymous" defer="defer" type="application/javascript" src="https://github.githubassets.com/assets/app_assets_modules_github_command-palette_items_help-item_ts-app_assets_modules_github_comman-48ad9d-beffe41c24a7.js"></script>
<script crossorigin="anonymous" defer="defer" type="application/javascript" src="https://github.githubassets.com/assets/command-palette-c2a5f7e7eb12.js"></script>

            <header class="Header js-details-container Details px-3 px-md-4 px-lg-5 flex-wrap flex-md-nowrap" role="banner">

    <div class="Header-item mt-n1 mb-n1  d-none d-md-flex">
      <a
  class="Header-link"
  href="https://github.com/"
  data-hotkey="g d"
  aria-label="Homepage "
  data-turbo="false"
  data-analytics-event="{&quot;category&quot;:&quot;Header&quot;,&quot;action&quot;:&quot;go to dashboard&quot;,&quot;label&quot;:&quot;icon:logo&quot;}"
>
  <svg height="32" aria-hidden="true" viewBox="0 0 16 16" version="1.1" width="32" data-view-component="true" class="octicon octicon-mark-github v-align-middle">
    <path d="M8 0c4.42 0 8 3.58 8 8a8.013 8.013 0 0 1-5.45 7.59c-.4.08-.55-.17-.55-.38 0-.27.01-1.13.01-2.2 0-.75-.25-1.23-.54-1.48 1.78-.2 3.65-.88 3.65-3.95 0-.88-.31-1.59-.82-2.15.08-.2.36-1.02-.08-2.12 0 0-.67-.22-2.2.82-.64-.18-1.32-.27-2-.27-.68 0-1.36.09-2 .27-1.53-1.03-2.2-.82-2.2-.82-.44 1.1-.16 1.92-.08 2.12-.51.56-.82 1.28-.82 2.15 0 3.06 1.86 3.75 3.64 3.95-.23.2-.44.55-.51 1.07-.46.21-1.61.55-2.33-.66-.15-.24-.6-.83-1.23-.82-.67.01-.27.38.01.53.34.19.73.9.82 1.13.16.45.68 1.31 2.69.94 0 .67.01 1.3.01 1.49 0 .21-.15.45-.55.38A7.995 7.995 0 0 1 0 8c0-4.42 3.58-8 8-8Z"></path>
</svg>
</a>

    </div>

    <div class="Header-item d-md-none">
        <button aria-label="Toggle navigation" aria-expanded="false" type="button" data-view-component="true" class="Header-link js-details-target btn-link">    <svg aria-hidden="true" height="24" viewBox="0 0 16 16" version="1.1" width="24" data-view-component="true" class="octicon octicon-three-bars">
    <path d="M1 2.75A.75.75 0 0 1 1.75 2h12.5a.75.75 0 0 1 0 1.5H1.75A.75.75 0 0 1 1 2.75Zm0 5A.75.75 0 0 1 1.75 7h12.5a.75.75 0 0 1 0 1.5H1.75A.75.75 0 0 1 1 7.75ZM1.75 12h12.5a.75.75 0 0 1 0 1.5H1.75a.75.75 0 0 1 0-1.5Z"></path>
</svg>
</button>    </div>

    <div class="Header-item Header-item--full flex-column flex-md-row width-full flex-order-2 flex-md-order-none mr-0 mt-3 mt-md-0 Details-content--hidden-not-important d-md-flex">
              


<template id="search-icon">
  <svg aria-hidden="true" height="16" viewBox="0 0 16 16" version="1.1" width="16" data-view-component="true" class="octicon octicon-search">
    <path d="M10.68 11.74a6 6 0 0 1-7.922-8.982 6 6 0 0 1 8.982 7.922l3.04 3.04a.749.749 0 0 1-.326 1.275.749.749 0 0 1-.734-.215ZM11.5 7a4.499 4.499 0 1 0-8.997 0A4.499 4.499 0 0 0 11.5 7Z"></path>
</svg>
</template>

<template id="code-icon">
  <svg aria-hidden="true" height="16" viewBox="0 0 16 16" version="1.1" width="16" data-view-component="true" class="octicon octicon-code">
    <path d="m11.28 3.22 4.25 4.25a.75.75 0 0 1 0 1.06l-4.25 4.25a.749.749 0 0 1-1.275-.326.749.749 0 0 1 .215-.734L13.94 8l-3.72-3.72a.749.749 0 0 1 .326-1.275.749.749 0 0 1 .734.215Zm-6.56 0a.751.751 0 0 1 1.042.018.751.751 0 0 1 .018 1.042L2.06 8l3.72 3.72a.749.749 0 0 1-.326 1.275.749.749 0 0 1-.734-.215L.47 8.53a.75.75 0 0 1 0-1.06Z"></path>
</svg>
</template>

<template id="file-code-icon">
  <svg aria-hidden="true" height="16" viewBox="0 0 16 16" version="1.1" width="16" data-view-component="true" class="octicon octicon-file-code">
    <path d="M4 1.75C4 .784 4.784 0 5.75 0h5.586c.464 0 .909.184 1.237.513l2.914 2.914c.329.328.513.773.513 1.237v8.586A1.75 1.75 0 0 1 14.25 15h-9a.75.75 0 0 1 0-1.5h9a.25.25 0 0 0 .25-.25V6h-2.75A1.75 1.75 0 0 1 10 4.25V1.5H5.75a.25.25 0 0 0-.25.25v2.5a.75.75 0 0 1-1.5 0Zm1.72 4.97a.75.75 0 0 1 1.06 0l2 2a.75.75 0 0 1 0 1.06l-2 2a.749.749 0 0 1-1.275-.326.749.749 0 0 1 .215-.734l1.47-1.47-1.47-1.47a.75.75 0 0 1 0-1.06ZM3.28 7.78 1.81 9.25l1.47 1.47a.751.751 0 0 1-.018 1.042.751.751 0 0 1-1.042.018l-2-2a.75.75 0 0 1 0-1.06l2-2a.751.751 0 0 1 1.042.018.751.751 0 0 1 .018 1.042Zm8.22-6.218V4.25c0 .138.112.25.25.25h2.688l-.011-.013-2.914-2.914-.013-.011Z"></path>
</svg>
</template>

<template id="history-icon">
  <svg aria-hidden="true" height="16" viewBox="0 0 16 16" version="1.1" width="16" data-view-component="true" class="octicon octicon-history">
    <path d="m.427 1.927 1.215 1.215a8.002 8.002 0 1 1-1.6 5.685.75.75 0 1 1 1.493-.154 6.5 6.5 0 1 0 1.18-4.458l1.358 1.358A.25.25 0 0 1 3.896 6H.25A.25.25 0 0 1 0 5.75V2.104a.25.25 0 0 1 .427-.177ZM7.75 4a.75.75 0 0 1 .75.75v2.992l2.028.812a.75.75 0 0 1-.557 1.392l-2.5-1A.751.751 0 0 1 7 8.25v-3.5A.75.75 0 0 1 7.75 4Z"></path>
</svg>
</template>

<template id="repo-icon">
  <svg aria-hidden="true" height="16" viewBox="0 0 16 16" version="1.1" width="16" data-view-component="true" class="octicon octicon-repo">
    <path d="M2 2.5A2.5 2.5 0 0 1 4.5 0h8.75a.75.75 0 0 1 .75.75v12.5a.75.75 0 0 1-.75.75h-2.5a.75.75 0 0 1 0-1.5h1.75v-2h-8a1 1 0 0 0-.714 1.7.75.75 0 1 1-1.072 1.05A2.495 2.495 0 0 1 2 11.5Zm10.5-1h-8a1 1 0 0 0-1 1v6.708A2.486 2.486 0 0 1 4.5 9h8ZM5 12.25a.25.25 0 0 1 .25-.25h3.5a.25.25 0 0 1 .25.25v3.25a.25.25 0 0 1-.4.2l-1.45-1.087a.249.249 0 0 0-.3 0L5.4 15.7a.25.25 0 0 1-.4-.2Z"></path>
</svg>
</template>

<template id="bookmark-icon">
  <svg aria-hidden="true" height="16" viewBox="0 0 16 16" version="1.1" width="16" data-view-component="true" class="octicon octicon-bookmark">
    <path d="M3 2.75C3 1.784 3.784 1 4.75 1h6.5c.966 0 1.75.784 1.75 1.75v11.5a.75.75 0 0 1-1.227.579L8 11.722l-3.773 3.107A.751.751 0 0 1 3 14.25Zm1.75-.25a.25.25 0 0 0-.25.25v9.91l3.023-2.489a.75.75 0 0 1 .954 0l3.023 2.49V2.75a.25.25 0 0 0-.25-.25Z"></path>
</svg>
</template>

<template id="plus-circle-icon">
  <svg aria-hidden="true" height="16" viewBox="0 0 16 16" version="1.1" width="16" data-view-component="true" class="octicon octicon-plus-circle">
    <path d="M8 0a8 8 0 1 1 0 16A8 8 0 0 1 8 0ZM1.5 8a6.5 6.5 0 1 0 13 0 6.5 6.5 0 0 0-13 0Zm7.25-3.25v2.5h2.5a.75.75 0 0 1 0 1.5h-2.5v2.5a.75.75 0 0 1-1.5 0v-2.5h-2.5a.75.75 0 0 1 0-1.5h2.5v-2.5a.75.75 0 0 1 1.5 0Z"></path>
</svg>
</template>

<template id="circle-icon">
  <svg aria-hidden="true" height="16" viewBox="0 0 16 16" version="1.1" width="16" data-view-component="true" class="octicon octicon-dot-fill">
    <path d="M8 4a4 4 0 1 1 0 8 4 4 0 0 1 0-8Z"></path>
</svg>
</template>

<template id="trash-icon">
  <svg aria-hidden="true" height="16" viewBox="0 0 16 16" version="1.1" width="16" data-view-component="true" class="octicon octicon-trash">
    <path d="M11 1.75V3h2.25a.75.75 0 0 1 0 1.5H2.75a.75.75 0 0 1 0-1.5H5V1.75C5 .784 5.784 0 6.75 0h2.5C10.216 0 11 .784 11 1.75ZM4.496 6.675l.66 6.6a.25.25 0 0 0 .249.225h5.19a.25.25 0 0 0 .249-.225l.66-6.6a.75.75 0 0 1 1.492.149l-.66 6.6A1.748 1.748 0 0 1 10.595 15h-5.19a1.75 1.75 0 0 1-1.741-1.575l-.66-6.6a.75.75 0 1 1 1.492-.15ZM6.5 1.75V3h3V1.75a.25.25 0 0 0-.25-.25h-2.5a.25.25 0 0 0-.25.25Z"></path>
</svg>
</template>

<template id="team-icon">
  <svg aria-hidden="true" height="16" viewBox="0 0 16 16" version="1.1" width="16" data-view-component="true" class="octicon octicon-people">
    <path d="M2 5.5a3.5 3.5 0 1 1 5.898 2.549 5.508 5.508 0 0 1 3.034 4.084.75.75 0 1 1-1.482.235 4 4 0 0 0-7.9 0 .75.75 0 0 1-1.482-.236A5.507 5.507 0 0 1 3.102 8.05 3.493 3.493 0 0 1 2 5.5ZM11 4a3.001 3.001 0 0 1 2.22 5.018 5.01 5.01 0 0 1 2.56 3.012.749.749 0 0 1-.885.954.752.752 0 0 1-.549-.514 3.507 3.507 0 0 0-2.522-2.372.75.75 0 0 1-.574-.73v-.352a.75.75 0 0 1 .416-.672A1.5 1.5 0 0 0 11 5.5.75.75 0 0 1 11 4Zm-5.5-.5a2 2 0 1 0-.001 3.999A2 2 0 0 0 5.5 3.5Z"></path>
</svg>
</template>

<template id="project-icon">
  <svg aria-hidden="true" height="16" viewBox="0 0 16 16" version="1.1" width="16" data-view-component="true" class="octicon octicon-project">
    <path d="M1.75 0h12.5C15.216 0 16 .784 16 1.75v12.5A1.75 1.75 0 0 1 14.25 16H1.75A1.75 1.75 0 0 1 0 14.25V1.75C0 .784.784 0 1.75 0ZM1.5 1.75v12.5c0 .138.112.25.25.25h12.5a.25.25 0 0 0 .25-.25V1.75a.25.25 0 0 0-.25-.25H1.75a.25.25 0 0 0-.25.25ZM11.75 3a.75.75 0 0 1 .75.75v7.5a.75.75 0 0 1-1.5 0v-7.5a.75.75 0 0 1 .75-.75Zm-8.25.75a.75.75 0 0 1 1.5 0v5.5a.75.75 0 0 1-1.5 0ZM8 3a.75.75 0 0 1 .75.75v3.5a.75.75 0 0 1-1.5 0v-3.5A.75.75 0 0 1 8 3Z"></path>
</svg>
</template>

<template id="pencil-icon">
  <svg aria-hidden="true" height="16" viewBox="0 0 16 16" version="1.1" width="16" data-view-component="true" class="octicon octicon-pencil">
    <path d="M11.013 1.427a1.75 1.75 0 0 1 2.474 0l1.086 1.086a1.75 1.75 0 0 1 0 2.474l-8.61 8.61c-.21.21-.47.364-.756.445l-3.251.93a.75.75 0 0 1-.927-.928l.929-3.25c.081-.286.235-.547.445-.758l8.61-8.61Zm.176 4.823L9.75 4.81l-6.286 6.287a.253.253 0 0 0-.064.108l-.558 1.953 1.953-.558a.253.253 0 0 0 .108-.064Zm1.238-3.763a.25.25 0 0 0-.354 0L10.811 3.75l1.439 1.44 1.263-1.263a.25.25 0 0 0 0-.354Z"></path>
</svg>
</template>

<qbsearch-input class="search-input" data-scope="repo:AVKavan/ML_Lab_6thSem" data-custom-scopes-path="/search/custom_scopes" data-delete-custom-scopes-csrf="IWoiQ1Ick8yfjnvhzRKp6Qrdb4wk7S8wi3WO03krdXuRGqdo6sSMwbvcb68OcM0PwRUTj19ppXxKmVwK7mwknw" data-max-custom-scopes="10" data-header-redesign-enabled="false" data-initial-value="" data-blackbird-suggestions-path="/search/suggestions" data-jump-to-suggestions-path="/_graphql/GetSuggestedNavigationDestinations" data-current-repository="AVKavan/ML_Lab_6thSem" data-current-org="" data-current-owner="AVKavan">
  <div
    class="search-input-container search-with-dialog position-relative d-flex flex-row flex-items-center mr-4 rounded"
    data-action="click:qbsearch-input#searchInputContainerClicked"
  >
      <button
        type="button"
        class="header-search-button placeholder  input-button form-control d-flex flex-1 flex-self-stretch flex-items-center no-wrap width-full py-0 pl-2 pr-0 text-left border-0 box-shadow-none"
        data-target="qbsearch-input.inputButton"
        placeholder="Search or jump to..."
        data-hotkey=s,/
        autocapitalize="off"
        data-action="click:qbsearch-input#handleExpand"
      >
        <div class="mr-2 color-fg-muted">
          <svg aria-hidden="true" height="16" viewBox="0 0 16 16" version="1.1" width="16" data-view-component="true" class="octicon octicon-search">
    <path d="M10.68 11.74a6 6 0 0 1-7.922-8.982 6 6 0 0 1 8.982 7.922l3.04 3.04a.749.749 0 0 1-.326 1.275.749.749 0 0 1-.734-.215ZM11.5 7a4.499 4.499 0 1 0-8.997 0A4.499 4.499 0 0 0 11.5 7Z"></path>
</svg>
        </div>
        <span class="flex-1" data-target="qbsearch-input.inputButtonText">Search or jump to...</span>
          <div class="d-flex" data-target="qbsearch-input.hotkeyIndicator">
            <svg xmlns="http://www.w3.org/2000/svg" width="22" height="20" aria-hidden="true" class="mr-1"><path fill="none" stroke="#979A9C" opacity=".4" d="M3.5.5h12c1.7 0 3 1.3 3 3v13c0 1.7-1.3 3-3 3h-12c-1.7 0-3-1.3-3-3v-13c0-1.7 1.3-3 3-3z"></path><path fill="#979A9C" d="M11.8 6L8 15.1h-.9L10.8 6h1z"></path></svg>

          </div>
      </button>

    <input type="hidden" name="type" class="js-site-search-type-field">

    
<div class="Overlay--hidden " data-modal-dialog-overlay>
  <modal-dialog data-action="close:qbsearch-input#handleClose cancel:qbsearch-input#handleClose" data-target="qbsearch-input.searchSuggestionsDialog" role="dialog" id="search-suggestions-dialog" aria-modal="true" aria-labelledby="search-suggestions-dialog-header" data-view-component="true" class="Overlay Overlay--width-large Overlay--height-auto">
      <h1 id="search-suggestions-dialog-header" class="sr-only">Search code, repositories, users, issues, pull requests...</h1>
    <div class="Overlay-body Overlay-body--paddingNone">
      
          <div data-view-component="true">        <div class="search-suggestions position-absolute width-full color-shadow-large border color-fg-default color-bg-default overflow-hidden d-flex flex-column query-builder-container"
          style="border-radius: 12px;"
          data-target="qbsearch-input.queryBuilderContainer"
          hidden
        >
          <!-- '"` --><!-- </textarea></xmp> --></option></form><form id="query-builder-test-form" action="" accept-charset="UTF-8" method="get">
  <query-builder data-target="qbsearch-input.queryBuilder" id="query-builder-query-builder-test" data-filter-key=":" data-view-component="true" class="QueryBuilder search-query-builder">
    <div class="FormControl FormControl--fullWidth">
      <label id="query-builder-test-label" for="query-builder-test" class="FormControl-label sr-only">
        Search
      </label>
      <div class="QueryBuilder-StyledInput width-fit" data-target="query-builder.styledInput">
          <span id="query-builder-test-leadingvisual-wrap" class="FormControl-input-leadingVisualWrap QueryBuilder-leadingVisualWrap">
            <svg aria-hidden="true" height="16" viewBox="0 0 16 16" version="1.1" width="16" data-view-component="true" class="octicon octicon-search FormControl-input-leadingVisual">
    <path d="M10.68 11.74a6 6 0 0 1-7.922-8.982 6 6 0 0 1 8.982 7.922l3.04 3.04a.749.749 0 0 1-.326 1.275.749.749 0 0 1-.734-.215ZM11.5 7a4.499 4.499 0 1 0-8.997 0A4.499 4.499 0 0 0 11.5 7Z"></path>
</svg>
          </span>
        <div data-target="query-builder.styledInputContainer" class="QueryBuilder-StyledInputContainer">
          <div
            aria-hidden="true"
            class="QueryBuilder-StyledInputContent"
            data-target="query-builder.styledInputContent"
          ></div>
          <div class="QueryBuilder-InputWrapper">
            <div aria-hidden="true" class="QueryBuilder-Sizer" data-target="query-builder.sizer"></div>
            <input id="query-builder-test" name="query-builder-test" value="" autocomplete="off" type="text" role="combobox" spellcheck="false" aria-expanded="false" data-target="query-builder.input" data-action="
          input:query-builder#inputChange
          blur:query-builder#inputBlur
          keydown:query-builder#inputKeydown
          focus:query-builder#inputFocus
        " data-view-component="true" class="FormControl-input QueryBuilder-Input FormControl-medium" />
          </div>
        </div>
          <span class="sr-only" id="query-builder-test-clear">Clear</span>
          
  <button role="button" id="query-builder-test-clear-button" aria-labelledby="query-builder-test-clear query-builder-test-label" data-target="query-builder.clearButton" data-action="
                click:query-builder#clear
                focus:query-builder#clearButtonFocus
                blur:query-builder#clearButtonBlur
              " variant="small" hidden="hidden" type="button" data-view-component="true" class="Button Button--iconOnly Button--invisible Button--medium mr-1 px-2 py-0 d-flex flex-items-center rounded-1 color-fg-muted">    <svg aria-hidden="true" height="16" viewBox="0 0 16 16" version="1.1" width="16" data-view-component="true" class="octicon octicon-x-circle-fill Button-visual">
    <path d="M2.343 13.657A8 8 0 1 1 13.658 2.343 8 8 0 0 1 2.343 13.657ZM6.03 4.97a.751.751 0 0 0-1.042.018.751.751 0 0 0-.018 1.042L6.94 8 4.97 9.97a.749.749 0 0 0 .326 1.275.749.749 0 0 0 .734-.215L8 9.06l1.97 1.97a.749.749 0 0 0 1.275-.326.749.749 0 0 0-.215-.734L9.06 8l1.97-1.97a.749.749 0 0 0-.326-1.275.749.749 0 0 0-.734.215L8 6.94Z"></path>
</svg>
</button>  

      </div>
      <template id="search-icon">
  <svg aria-hidden="true" height="16" viewBox="0 0 16 16" version="1.1" width="16" data-view-component="true" class="octicon octicon-search">
    <path d="M10.68 11.74a6 6 0 0 1-7.922-8.982 6 6 0 0 1 8.982 7.922l3.04 3.04a.749.749 0 0 1-.326 1.275.749.749 0 0 1-.734-.215ZM11.5 7a4.499 4.499 0 1 0-8.997 0A4.499 4.499 0 0 0 11.5 7Z"></path>
</svg>
</template>

<template id="code-icon">
  <svg aria-hidden="true" height="16" viewBox="0 0 16 16" version="1.1" width="16" data-view-component="true" class="octicon octicon-code">
    <path d="m11.28 3.22 4.25 4.25a.75.75 0 0 1 0 1.06l-4.25 4.25a.749.749 0 0 1-1.275-.326.749.749 0 0 1 .215-.734L13.94 8l-3.72-3.72a.749.749 0 0 1 .326-1.275.749.749 0 0 1 .734.215Zm-6.56 0a.751.751 0 0 1 1.042.018.751.751 0 0 1 .018 1.042L2.06 8l3.72 3.72a.749.749 0 0 1-.326 1.275.749.749 0 0 1-.734-.215L.47 8.53a.75.75 0 0 1 0-1.06Z"></path>
</svg>
</template>

<template id="file-code-icon">
  <svg aria-hidden="true" height="16" viewBox="0 0 16 16" version="1.1" width="16" data-view-component="true" class="octicon octicon-file-code">
    <path d="M4 1.75C4 .784 4.784 0 5.75 0h5.586c.464 0 .909.184 1.237.513l2.914 2.914c.329.328.513.773.513 1.237v8.586A1.75 1.75 0 0 1 14.25 15h-9a.75.75 0 0 1 0-1.5h9a.25.25 0 0 0 .25-.25V6h-2.75A1.75 1.75 0 0 1 10 4.25V1.5H5.75a.25.25 0 0 0-.25.25v2.5a.75.75 0 0 1-1.5 0Zm1.72 4.97a.75.75 0 0 1 1.06 0l2 2a.75.75 0 0 1 0 1.06l-2 2a.749.749 0 0 1-1.275-.326.749.749 0 0 1 .215-.734l1.47-1.47-1.47-1.47a.75.75 0 0 1 0-1.06ZM3.28 7.78 1.81 9.25l1.47 1.47a.751.751 0 0 1-.018 1.042.751.751 0 0 1-1.042.018l-2-2a.75.75 0 0 1 0-1.06l2-2a.751.751 0 0 1 1.042.018.751.751 0 0 1 .018 1.042Zm8.22-6.218V4.25c0 .138.112.25.25.25h2.688l-.011-.013-2.914-2.914-.013-.011Z"></path>
</svg>
</template>

<template id="history-icon">
  <svg aria-hidden="true" height="16" viewBox="0 0 16 16" version="1.1" width="16" data-view-component="true" class="octicon octicon-history">
    <path d="m.427 1.927 1.215 1.215a8.002 8.002 0 1 1-1.6 5.685.75.75 0 1 1 1.493-.154 6.5 6.5 0 1 0 1.18-4.458l1.358 1.358A.25.25 0 0 1 3.896 6H.25A.25.25 0 0 1 0 5.75V2.104a.25.25 0 0 1 .427-.177ZM7.75 4a.75.75 0 0 1 .75.75v2.992l2.028.812a.75.75 0 0 1-.557 1.392l-2.5-1A.751.751 0 0 1 7 8.25v-3.5A.75.75 0 0 1 7.75 4Z"></path>
</svg>
</template>

<template id="repo-icon">
  <svg aria-hidden="true" height="16" viewBox="0 0 16 16" version="1.1" width="16" data-view-component="true" class="octicon octicon-repo">
    <path d="M2 2.5A2.5 2.5 0 0 1 4.5 0h8.75a.75.75 0 0 1 .75.75v12.5a.75.75 0 0 1-.75.75h-2.5a.75.75 0 0 1 0-1.5h1.75v-2h-8a1 1 0 0 0-.714 1.7.75.75 0 1 1-1.072 1.05A2.495 2.495 0 0 1 2 11.5Zm10.5-1h-8a1 1 0 0 0-1 1v6.708A2.486 2.486 0 0 1 4.5 9h8ZM5 12.25a.25.25 0 0 1 .25-.25h3.5a.25.25 0 0 1 .25.25v3.25a.25.25 0 0 1-.4.2l-1.45-1.087a.249.249 0 0 0-.3 0L5.4 15.7a.25.25 0 0 1-.4-.2Z"></path>
</svg>
</template>

<template id="bookmark-icon">
  <svg aria-hidden="true" height="16" viewBox="0 0 16 16" version="1.1" width="16" data-view-component="true" class="octicon octicon-bookmark">
    <path d="M3 2.75C3 1.784 3.784 1 4.75 1h6.5c.966 0 1.75.784 1.75 1.75v11.5a.75.75 0 0 1-1.227.579L8 11.722l-3.773 3.107A.751.751 0 0 1 3 14.25Zm1.75-.25a.25.25 0 0 0-.25.25v9.91l3.023-2.489a.75.75 0 0 1 .954 0l3.023 2.49V2.75a.25.25 0 0 0-.25-.25Z"></path>
</svg>
</template>

<template id="plus-circle-icon">
  <svg aria-hidden="true" height="16" viewBox="0 0 16 16" version="1.1" width="16" data-view-component="true" class="octicon octicon-plus-circle">
    <path d="M8 0a8 8 0 1 1 0 16A8 8 0 0 1 8 0ZM1.5 8a6.5 6.5 0 1 0 13 0 6.5 6.5 0 0 0-13 0Zm7.25-3.25v2.5h2.5a.75.75 0 0 1 0 1.5h-2.5v2.5a.75.75 0 0 1-1.5 0v-2.5h-2.5a.75.75 0 0 1 0-1.5h2.5v-2.5a.75.75 0 0 1 1.5 0Z"></path>
</svg>
</template>

<template id="circle-icon">
  <svg aria-hidden="true" height="16" viewBox="0 0 16 16" version="1.1" width="16" data-view-component="true" class="octicon octicon-dot-fill">
    <path d="M8 4a4 4 0 1 1 0 8 4 4 0 0 1 0-8Z"></path>
</svg>
</template>

<template id="trash-icon">
  <svg aria-hidden="true" height="16" viewBox="0 0 16 16" version="1.1" width="16" data-view-component="true" class="octicon octicon-trash">
    <path d="M11 1.75V3h2.25a.75.75 0 0 1 0 1.5H2.75a.75.75 0 0 1 0-1.5H5V1.75C5 .784 5.784 0 6.75 0h2.5C10.216 0 11 .784 11 1.75ZM4.496 6.675l.66 6.6a.25.25 0 0 0 .249.225h5.19a.25.25 0 0 0 .249-.225l.66-6.6a.75.75 0 0 1 1.492.149l-.66 6.6A1.748 1.748 0 0 1 10.595 15h-5.19a1.75 1.75 0 0 1-1.741-1.575l-.66-6.6a.75.75 0 1 1 1.492-.15ZM6.5 1.75V3h3V1.75a.25.25 0 0 0-.25-.25h-2.5a.25.25 0 0 0-.25.25Z"></path>
</svg>
</template>

<template id="team-icon">
  <svg aria-hidden="true" height="16" viewBox="0 0 16 16" version="1.1" width="16" data-view-component="true" class="octicon octicon-people">
    <path d="M2 5.5a3.5 3.5 0 1 1 5.898 2.549 5.508 5.508 0 0 1 3.034 4.084.75.75 0 1 1-1.482.235 4 4 0 0 0-7.9 0 .75.75 0 0 1-1.482-.236A5.507 5.507 0 0 1 3.102 8.05 3.493 3.493 0 0 1 2 5.5ZM11 4a3.001 3.001 0 0 1 2.22 5.018 5.01 5.01 0 0 1 2.56 3.012.749.749 0 0 1-.885.954.752.752 0 0 1-.549-.514 3.507 3.507 0 0 0-2.522-2.372.75.75 0 0 1-.574-.73v-.352a.75.75 0 0 1 .416-.672A1.5 1.5 0 0 0 11 5.5.75.75 0 0 1 11 4Zm-5.5-.5a2 2 0 1 0-.001 3.999A2 2 0 0 0 5.5 3.5Z"></path>
</svg>
</template>

<template id="project-icon">
  <svg aria-hidden="true" height="16" viewBox="0 0 16 16" version="1.1" width="16" data-view-component="true" class="octicon octicon-project">
    <path d="M1.75 0h12.5C15.216 0 16 .784 16 1.75v12.5A1.75 1.75 0 0 1 14.25 16H1.75A1.75 1.75 0 0 1 0 14.25V1.75C0 .784.784 0 1.75 0ZM1.5 1.75v12.5c0 .138.112.25.25.25h12.5a.25.25 0 0 0 .25-.25V1.75a.25.25 0 0 0-.25-.25H1.75a.25.25 0 0 0-.25.25ZM11.75 3a.75.75 0 0 1 .75.75v7.5a.75.75 0 0 1-1.5 0v-7.5a.75.75 0 0 1 .75-.75Zm-8.25.75a.75.75 0 0 1 1.5 0v5.5a.75.75 0 0 1-1.5 0ZM8 3a.75.75 0 0 1 .75.75v3.5a.75.75 0 0 1-1.5 0v-3.5A.75.75 0 0 1 8 3Z"></path>
</svg>
</template>

<template id="pencil-icon">
  <svg aria-hidden="true" height="16" viewBox="0 0 16 16" version="1.1" width="16" data-view-component="true" class="octicon octicon-pencil">
    <path d="M11.013 1.427a1.75 1.75 0 0 1 2.474 0l1.086 1.086a1.75 1.75 0 0 1 0 2.474l-8.61 8.61c-.21.21-.47.364-.756.445l-3.251.93a.75.75 0 0 1-.927-.928l.929-3.25c.081-.286.235-.547.445-.758l8.61-8.61Zm.176 4.823L9.75 4.81l-6.286 6.287a.253.253 0 0 0-.064.108l-.558 1.953 1.953-.558a.253.253 0 0 0 .108-.064Zm1.238-3.763a.25.25 0 0 0-.354 0L10.811 3.75l1.439 1.44 1.263-1.263a.25.25 0 0 0 0-.354Z"></path>
</svg>
</template>

        <div class="position-relative">
                <ul
                  role="listbox"
                  class="ActionListWrap QueryBuilder-ListWrap"
                  aria-label="Suggestions"
                  data-action="
                    combobox-commit:query-builder#comboboxCommit
                    mousedown:query-builder#resultsMousedown
                  "
                  data-target="query-builder.resultsList"
                  data-persist-list=false
                  id="query-builder-test-results"
                ></ul>
        </div>
    </div>
    <div data-target="query-builder.screenReaderFeedback" aria-live="polite" aria-atomic="true" class="sr-only"></div>
</query-builder></form>
          <div class="d-flex flex-row color-fg-muted px-3 text-small color-bg-default search-feedback-prompt">
            <a target="_blank" href="https://docs.github.com/en/search-github/github-code-search/understanding-github-code-search-syntax" data-view-component="true" class="color-fg-accent text-normal ml-2">
              Search syntax tips
</a>            <div class="d-flex flex-1"></div>
              <button data-action="click:qbsearch-input#showFeedbackDialog" type="button" data-view-component="true" class="Button--link Button--medium Button color-fg-accent text-normal ml-2">    <span class="Button-content">
      <span class="Button-label">Give feedback</span>
    </span>
</button>  
          </div>
        </div>
</div>

    </div>
</modal-dialog></div>
  </div>
  <div data-action="click:qbsearch-input#retract" class="dark-backdrop position-fixed width-full" hidden data-target="qbsearch-input.darkBackdrop"></div>
  <div class="color-fg-default">
    
<div class="Overlay--hidden Overlay-backdrop--center" data-modal-dialog-overlay>
  <modal-dialog data-target="qbsearch-input.feedbackDialog" data-action="close:qbsearch-input#handleDialogClose cancel:qbsearch-input#handleDialogClose" role="dialog" id="feedback-dialog" aria-modal="true" aria-disabled="true" aria-describedby="feedback-dialog-title feedback-dialog-description" data-view-component="true" class="Overlay Overlay-whenNarrow Overlay--size-medium Overlay--motion-scaleFade">
    <div data-view-component="true" class="Overlay-header">
  <div class="Overlay-headerContentWrap">
    <div class="Overlay-titleWrap">
      <h1 class="Overlay-title " id="feedback-dialog-title">
        Provide feedback
      </h1>
    </div>
    <div class="Overlay-actionWrap">
      <button data-close-dialog-id="feedback-dialog" aria-label="Close" type="button" data-view-component="true" class="close-button Overlay-closeButton"><svg aria-hidden="true" height="16" viewBox="0 0 16 16" version="1.1" width="16" data-view-component="true" class="octicon octicon-x">
    <path d="M3.72 3.72a.75.75 0 0 1 1.06 0L8 6.94l3.22-3.22a.749.749 0 0 1 1.275.326.749.749 0 0 1-.215.734L9.06 8l3.22 3.22a.749.749 0 0 1-.326 1.275.749.749 0 0 1-.734-.215L8 9.06l-3.22 3.22a.751.751 0 0 1-1.042-.018.751.751 0 0 1-.018-1.042L6.94 8 3.72 4.78a.75.75 0 0 1 0-1.06Z"></path>
</svg></button>
    </div>
  </div>
</div>
      <div data-view-component="true" class="Overlay-body">        <!-- '"` --><!-- </textarea></xmp> --></option></form><form id="code-search-feedback-form" data-turbo="false" action="/search/feedback" accept-charset="UTF-8" method="post"><input type="hidden" name="authenticity_token" value="BbmIRuUYLJGMDW-oq2lVt59ojYVh1mz4BVE5PWUvKQcB0yzzLdh0PoT4PM-ruu9xKv8nAmDNLffAxSmQsMErIA" />
          <p>We read every piece of feedback, and take your input very seriously.</p>
          <textarea name="feedback" class="form-control width-full mb-2" style="height: 120px" id="feedback"></textarea>
          <input name="include_email" id="include_email" aria-label="Include my email address so I can be contacted" class="form-control mr-2" type="checkbox">
          <label for="include_email" style="font-weight: normal">Include my email address so I can be contacted</label>
</form></div>
      <div data-view-component="true" class="Overlay-footer Overlay-footer--alignEnd">          <button data-close-dialog-id="feedback-dialog" type="button" data-view-component="true" class="btn">    Cancel
</button>
          <button form="code-search-feedback-form" data-action="click:qbsearch-input#submitFeedback" type="submit" data-view-component="true" class="btn-primary btn">    Submit feedback
</button>
</div>
</modal-dialog></div>

    <custom-scopes data-target="qbsearch-input.customScopesManager">
    
<div class="Overlay--hidden Overlay-backdrop--center" data-modal-dialog-overlay>
  <modal-dialog data-target="custom-scopes.customScopesModalDialog" data-action="close:qbsearch-input#handleDialogClose cancel:qbsearch-input#handleDialogClose" role="dialog" id="custom-scopes-dialog" aria-modal="true" aria-disabled="true" aria-describedby="custom-scopes-dialog-title custom-scopes-dialog-description" data-view-component="true" class="Overlay Overlay-whenNarrow Overlay--size-medium Overlay--motion-scaleFade">
    <div data-view-component="true" class="Overlay-header Overlay-header--divided">
  <div class="Overlay-headerContentWrap">
    <div class="Overlay-titleWrap">
      <h1 class="Overlay-title " id="custom-scopes-dialog-title">
        Saved searches
      </h1>
        <h2 id="custom-scopes-dialog-description" class="Overlay-description">Use saved searches to filter your results more quickly</h2>
    </div>
    <div class="Overlay-actionWrap">
      <button data-close-dialog-id="custom-scopes-dialog" aria-label="Close" type="button" data-view-component="true" class="close-button Overlay-closeButton"><svg aria-hidden="true" height="16" viewBox="0 0 16 16" version="1.1" width="16" data-view-component="true" class="octicon octicon-x">
    <path d="M3.72 3.72a.75.75 0 0 1 1.06 0L8 6.94l3.22-3.22a.749.749 0 0 1 1.275.326.749.749 0 0 1-.215.734L9.06 8l3.22 3.22a.749.749 0 0 1-.326 1.275.749.749 0 0 1-.734-.215L8 9.06l-3.22 3.22a.751.751 0 0 1-1.042-.018.751.751 0 0 1-.018-1.042L6.94 8 3.72 4.78a.75.75 0 0 1 0-1.06Z"></path>
</svg></button>
    </div>
  </div>
</div>
      <div data-view-component="true" class="Overlay-body">        <div data-target="custom-scopes.customScopesModalDialogFlash"></div>

        <div hidden class="create-custom-scope-form" data-target="custom-scopes.createCustomScopeForm">
        <!-- '"` --><!-- </textarea></xmp> --></option></form><form id="custom-scopes-dialog-form" data-turbo="false" action="/search/custom_scopes" accept-charset="UTF-8" method="post"><input type="hidden" name="authenticity_token" value="dmbOIA-VzncX4dxkmUm0m9-6fMzTWqQ8al1UQupcBnOs8lb1WYBp9U5r58HSaVCZjYbvSFPfnvtim3XPMF451Q" />
          <div data-target="custom-scopes.customScopesModalDialogFlash"></div>

          <input type="hidden" id="custom_scope_id" name="custom_scope_id" data-target="custom-scopes.customScopesIdField">

          <div class="form-group">
            <label for="custom_scope_name">Name</label>
            <auto-check src="/search/custom_scopes/check_name" required>
              <input
                type="text"
                name="custom_scope_name"
                id="custom_scope_name"
                data-target="custom-scopes.customScopesNameField"
                class="form-control"
                autocomplete="off"
                placeholder="github-ruby"
                required
                maxlength="50">
              <input type="hidden" value="GxWvvC2Nb0mvoBfcuW-uMhpvS0KifxSQLwPn803Llm_HTzz-J8CKKhoEPx1XH9o7EeeHiYoXEGQgoK85qHU70A" data-csrf="true" />
            </auto-check>
          </div>

          <div class="form-group">
            <label for="custom_scope_query">Query</label>
            <input
              type="text"
              name="custom_scope_query"
              id="custom_scope_query"
              data-target="custom-scopes.customScopesQueryField"
              class="form-control"
              autocomplete="off"
              placeholder="(repo:mona/a OR repo:mona/b) AND lang:python"
              required
              maxlength="500">
          </div>

          <p class="text-small color-fg-muted">
            To see all available qualifiers, see our <a href="https://docs.github.com/en/search-github/github-code-search/understanding-github-code-search-syntax">documentation</a>.
          </p>
</form>        </div>

        <div data-target="custom-scopes.manageCustomScopesForm">
          <div data-target="custom-scopes.list"></div>
        </div>

</div>
      <div data-view-component="true" class="Overlay-footer Overlay-footer--alignEnd Overlay-footer--divided">          <button data-action="click:custom-scopes#customScopesCancel" type="button" data-view-component="true" class="btn">    Cancel
</button>
          <button form="custom-scopes-dialog-form" data-action="click:custom-scopes#customScopesSubmit" data-target="custom-scopes.customScopesSubmitButton" type="submit" data-view-component="true" class="btn-primary btn">    Create saved search
</button>
</div>
</modal-dialog></div>
    </custom-scopes>
  </div>
</qbsearch-input><input type="hidden" value="bYgrGC7ZvUYaCZxeV7XrD6Xy-Uyule9z0XY1b1k5ObdmgwKxllW-sikPpXHG1709NQo5PSNf9LuN8Qtpr0hibQ" data-csrf="true" class="js-data-jump-to-suggestions-path-csrf" />

        <nav id="global-nav" class="d-flex flex-column flex-md-row flex-self-stretch flex-md-self-auto" aria-label="Global">
    <a class="Header-link py-md-3 d-block d-md-none py-2 border-top border-md-top-0 border-white-fade" data-ga-click="Header, click, Nav menu - item:dashboard:user" aria-label="Dashboard" data-turbo="false" href="/dashboard">Dashboard</a>

  <a class="js-selected-navigation-item Header-link mt-md-n3 mb-md-n3 py-2 py-md-3 mr-0 mr-md-3 border-top border-md-top-0 border-white-fade" data-hotkey="g p" data-ga-click="Header, click, Nav menu - item:pulls context:user" aria-label="Pull requests you created" data-turbo="false" data-selected-links="/pulls /pulls/assigned /pulls/mentioned /pulls" href="/pulls">
      Pull<span class="d-inline d-md-none d-lg-inline"> request</span>s
</a>
  <a class="js-selected-navigation-item Header-link mt-md-n3 mb-md-n3 py-2 py-md-3 mr-0 mr-md-3 border-top border-md-top-0 border-white-fade" data-hotkey="g i" data-ga-click="Header, click, Nav menu - item:issues context:user" aria-label="Issues you created" data-turbo="false" data-selected-links="/issues /issues/assigned /issues/mentioned /issues" href="/issues">Issues</a>

      <a class="js-selected-navigation-item Header-link mt-md-n3 mb-md-n3 py-2 py-md-3 mr-0 mr-md-3 border-top border-md-top-0 border-white-fade" data-ga-click="Header, click, Nav menu - item:workspaces context:user" data-turbo="false" data-selected-links="/codespaces /codespaces" href="/codespaces">Codespaces</a>

    <div class="d-flex position-relative">
      <a class="js-selected-navigation-item Header-link flex-auto mt-md-n3 mb-md-n3 py-2 py-md-3 mr-0 mr-md-3 border-top border-md-top-0 border-white-fade" data-ga-click="Header, click, Nav menu - item:marketplace context:user" data-octo-click="marketplace_click" data-octo-dimensions="location:nav_bar" data-turbo="false" data-selected-links=" /marketplace" href="/marketplace">Marketplace</a>
    </div>

  <a class="js-selected-navigation-item Header-link mt-md-n3 mb-md-n3 py-2 py-md-3 mr-0 mr-md-3 border-top border-md-top-0 border-white-fade" data-ga-click="Header, click, Nav menu - item:explore" data-turbo="false" data-selected-links="/explore /trending /trending/developers /integrations /integrations/feature/code /integrations/feature/collaborate /integrations/feature/ship showcases showcases_search showcases_landing /explore" href="/explore">Explore</a>

      <a class="js-selected-navigation-item Header-link d-block d-md-none py-2 py-md-3 border-top border-md-top-0 border-white-fade" data-ga-click="Header, click, Nav menu - item:Sponsors" data-hydro-click="{&quot;event_type&quot;:&quot;sponsors.button_click&quot;,&quot;payload&quot;:{&quot;button&quot;:&quot;HEADER_SPONSORS_DASHBOARD&quot;,&quot;sponsorable_login&quot;:&quot;suhaswarrior&quot;,&quot;originating_url&quot;:&quot;https://github.com/AVKavan/ML_Lab_6thSem/blob/main/Part-B/8B-AGNES_DIANA.ipynb&quot;,&quot;user_id&quot;:64247982}}" data-hydro-click-hmac="d0a492754507a495951e9f38ab0927c38429113158e380806a2206b47b9ad8e3" data-turbo="false" data-selected-links=" /sponsors/accounts" href="/sponsors/accounts">Sponsors</a>

    <a class="Header-link d-block d-md-none mr-0 mr-md-3 py-2 py-md-3 border-top border-md-top-0 border-white-fade" data-turbo="false" href="/settings/profile">Settings</a>

    <a class="Header-link d-block d-md-none mr-0 mr-md-3 py-2 py-md-3 border-top border-md-top-0 border-white-fade" data-turbo="false" href="/suhaswarrior">
      <img class="avatar avatar-user" loading="lazy" decoding="async" src="https://avatars.githubusercontent.com/u/64247982?s=40&amp;v=4" width="20" height="20" alt="@suhaswarrior" />
      suhaswarrior
</a>
    <!-- '"` --><!-- </textarea></xmp> --></option></form><form data-turbo="false" action="/logout" accept-charset="UTF-8" method="post"><input type="hidden" name="authenticity_token" value="82hJkACGmC2g-ba3rEY17W9C6ghNEn1WViEoPtMUGqCplfzhatmsVqG1lw_NWsfGNTn-OtA_e87r8SW6oFUhXw" />
      <button
        type="submit"
        class="Header-link mr-0 mr-md-3 py-2 py-md-3 border-top border-md-top-0 border-white-fade d-md-none btn-link d-block width-full text-left"
        style="padding-left: 2px;"
        data-analytics-event="{&quot;category&quot;:&quot;Header&quot;,&quot;action&quot;:&quot;sign out&quot;,&quot;label&quot;:&quot;icon:logout&quot;}"
      >
        <svg aria-hidden="true" height="16" viewBox="0 0 16 16" version="1.1" width="16" data-view-component="true" class="octicon octicon-sign-out v-align-middle">
    <path d="M2 2.75C2 1.784 2.784 1 3.75 1h2.5a.75.75 0 0 1 0 1.5h-2.5a.25.25 0 0 0-.25.25v10.5c0 .138.112.25.25.25h2.5a.75.75 0 0 1 0 1.5h-2.5A1.75 1.75 0 0 1 2 13.25Zm10.44 4.5-1.97-1.97a.749.749 0 0 1 .326-1.275.749.749 0 0 1 .734.215l3.25 3.25a.75.75 0 0 1 0 1.06l-3.25 3.25a.749.749 0 0 1-1.275-.326.749.749 0 0 1 .215-.734l1.97-1.97H6.75a.75.75 0 0 1 0-1.5Z"></path>
</svg>
        Sign out
      </button>
</form></nav>

    </div>

    <div class="Header-item Header-item--full flex-justify-center d-md-none position-relative">
        <a
  class="Header-link"
  href="https://github.com/"
  data-hotkey="g d"
  aria-label="Homepage "
  data-turbo="false"
  data-analytics-event="{&quot;category&quot;:&quot;Header&quot;,&quot;action&quot;:&quot;go to dashboard&quot;,&quot;label&quot;:&quot;icon:logo&quot;}"
>
  <svg height="32" aria-hidden="true" viewBox="0 0 16 16" version="1.1" width="32" data-view-component="true" class="octicon octicon-mark-github v-align-middle">
    <path d="M8 0c4.42 0 8 3.58 8 8a8.013 8.013 0 0 1-5.45 7.59c-.4.08-.55-.17-.55-.38 0-.27.01-1.13.01-2.2 0-.75-.25-1.23-.54-1.48 1.78-.2 3.65-.88 3.65-3.95 0-.88-.31-1.59-.82-2.15.08-.2.36-1.02-.08-2.12 0 0-.67-.22-2.2.82-.64-.18-1.32-.27-2-.27-.68 0-1.36.09-2 .27-1.53-1.03-2.2-.82-2.2-.82-.44 1.1-.16 1.92-.08 2.12-.51.56-.82 1.28-.82 2.15 0 3.06 1.86 3.75 3.64 3.95-.23.2-.44.55-.51 1.07-.46.21-1.61.55-2.33-.66-.15-.24-.6-.83-1.23-.82-.67.01-.27.38.01.53.34.19.73.9.82 1.13.16.45.68 1.31 2.69.94 0 .67.01 1.3.01 1.49 0 .21-.15.45-.55.38A7.995 7.995 0 0 1 0 8c0-4.42 3.58-8 8-8Z"></path>
</svg>
</a>

    </div>

    <div class="Header-item mr-0 mr-md-3 flex-order-1 flex-md-order-none">
        

<notification-indicator data-channel="eyJjIjoibm90aWZpY2F0aW9uLWNoYW5nZWQ6NjQyNDc5ODIiLCJ0IjoxNjg1Mjk1MzA3fQ==--d46fc5b3f3f03a2962ee2833cfb078dc0f9342b31f22fffd6f9afeddcd7f8158" data-indicator-mode="none" data-tooltip-global="You have unread notifications" data-tooltip-unavailable="Notifications are unavailable at the moment." data-tooltip-none="You have no unread notifications" data-fetch-indicator-src="/notifications/indicator" data-fetch-indicator-enabled="true" data-view-component="true" class="js-socket-channel">
  <a id="AppHeader-notifications-button" href="/notifications"
    class="Header-link notification-indicator position-relative tooltipped tooltipped-sw"

    

    data-hotkey="g n"
    data-target="notification-indicator.link"
    aria-label="Notifications"

      data-analytics-event="{&quot;category&quot;:&quot;Header&quot;,&quot;action&quot;:&quot;go to notifications&quot;,&quot;label&quot;:&quot;icon:read&quot;}"
  >

    <span
      data-target="notification-indicator.badge"
      class="mail-status unread" hidden>
    </span>

      <svg aria-hidden="true" height="16" viewBox="0 0 16 16" version="1.1" width="16" data-view-component="true" class="octicon octicon-bell">
    <path d="M8 16a2 2 0 0 0 1.985-1.75c.017-.137-.097-.25-.235-.25h-3.5c-.138 0-.252.113-.235.25A2 2 0 0 0 8 16ZM3 5a5 5 0 0 1 10 0v2.947c0 .05.015.098.042.139l1.703 2.555A1.519 1.519 0 0 1 13.482 13H2.518a1.516 1.516 0 0 1-1.263-2.36l1.703-2.554A.255.255 0 0 0 3 7.947Zm5-3.5A3.5 3.5 0 0 0 4.5 5v2.947c0 .346-.102.683-.294.97l-1.703 2.556a.017.017 0 0 0-.003.01l.001.006c0 .002.002.004.004.006l.006.004.007.001h10.964l.007-.001.006-.004.004-.006.001-.007a.017.017 0 0 0-.003-.01l-1.703-2.554a1.745 1.745 0 0 1-.294-.97V5A3.5 3.5 0 0 0 8 1.5Z"></path>
</svg>
  </a>

</notification-indicator>
    </div>


    <div class="Header-item position-relative d-none d-md-flex">
        <details class="details-overlay details-reset">
  <summary
    class="Header-link"
    aria-label="Create new…"
    data-analytics-event="{&quot;category&quot;:&quot;Header&quot;,&quot;action&quot;:&quot;create new&quot;,&quot;label&quot;:&quot;icon:add&quot;}"
  >
    <svg aria-hidden="true" height="16" viewBox="0 0 16 16" version="1.1" width="16" data-view-component="true" class="octicon octicon-plus">
    <path d="M7.75 2a.75.75 0 0 1 .75.75V7h4.25a.75.75 0 0 1 0 1.5H8.5v4.25a.75.75 0 0 1-1.5 0V8.5H2.75a.75.75 0 0 1 0-1.5H7V2.75A.75.75 0 0 1 7.75 2Z"></path>
</svg> <span class="dropdown-caret"></span>
  </summary>
  <details-menu class="dropdown-menu dropdown-menu-sw">
    
<a role="menuitem" class="dropdown-item" href="/new" data-ga-click="Header, create new repository">
  New repository
</a>

  <a role="menuitem" class="dropdown-item" href="/new/import" data-ga-click="Header, import a repository">
    Import repository
  </a>

  <a role="menuitem" class="dropdown-item" href="/codespaces/new">
    New codespace
  </a>

<a role="menuitem" class="dropdown-item" href="https://gist.github.com/" data-ga-click="Header, create new gist">
  New gist
</a>

  <a role="menuitem" class="dropdown-item" href="/organizations/new" data-ga-click="Header, create new organization">
    New organization
  </a>



  </details-menu>
</details>

    </div>

    <div class="Header-item position-relative mr-0 d-none d-md-flex">
        
  <details class="details-overlay details-reset js-feature-preview-indicator-container" data-feature-preview-indicator-src="/users/suhaswarrior/feature_preview/indicator_check">

  <summary
    class="Header-link"
    aria-label="View profile and more"
    data-analytics-event="{&quot;category&quot;:&quot;Header&quot;,&quot;action&quot;:&quot;show menu&quot;,&quot;label&quot;:&quot;icon:avatar&quot;}"
  >
    <img src="https://avatars.githubusercontent.com/u/64247982?s=40&amp;v=4" alt="@suhaswarrior" size="20" height="20" width="20" data-view-component="true" class="avatar avatar-small circle" />
      <span class="unread-indicator js-feature-preview-indicator" style="top: 1px;" hidden></span>
    <span class="dropdown-caret"></span>
  </summary>
  <details-menu
      class="dropdown-menu dropdown-menu-sw"
      style="width: 180px"
      
      preload>
      <include-fragment src="/users/64247982/menu" loading="lazy">
        <p class="text-center mt-3" data-hide-on-error>
          <svg style="box-sizing: content-box; color: var(--color-icon-primary);" width="32" height="32" viewBox="0 0 16 16" fill="none" data-view-component="true" class="anim-rotate">
  <circle cx="8" cy="8" r="7" stroke="currentColor" stroke-opacity="0.25" stroke-width="2" vector-effect="non-scaling-stroke" />
  <path d="M15 8a7.002 7.002 0 00-7-7" stroke="currentColor" stroke-width="2" stroke-linecap="round" vector-effect="non-scaling-stroke" />
</svg>
        </p>
        <p class="ml-1 mb-2 mt-2 color-fg-default" data-show-on-error>
          <svg aria-hidden="true" height="16" viewBox="0 0 16 16" version="1.1" width="16" data-view-component="true" class="octicon octicon-alert">
    <path d="M6.457 1.047c.659-1.234 2.427-1.234 3.086 0l6.082 11.378A1.75 1.75 0 0 1 14.082 15H1.918a1.75 1.75 0 0 1-1.543-2.575Zm1.763.707a.25.25 0 0 0-.44 0L1.698 13.132a.25.25 0 0 0 .22.368h12.164a.25.25 0 0 0 .22-.368Zm.53 3.996v2.5a.75.75 0 0 1-1.5 0v-2.5a.75.75 0 0 1 1.5 0ZM9 11a1 1 0 1 1-2 0 1 1 0 0 1 2 0Z"></path>
</svg>
          Sorry, something went wrong.
        </p>
      </include-fragment>
  </details-menu>
</details>

    </div>
</header>

          
    </div>

  <div id="start-of-content" class="show-on-focus"></div>








    <div id="js-flash-container" data-turbo-replace>





  <template class="js-flash-template">
    
<div class="flash flash-full   {{ className }}">
  <div class="px-2" >
    <button autofocus class="flash-close js-flash-close" type="button" aria-label="Dismiss this message">
      <svg aria-hidden="true" height="16" viewBox="0 0 16 16" version="1.1" width="16" data-view-component="true" class="octicon octicon-x">
    <path d="M3.72 3.72a.75.75 0 0 1 1.06 0L8 6.94l3.22-3.22a.749.749 0 0 1 1.275.326.749.749 0 0 1-.215.734L9.06 8l3.22 3.22a.749.749 0 0 1-.326 1.275.749.749 0 0 1-.734-.215L8 9.06l-3.22 3.22a.751.751 0 0 1-1.042-.018.751.751 0 0 1-.018-1.042L6.94 8 3.72 4.78a.75.75 0 0 1 0-1.06Z"></path>
</svg>
    </button>
    <div aria-atomic="true" role="alert" class="js-flash-alert">
      
      <div>{{ message }}</div>

    </div>
  </div>
</div>
  </template>
</div>


    
    <notification-shelf-watcher data-base-url="https://github.com/notifications/beta/shelf" data-channel="eyJjIjoibm90aWZpY2F0aW9uLWNoYW5nZWQ6NjQyNDc5ODIiLCJ0IjoxNjg1Mjk1MzA3fQ==--d46fc5b3f3f03a2962ee2833cfb078dc0f9342b31f22fffd6f9afeddcd7f8158" data-view-component="true" class="js-socket-channel"></notification-shelf-watcher>
  <div hidden data-initial data-target="notification-shelf-watcher.placeholder"></div>






      <details
  class="details-reset details-overlay details-overlay-dark js-command-palette-dialog"
  id="command-palette-pjax-container"
  data-turbo-replace
>
  <summary aria-label="command palette trigger" tabindex="-1"></summary>
  <details-dialog class="command-palette-details-dialog d-flex flex-column flex-justify-center height-fit" aria-label="command palette">
    <command-palette
      class="command-palette color-bg-default rounded-3 border color-shadow-small"
      return-to=/AVKavan/ML_Lab_6thSem/blob/main/Part-B/8B-AGNES_DIANA.ipynb
      user-id="64247982"
      activation-hotkey="Mod+k,Mod+Alt+k"
      command-mode-hotkey="Mod+Shift+k"
      data-action="
        command-palette-input-ready:command-palette#inputReady
        command-palette-page-stack-updated:command-palette#updateInputScope
        itemsUpdated:command-palette#itemsUpdated
        keydown:command-palette#onKeydown
        loadingStateChanged:command-palette#loadingStateChanged
        selectedItemChanged:command-palette#selectedItemChanged
        pageFetchError:command-palette#pageFetchError
      ">

        <command-palette-mode
          data-char="#"
            data-scope-types="[&quot;&quot;]"
            data-placeholder="Search issues and pull requests"
        ></command-palette-mode>
        <command-palette-mode
          data-char="#"
            data-scope-types="[&quot;owner&quot;,&quot;repository&quot;]"
            data-placeholder="Search issues, pull requests, discussions, and projects"
        ></command-palette-mode>
        <command-palette-mode
          data-char="!"
            data-scope-types="[&quot;owner&quot;,&quot;repository&quot;]"
            data-placeholder="Search projects"
        ></command-palette-mode>
        <command-palette-mode
          data-char="@"
            data-scope-types="[&quot;&quot;]"
            data-placeholder="Search or jump to a user, organization, or repository"
        ></command-palette-mode>
        <command-palette-mode
          data-char="@"
            data-scope-types="[&quot;owner&quot;]"
            data-placeholder="Search or jump to a repository"
        ></command-palette-mode>
        <command-palette-mode
          data-char="/"
            data-scope-types="[&quot;repository&quot;]"
            data-placeholder="Search files"
        ></command-palette-mode>
        <command-palette-mode
          data-char="?"
        ></command-palette-mode>
        <command-palette-mode
          data-char="&gt;"
            data-placeholder="Run a command"
        ></command-palette-mode>
        <command-palette-mode
          data-char=""
            data-scope-types="[&quot;&quot;]"
            data-placeholder="Search or jump to..."
        ></command-palette-mode>
        <command-palette-mode
          data-char=""
            data-scope-types="[&quot;owner&quot;]"
            data-placeholder="Search or jump to..."
        ></command-palette-mode>
      <command-palette-mode
        class="js-command-palette-default-mode"
        data-char=""
        data-placeholder="Search or jump to..."
      ></command-palette-mode>

      <command-palette-input placeholder="Search or jump to..."

        data-action="
          command-palette-input:command-palette#onInput
          command-palette-select:command-palette#onSelect
          command-palette-descope:command-palette#onDescope
          command-palette-cleared:command-palette#onInputClear
        "
      >
        <div class="js-search-icon d-flex flex-items-center mr-2" style="height: 26px">
          <svg aria-hidden="true" height="16" viewBox="0 0 16 16" version="1.1" width="16" data-view-component="true" class="octicon octicon-search color-fg-muted">
    <path d="M10.68 11.74a6 6 0 0 1-7.922-8.982 6 6 0 0 1 8.982 7.922l3.04 3.04a.749.749 0 0 1-.326 1.275.749.749 0 0 1-.734-.215ZM11.5 7a4.499 4.499 0 1 0-8.997 0A4.499 4.499 0 0 0 11.5 7Z"></path>
</svg>
        </div>
        <div class="js-spinner d-flex flex-items-center mr-2 color-fg-muted" hidden>
          <svg aria-label="Loading" class="anim-rotate" viewBox="0 0 16 16" fill="none" width="16" height="16">
            <circle
              cx="8"
              cy="8"
              r="7"
              stroke="currentColor"
              stroke-opacity="0.25"
              stroke-width="2"
              vector-effect="non-scaling-stroke"
            ></circle>
            <path
              d="M15 8a7.002 7.002 0 00-7-7"
              stroke="currentColor"
              stroke-width="2"
              stroke-linecap="round"
              vector-effect="non-scaling-stroke"
            ></path>
          </svg>
        </div>
        <command-palette-scope >
          <div data-target="command-palette-scope.placeholder" hidden class="color-fg-subtle">/&nbsp;&nbsp;<span class="text-semibold color-fg-default">...</span>&nbsp;&nbsp;/&nbsp;&nbsp;</div>
              <command-palette-token
                data-text="AVKavan"
                data-id="U_kgDOBmz6Xg"
                data-type="owner"
                data-value="AVKavan"
                data-targets="command-palette-scope.tokens"
                class="color-fg-default text-semibold"
                style="white-space:nowrap;line-height:20px;"
                >AVKavan<span class="color-fg-subtle text-normal">&nbsp;&nbsp;/&nbsp;&nbsp;</span></command-palette-token>
              <command-palette-token
                data-text="ML_Lab_6thSem"
                data-id="R_kgDOJcHfvg"
                data-type="repository"
                data-value="ML_Lab_6thSem"
                data-targets="command-palette-scope.tokens"
                class="color-fg-default text-semibold"
                style="white-space:nowrap;line-height:20px;"
                >ML_Lab_6thSem<span class="color-fg-subtle text-normal">&nbsp;&nbsp;/&nbsp;&nbsp;</span></command-palette-token>
        </command-palette-scope>
        <div class="command-palette-input-group flex-1 form-control border-0 box-shadow-none" style="z-index: 0">
          <div class="command-palette-typeahead position-absolute d-flex flex-items-center Truncate">
            <span class="typeahead-segment input-mirror" data-target="command-palette-input.mirror"></span>
            <span class="Truncate-text" data-target="command-palette-input.typeaheadText"></span>
            <span class="typeahead-segment" data-target="command-palette-input.typeaheadPlaceholder"></span>
          </div>
          <input
            class="js-overlay-input typeahead-input d-none"
            disabled
            tabindex="-1"
            aria-label="Hidden input for typeahead"
          >
          <input
            type="text"
            autocomplete="off"
            autocorrect="off"
            autocapitalize="off"
            spellcheck="false"
            class="js-input typeahead-input form-control border-0 box-shadow-none input-block width-full no-focus-indicator"
            aria-label="Command palette input"
            aria-haspopup="listbox"
            aria-expanded="false"
            aria-autocomplete="list"
            aria-controls="command-palette-page-stack"
            role="combobox"
            data-action="
              input:command-palette-input#onInput
              keydown:command-palette-input#onKeydown
            "
          >
        </div>
          <div data-view-component="true" class="position-relative d-inline-block">
    <button aria-keyshortcuts="Control+Backspace" data-action="click:command-palette-input#onClear keypress:command-palette-input#onClear" data-target="command-palette-input.clearButton" id="command-palette-clear-button" hidden="hidden" type="button" data-view-component="true" class="btn-octicon command-palette-input-clear-button">      <svg aria-hidden="true" height="16" viewBox="0 0 16 16" version="1.1" width="16" data-view-component="true" class="octicon octicon-x-circle-fill">
    <path d="M2.343 13.657A8 8 0 1 1 13.658 2.343 8 8 0 0 1 2.343 13.657ZM6.03 4.97a.751.751 0 0 0-1.042.018.751.751 0 0 0-.018 1.042L6.94 8 4.97 9.97a.749.749 0 0 0 .326 1.275.749.749 0 0 0 .734-.215L8 9.06l1.97 1.97a.749.749 0 0 0 1.275-.326.749.749 0 0 0-.215-.734L9.06 8l1.97-1.97a.749.749 0 0 0-.326-1.275.749.749 0 0 0-.734.215L8 6.94Z"></path>
</svg>
</button>    <tool-tip id="tooltip-a1b5927c-422e-4a47-bd17-7eef00f38b48" for="command-palette-clear-button" data-direction="w" data-type="label" data-view-component="true" class="sr-only position-absolute">Clear Command Palette</tool-tip>
</div>
      </command-palette-input>

      <command-palette-page-stack
        data-default-scope-id="R_kgDOJcHfvg"
        data-default-scope-type="Repository"
        data-action="command-palette-page-octicons-cached:command-palette-page-stack#cacheOcticons"
      >
          <command-palette-tip
            class="color-fg-muted f6 px-3 py-1 my-2"
              data-scope-types="[&quot;&quot;,&quot;owner&quot;,&quot;repository&quot;]"
            data-mode=""
            data-value="">
            <div class="d-flex flex-items-start flex-justify-between">
              <div>
                <span class="text-bold">Tip:</span>
                  Type <kbd class="hx_kbd">#</kbd> to search pull requests
              </div>
              <div class="ml-2 flex-shrink-0">
                Type <kbd class="hx_kbd">?</kbd> for help and tips
              </div>
            </div>
          </command-palette-tip>
          <command-palette-tip
            class="color-fg-muted f6 px-3 py-1 my-2"
              data-scope-types="[&quot;&quot;,&quot;owner&quot;,&quot;repository&quot;]"
            data-mode=""
            data-value="">
            <div class="d-flex flex-items-start flex-justify-between">
              <div>
                <span class="text-bold">Tip:</span>
                  Type <kbd class="hx_kbd">#</kbd> to search issues
              </div>
              <div class="ml-2 flex-shrink-0">
                Type <kbd class="hx_kbd">?</kbd> for help and tips
              </div>
            </div>
          </command-palette-tip>
          <command-palette-tip
            class="color-fg-muted f6 px-3 py-1 my-2"
              data-scope-types="[&quot;owner&quot;,&quot;repository&quot;]"
            data-mode=""
            data-value="">
            <div class="d-flex flex-items-start flex-justify-between">
              <div>
                <span class="text-bold">Tip:</span>
                  Type <kbd class="hx_kbd">#</kbd> to search discussions
              </div>
              <div class="ml-2 flex-shrink-0">
                Type <kbd class="hx_kbd">?</kbd> for help and tips
              </div>
            </div>
          </command-palette-tip>
          <command-palette-tip
            class="color-fg-muted f6 px-3 py-1 my-2"
              data-scope-types="[&quot;owner&quot;,&quot;repository&quot;]"
            data-mode=""
            data-value="">
            <div class="d-flex flex-items-start flex-justify-between">
              <div>
                <span class="text-bold">Tip:</span>
                  Type <kbd class="hx_kbd">!</kbd> to search projects
              </div>
              <div class="ml-2 flex-shrink-0">
                Type <kbd class="hx_kbd">?</kbd> for help and tips
              </div>
            </div>
          </command-palette-tip>
          <command-palette-tip
            class="color-fg-muted f6 px-3 py-1 my-2"
              data-scope-types="[&quot;owner&quot;]"
            data-mode=""
            data-value="">
            <div class="d-flex flex-items-start flex-justify-between">
              <div>
                <span class="text-bold">Tip:</span>
                  Type <kbd class="hx_kbd">@</kbd> to search teams
              </div>
              <div class="ml-2 flex-shrink-0">
                Type <kbd class="hx_kbd">?</kbd> for help and tips
              </div>
            </div>
          </command-palette-tip>
          <command-palette-tip
            class="color-fg-muted f6 px-3 py-1 my-2"
              data-scope-types="[&quot;&quot;]"
            data-mode=""
            data-value="">
            <div class="d-flex flex-items-start flex-justify-between">
              <div>
                <span class="text-bold">Tip:</span>
                  Type <kbd class="hx_kbd">@</kbd> to search people and organizations
              </div>
              <div class="ml-2 flex-shrink-0">
                Type <kbd class="hx_kbd">?</kbd> for help and tips
              </div>
            </div>
          </command-palette-tip>
          <command-palette-tip
            class="color-fg-muted f6 px-3 py-1 my-2"
              data-scope-types="[&quot;&quot;,&quot;owner&quot;,&quot;repository&quot;]"
            data-mode=""
            data-value="">
            <div class="d-flex flex-items-start flex-justify-between">
              <div>
                <span class="text-bold">Tip:</span>
                  Type <kbd class="hx_kbd">&gt;</kbd> to activate command mode
              </div>
              <div class="ml-2 flex-shrink-0">
                Type <kbd class="hx_kbd">?</kbd> for help and tips
              </div>
            </div>
          </command-palette-tip>
          <command-palette-tip
            class="color-fg-muted f6 px-3 py-1 my-2"
              data-scope-types="[&quot;&quot;,&quot;owner&quot;,&quot;repository&quot;]"
            data-mode=""
            data-value="">
            <div class="d-flex flex-items-start flex-justify-between">
              <div>
                <span class="text-bold">Tip:</span>
                  Go to your accessibility settings to change your keyboard shortcuts
              </div>
              <div class="ml-2 flex-shrink-0">
                Type <kbd class="hx_kbd">?</kbd> for help and tips
              </div>
            </div>
          </command-palette-tip>
          <command-palette-tip
            class="color-fg-muted f6 px-3 py-1 my-2"
              data-scope-types="[&quot;&quot;,&quot;owner&quot;,&quot;repository&quot;]"
            data-mode="#"
            data-value="">
            <div class="d-flex flex-items-start flex-justify-between">
              <div>
                <span class="text-bold">Tip:</span>
                  Type author:@me to search your content
              </div>
              <div class="ml-2 flex-shrink-0">
                Type <kbd class="hx_kbd">?</kbd> for help and tips
              </div>
            </div>
          </command-palette-tip>
          <command-palette-tip
            class="color-fg-muted f6 px-3 py-1 my-2"
              data-scope-types="[&quot;&quot;,&quot;owner&quot;,&quot;repository&quot;]"
            data-mode="#"
            data-value="">
            <div class="d-flex flex-items-start flex-justify-between">
              <div>
                <span class="text-bold">Tip:</span>
                  Type is:pr to filter to pull requests
              </div>
              <div class="ml-2 flex-shrink-0">
                Type <kbd class="hx_kbd">?</kbd> for help and tips
              </div>
            </div>
          </command-palette-tip>
          <command-palette-tip
            class="color-fg-muted f6 px-3 py-1 my-2"
              data-scope-types="[&quot;&quot;,&quot;owner&quot;,&quot;repository&quot;]"
            data-mode="#"
            data-value="">
            <div class="d-flex flex-items-start flex-justify-between">
              <div>
                <span class="text-bold">Tip:</span>
                  Type is:issue to filter to issues
              </div>
              <div class="ml-2 flex-shrink-0">
                Type <kbd class="hx_kbd">?</kbd> for help and tips
              </div>
            </div>
          </command-palette-tip>
          <command-palette-tip
            class="color-fg-muted f6 px-3 py-1 my-2"
              data-scope-types="[&quot;owner&quot;,&quot;repository&quot;]"
            data-mode="#"
            data-value="">
            <div class="d-flex flex-items-start flex-justify-between">
              <div>
                <span class="text-bold">Tip:</span>
                  Type is:project to filter to projects
              </div>
              <div class="ml-2 flex-shrink-0">
                Type <kbd class="hx_kbd">?</kbd> for help and tips
              </div>
            </div>
          </command-palette-tip>
          <command-palette-tip
            class="color-fg-muted f6 px-3 py-1 my-2"
              data-scope-types="[&quot;&quot;,&quot;owner&quot;,&quot;repository&quot;]"
            data-mode="#"
            data-value="">
            <div class="d-flex flex-items-start flex-justify-between">
              <div>
                <span class="text-bold">Tip:</span>
                  Type is:open to filter to open content
              </div>
              <div class="ml-2 flex-shrink-0">
                Type <kbd class="hx_kbd">?</kbd> for help and tips
              </div>
            </div>
          </command-palette-tip>
        <command-palette-tip class="mx-3 my-2 flash flash-error d-flex flex-items-center" data-scope-types="*" data-on-error>
          <div>
            <svg aria-hidden="true" height="16" viewBox="0 0 16 16" version="1.1" width="16" data-view-component="true" class="octicon octicon-alert">
    <path d="M6.457 1.047c.659-1.234 2.427-1.234 3.086 0l6.082 11.378A1.75 1.75 0 0 1 14.082 15H1.918a1.75 1.75 0 0 1-1.543-2.575Zm1.763.707a.25.25 0 0 0-.44 0L1.698 13.132a.25.25 0 0 0 .22.368h12.164a.25.25 0 0 0 .22-.368Zm.53 3.996v2.5a.75.75 0 0 1-1.5 0v-2.5a.75.75 0 0 1 1.5 0ZM9 11a1 1 0 1 1-2 0 1 1 0 0 1 2 0Z"></path>
</svg>
          </div>
          <div class="px-2">
            We’ve encountered an error and some results aren't available at this time. Type a new search or try again later.
          </div>
        </command-palette-tip>
        <command-palette-tip class="h4 color-fg-default pl-3 pb-2 pt-3" data-on-empty data-scope-types="*" data-match-mode="[^?]|^$">
          No results matched your search
        </command-palette-tip>

        <div hidden>

            <div data-targets="command-palette-page-stack.localOcticons" data-octicon-id="arrow-right-color-fg-muted">
              <svg height="16" class="octicon octicon-arrow-right color-fg-muted" viewBox="0 0 16 16" version="1.1" width="16" aria-hidden="true"><path d="M8.22 2.97a.75.75 0 0 1 1.06 0l4.25 4.25a.75.75 0 0 1 0 1.06l-4.25 4.25a.751.751 0 0 1-1.042-.018.751.751 0 0 1-.018-1.042l2.97-2.97H3.75a.75.75 0 0 1 0-1.5h7.44L8.22 4.03a.75.75 0 0 1 0-1.06Z"></path></svg>
            </div>
            <div data-targets="command-palette-page-stack.localOcticons" data-octicon-id="arrow-right-color-fg-default">
              <svg height="16" class="octicon octicon-arrow-right color-fg-default" viewBox="0 0 16 16" version="1.1" width="16" aria-hidden="true"><path d="M8.22 2.97a.75.75 0 0 1 1.06 0l4.25 4.25a.75.75 0 0 1 0 1.06l-4.25 4.25a.751.751 0 0 1-1.042-.018.751.751 0 0 1-.018-1.042l2.97-2.97H3.75a.75.75 0 0 1 0-1.5h7.44L8.22 4.03a.75.75 0 0 1 0-1.06Z"></path></svg>
            </div>
            <div data-targets="command-palette-page-stack.localOcticons" data-octicon-id="codespaces-color-fg-muted">
              <svg height="16" class="octicon octicon-codespaces color-fg-muted" viewBox="0 0 16 16" version="1.1" width="16" aria-hidden="true"><path d="M0 11.25c0-.966.784-1.75 1.75-1.75h12.5c.966 0 1.75.784 1.75 1.75v3A1.75 1.75 0 0 1 14.25 16H1.75A1.75 1.75 0 0 1 0 14.25Zm2-9.5C2 .784 2.784 0 3.75 0h8.5C13.216 0 14 .784 14 1.75v5a1.75 1.75 0 0 1-1.75 1.75h-8.5A1.75 1.75 0 0 1 2 6.75Zm1.75-.25a.25.25 0 0 0-.25.25v5c0 .138.112.25.25.25h8.5a.25.25 0 0 0 .25-.25v-5a.25.25 0 0 0-.25-.25Zm-2 9.5a.25.25 0 0 0-.25.25v3c0 .138.112.25.25.25h12.5a.25.25 0 0 0 .25-.25v-3a.25.25 0 0 0-.25-.25Z"></path><path d="M7 12.75a.75.75 0 0 1 .75-.75h4.5a.75.75 0 0 1 0 1.5h-4.5a.75.75 0 0 1-.75-.75Zm-4 0a.75.75 0 0 1 .75-.75h.5a.75.75 0 0 1 0 1.5h-.5a.75.75 0 0 1-.75-.75Z"></path></svg>
            </div>
            <div data-targets="command-palette-page-stack.localOcticons" data-octicon-id="copy-color-fg-muted">
              <svg height="16" class="octicon octicon-copy color-fg-muted" viewBox="0 0 16 16" version="1.1" width="16" aria-hidden="true"><path d="M0 6.75C0 5.784.784 5 1.75 5h1.5a.75.75 0 0 1 0 1.5h-1.5a.25.25 0 0 0-.25.25v7.5c0 .138.112.25.25.25h7.5a.25.25 0 0 0 .25-.25v-1.5a.75.75 0 0 1 1.5 0v1.5A1.75 1.75 0 0 1 9.25 16h-7.5A1.75 1.75 0 0 1 0 14.25Z"></path><path d="M5 1.75C5 .784 5.784 0 6.75 0h7.5C15.216 0 16 .784 16 1.75v7.5A1.75 1.75 0 0 1 14.25 11h-7.5A1.75 1.75 0 0 1 5 9.25Zm1.75-.25a.25.25 0 0 0-.25.25v7.5c0 .138.112.25.25.25h7.5a.25.25 0 0 0 .25-.25v-7.5a.25.25 0 0 0-.25-.25Z"></path></svg>
            </div>
            <div data-targets="command-palette-page-stack.localOcticons" data-octicon-id="dash-color-fg-muted">
              <svg height="16" class="octicon octicon-dash color-fg-muted" viewBox="0 0 16 16" version="1.1" width="16" aria-hidden="true"><path d="M2 7.75A.75.75 0 0 1 2.75 7h10a.75.75 0 0 1 0 1.5h-10A.75.75 0 0 1 2 7.75Z"></path></svg>
            </div>
            <div data-targets="command-palette-page-stack.localOcticons" data-octicon-id="file-color-fg-muted">
              <svg height="16" class="octicon octicon-file color-fg-muted" viewBox="0 0 16 16" version="1.1" width="16" aria-hidden="true"><path d="M2 1.75C2 .784 2.784 0 3.75 0h6.586c.464 0 .909.184 1.237.513l2.914 2.914c.329.328.513.773.513 1.237v9.586A1.75 1.75 0 0 1 13.25 16h-9.5A1.75 1.75 0 0 1 2 14.25Zm1.75-.25a.25.25 0 0 0-.25.25v12.5c0 .138.112.25.25.25h9.5a.25.25 0 0 0 .25-.25V6h-2.75A1.75 1.75 0 0 1 9 4.25V1.5Zm6.75.062V4.25c0 .138.112.25.25.25h2.688l-.011-.013-2.914-2.914-.013-.011Z"></path></svg>
            </div>
            <div data-targets="command-palette-page-stack.localOcticons" data-octicon-id="gear-color-fg-muted">
              <svg height="16" class="octicon octicon-gear color-fg-muted" viewBox="0 0 16 16" version="1.1" width="16" aria-hidden="true"><path d="M8 0a8.2 8.2 0 0 1 .701.031C9.444.095 9.99.645 10.16 1.29l.288 1.107c.018.066.079.158.212.224.231.114.454.243.668.386.123.082.233.09.299.071l1.103-.303c.644-.176 1.392.021 1.82.63.27.385.506.792.704 1.218.315.675.111 1.422-.364 1.891l-.814.806c-.049.048-.098.147-.088.294.016.257.016.515 0 .772-.01.147.038.246.088.294l.814.806c.475.469.679 1.216.364 1.891a7.977 7.977 0 0 1-.704 1.217c-.428.61-1.176.807-1.82.63l-1.102-.302c-.067-.019-.177-.011-.3.071a5.909 5.909 0 0 1-.668.386c-.133.066-.194.158-.211.224l-.29 1.106c-.168.646-.715 1.196-1.458 1.26a8.006 8.006 0 0 1-1.402 0c-.743-.064-1.289-.614-1.458-1.26l-.289-1.106c-.018-.066-.079-.158-.212-.224a5.738 5.738 0 0 1-.668-.386c-.123-.082-.233-.09-.299-.071l-1.103.303c-.644.176-1.392-.021-1.82-.63a8.12 8.12 0 0 1-.704-1.218c-.315-.675-.111-1.422.363-1.891l.815-.806c.05-.048.098-.147.088-.294a6.214 6.214 0 0 1 0-.772c.01-.147-.038-.246-.088-.294l-.815-.806C.635 6.045.431 5.298.746 4.623a7.92 7.92 0 0 1 .704-1.217c.428-.61 1.176-.807 1.82-.63l1.102.302c.067.019.177.011.3-.071.214-.143.437-.272.668-.386.133-.066.194-.158.211-.224l.29-1.106C6.009.645 6.556.095 7.299.03 7.53.01 7.764 0 8 0Zm-.571 1.525c-.036.003-.108.036-.137.146l-.289 1.105c-.147.561-.549.967-.998 1.189-.173.086-.34.183-.5.29-.417.278-.97.423-1.529.27l-1.103-.303c-.109-.03-.175.016-.195.045-.22.312-.412.644-.573.99-.014.031-.021.11.059.19l.815.806c.411.406.562.957.53 1.456a4.709 4.709 0 0 0 0 .582c.032.499-.119 1.05-.53 1.456l-.815.806c-.081.08-.073.159-.059.19.162.346.353.677.573.989.02.03.085.076.195.046l1.102-.303c.56-.153 1.113-.008 1.53.27.161.107.328.204.501.29.447.222.85.629.997 1.189l.289 1.105c.029.109.101.143.137.146a6.6 6.6 0 0 0 1.142 0c.036-.003.108-.036.137-.146l.289-1.105c.147-.561.549-.967.998-1.189.173-.086.34-.183.5-.29.417-.278.97-.423 1.529-.27l1.103.303c.109.029.175-.016.195-.045.22-.313.411-.644.573-.99.014-.031.021-.11-.059-.19l-.815-.806c-.411-.406-.562-.957-.53-1.456a4.709 4.709 0 0 0 0-.582c-.032-.499.119-1.05.53-1.456l.815-.806c.081-.08.073-.159.059-.19a6.464 6.464 0 0 0-.573-.989c-.02-.03-.085-.076-.195-.046l-1.102.303c-.56.153-1.113.008-1.53-.27a4.44 4.44 0 0 0-.501-.29c-.447-.222-.85-.629-.997-1.189l-.289-1.105c-.029-.11-.101-.143-.137-.146a6.6 6.6 0 0 0-1.142 0ZM11 8a3 3 0 1 1-6 0 3 3 0 0 1 6 0ZM9.5 8a1.5 1.5 0 1 0-3.001.001A1.5 1.5 0 0 0 9.5 8Z"></path></svg>
            </div>
            <div data-targets="command-palette-page-stack.localOcticons" data-octicon-id="lock-color-fg-muted">
              <svg height="16" class="octicon octicon-lock color-fg-muted" viewBox="0 0 16 16" version="1.1" width="16" aria-hidden="true"><path d="M4 4a4 4 0 0 1 8 0v2h.25c.966 0 1.75.784 1.75 1.75v5.5A1.75 1.75 0 0 1 12.25 15h-8.5A1.75 1.75 0 0 1 2 13.25v-5.5C2 6.784 2.784 6 3.75 6H4Zm8.25 3.5h-8.5a.25.25 0 0 0-.25.25v5.5c0 .138.112.25.25.25h8.5a.25.25 0 0 0 .25-.25v-5.5a.25.25 0 0 0-.25-.25ZM10.5 6V4a2.5 2.5 0 1 0-5 0v2Z"></path></svg>
            </div>
            <div data-targets="command-palette-page-stack.localOcticons" data-octicon-id="moon-color-fg-muted">
              <svg height="16" class="octicon octicon-moon color-fg-muted" viewBox="0 0 16 16" version="1.1" width="16" aria-hidden="true"><path d="M9.598 1.591a.749.749 0 0 1 .785-.175 7.001 7.001 0 1 1-8.967 8.967.75.75 0 0 1 .961-.96 5.5 5.5 0 0 0 7.046-7.046.75.75 0 0 1 .175-.786Zm1.616 1.945a7 7 0 0 1-7.678 7.678 5.499 5.499 0 1 0 7.678-7.678Z"></path></svg>
            </div>
            <div data-targets="command-palette-page-stack.localOcticons" data-octicon-id="person-color-fg-muted">
              <svg height="16" class="octicon octicon-person color-fg-muted" viewBox="0 0 16 16" version="1.1" width="16" aria-hidden="true"><path d="M10.561 8.073a6.005 6.005 0 0 1 3.432 5.142.75.75 0 1 1-1.498.07 4.5 4.5 0 0 0-8.99 0 .75.75 0 0 1-1.498-.07 6.004 6.004 0 0 1 3.431-5.142 3.999 3.999 0 1 1 5.123 0ZM10.5 5a2.5 2.5 0 1 0-5 0 2.5 2.5 0 0 0 5 0Z"></path></svg>
            </div>
            <div data-targets="command-palette-page-stack.localOcticons" data-octicon-id="pencil-color-fg-muted">
              <svg height="16" class="octicon octicon-pencil color-fg-muted" viewBox="0 0 16 16" version="1.1" width="16" aria-hidden="true"><path d="M11.013 1.427a1.75 1.75 0 0 1 2.474 0l1.086 1.086a1.75 1.75 0 0 1 0 2.474l-8.61 8.61c-.21.21-.47.364-.756.445l-3.251.93a.75.75 0 0 1-.927-.928l.929-3.25c.081-.286.235-.547.445-.758l8.61-8.61Zm.176 4.823L9.75 4.81l-6.286 6.287a.253.253 0 0 0-.064.108l-.558 1.953 1.953-.558a.253.253 0 0 0 .108-.064Zm1.238-3.763a.25.25 0 0 0-.354 0L10.811 3.75l1.439 1.44 1.263-1.263a.25.25 0 0 0 0-.354Z"></path></svg>
            </div>
            <div data-targets="command-palette-page-stack.localOcticons" data-octicon-id="issue-opened-open">
              <svg height="16" class="octicon octicon-issue-opened open" viewBox="0 0 16 16" version="1.1" width="16" aria-hidden="true"><path d="M8 9.5a1.5 1.5 0 1 0 0-3 1.5 1.5 0 0 0 0 3Z"></path><path d="M8 0a8 8 0 1 1 0 16A8 8 0 0 1 8 0ZM1.5 8a6.5 6.5 0 1 0 13 0 6.5 6.5 0 0 0-13 0Z"></path></svg>
            </div>
            <div data-targets="command-palette-page-stack.localOcticons" data-octicon-id="git-pull-request-draft-color-fg-muted">
              <svg height="16" class="octicon octicon-git-pull-request-draft color-fg-muted" viewBox="0 0 16 16" version="1.1" width="16" aria-hidden="true"><path d="M3.25 1A2.25 2.25 0 0 1 4 5.372v5.256a2.251 2.251 0 1 1-1.5 0V5.372A2.251 2.251 0 0 1 3.25 1Zm9.5 14a2.25 2.25 0 1 1 0-4.5 2.25 2.25 0 0 1 0 4.5ZM2.5 3.25a.75.75 0 1 0 1.5 0 .75.75 0 0 0-1.5 0ZM3.25 12a.75.75 0 1 0 0 1.5.75.75 0 0 0 0-1.5Zm9.5 0a.75.75 0 1 0 0 1.5.75.75 0 0 0 0-1.5ZM14 7.5a1.25 1.25 0 1 1-2.5 0 1.25 1.25 0 0 1 2.5 0Zm0-4.25a1.25 1.25 0 1 1-2.5 0 1.25 1.25 0 0 1 2.5 0Z"></path></svg>
            </div>
            <div data-targets="command-palette-page-stack.localOcticons" data-octicon-id="search-color-fg-muted">
              <svg height="16" class="octicon octicon-search color-fg-muted" viewBox="0 0 16 16" version="1.1" width="16" aria-hidden="true"><path d="M10.68 11.74a6 6 0 0 1-7.922-8.982 6 6 0 0 1 8.982 7.922l3.04 3.04a.749.749 0 0 1-.326 1.275.749.749 0 0 1-.734-.215ZM11.5 7a4.499 4.499 0 1 0-8.997 0A4.499 4.499 0 0 0 11.5 7Z"></path></svg>
            </div>
            <div data-targets="command-palette-page-stack.localOcticons" data-octicon-id="sun-color-fg-muted">
              <svg height="16" class="octicon octicon-sun color-fg-muted" viewBox="0 0 16 16" version="1.1" width="16" aria-hidden="true"><path d="M8 12a4 4 0 1 1 0-8 4 4 0 0 1 0 8Zm0-1.5a2.5 2.5 0 1 0 0-5 2.5 2.5 0 0 0 0 5Zm5.657-8.157a.75.75 0 0 1 0 1.061l-1.061 1.06a.749.749 0 0 1-1.275-.326.749.749 0 0 1 .215-.734l1.06-1.06a.75.75 0 0 1 1.06 0Zm-9.193 9.193a.75.75 0 0 1 0 1.06l-1.06 1.061a.75.75 0 1 1-1.061-1.06l1.06-1.061a.75.75 0 0 1 1.061 0ZM8 0a.75.75 0 0 1 .75.75v1.5a.75.75 0 0 1-1.5 0V.75A.75.75 0 0 1 8 0ZM3 8a.75.75 0 0 1-.75.75H.75a.75.75 0 0 1 0-1.5h1.5A.75.75 0 0 1 3 8Zm13 0a.75.75 0 0 1-.75.75h-1.5a.75.75 0 0 1 0-1.5h1.5A.75.75 0 0 1 16 8Zm-8 5a.75.75 0 0 1 .75.75v1.5a.75.75 0 0 1-1.5 0v-1.5A.75.75 0 0 1 8 13Zm3.536-1.464a.75.75 0 0 1 1.06 0l1.061 1.06a.75.75 0 0 1-1.06 1.061l-1.061-1.06a.75.75 0 0 1 0-1.061ZM2.343 2.343a.75.75 0 0 1 1.061 0l1.06 1.061a.751.751 0 0 1-.018 1.042.751.751 0 0 1-1.042.018l-1.06-1.06a.75.75 0 0 1 0-1.06Z"></path></svg>
            </div>
            <div data-targets="command-palette-page-stack.localOcticons" data-octicon-id="sync-color-fg-muted">
              <svg height="16" class="octicon octicon-sync color-fg-muted" viewBox="0 0 16 16" version="1.1" width="16" aria-hidden="true"><path d="M1.705 8.005a.75.75 0 0 1 .834.656 5.5 5.5 0 0 0 9.592 2.97l-1.204-1.204a.25.25 0 0 1 .177-.427h3.646a.25.25 0 0 1 .25.25v3.646a.25.25 0 0 1-.427.177l-1.38-1.38A7.002 7.002 0 0 1 1.05 8.84a.75.75 0 0 1 .656-.834ZM8 2.5a5.487 5.487 0 0 0-4.131 1.869l1.204 1.204A.25.25 0 0 1 4.896 6H1.25A.25.25 0 0 1 1 5.75V2.104a.25.25 0 0 1 .427-.177l1.38 1.38A7.002 7.002 0 0 1 14.95 7.16a.75.75 0 0 1-1.49.178A5.5 5.5 0 0 0 8 2.5Z"></path></svg>
            </div>
            <div data-targets="command-palette-page-stack.localOcticons" data-octicon-id="trash-color-fg-muted">
              <svg height="16" class="octicon octicon-trash color-fg-muted" viewBox="0 0 16 16" version="1.1" width="16" aria-hidden="true"><path d="M11 1.75V3h2.25a.75.75 0 0 1 0 1.5H2.75a.75.75 0 0 1 0-1.5H5V1.75C5 .784 5.784 0 6.75 0h2.5C10.216 0 11 .784 11 1.75ZM4.496 6.675l.66 6.6a.25.25 0 0 0 .249.225h5.19a.25.25 0 0 0 .249-.225l.66-6.6a.75.75 0 0 1 1.492.149l-.66 6.6A1.748 1.748 0 0 1 10.595 15h-5.19a1.75 1.75 0 0 1-1.741-1.575l-.66-6.6a.75.75 0 1 1 1.492-.15ZM6.5 1.75V3h3V1.75a.25.25 0 0 0-.25-.25h-2.5a.25.25 0 0 0-.25.25Z"></path></svg>
            </div>
            <div data-targets="command-palette-page-stack.localOcticons" data-octicon-id="key-color-fg-muted">
              <svg height="16" class="octicon octicon-key color-fg-muted" viewBox="0 0 16 16" version="1.1" width="16" aria-hidden="true"><path d="M10.5 0a5.499 5.499 0 1 1-1.288 10.848l-.932.932a.749.749 0 0 1-.53.22H7v.75a.749.749 0 0 1-.22.53l-.5.5a.749.749 0 0 1-.53.22H5v.75a.749.749 0 0 1-.22.53l-.5.5a.749.749 0 0 1-.53.22h-2A1.75 1.75 0 0 1 0 14.25v-2c0-.199.079-.389.22-.53l4.932-4.932A5.5 5.5 0 0 1 10.5 0Zm-4 5.5c-.001.431.069.86.205 1.269a.75.75 0 0 1-.181.768L1.5 12.56v1.69c0 .138.112.25.25.25h1.69l.06-.06v-1.19a.75.75 0 0 1 .75-.75h1.19l.06-.06v-1.19a.75.75 0 0 1 .75-.75h1.19l1.023-1.025a.75.75 0 0 1 .768-.18A4 4 0 1 0 6.5 5.5ZM11 6a1 1 0 1 1 0-2 1 1 0 0 1 0 2Z"></path></svg>
            </div>
            <div data-targets="command-palette-page-stack.localOcticons" data-octicon-id="comment-discussion-color-fg-muted">
              <svg height="16" class="octicon octicon-comment-discussion color-fg-muted" viewBox="0 0 16 16" version="1.1" width="16" aria-hidden="true"><path d="M1.75 1h8.5c.966 0 1.75.784 1.75 1.75v5.5A1.75 1.75 0 0 1 10.25 10H7.061l-2.574 2.573A1.458 1.458 0 0 1 2 11.543V10h-.25A1.75 1.75 0 0 1 0 8.25v-5.5C0 1.784.784 1 1.75 1ZM1.5 2.75v5.5c0 .138.112.25.25.25h1a.75.75 0 0 1 .75.75v2.19l2.72-2.72a.749.749 0 0 1 .53-.22h3.5a.25.25 0 0 0 .25-.25v-5.5a.25.25 0 0 0-.25-.25h-8.5a.25.25 0 0 0-.25.25Zm13 2a.25.25 0 0 0-.25-.25h-.5a.75.75 0 0 1 0-1.5h.5c.966 0 1.75.784 1.75 1.75v5.5A1.75 1.75 0 0 1 14.25 12H14v1.543a1.458 1.458 0 0 1-2.487 1.03L9.22 12.28a.749.749 0 0 1 .326-1.275.749.749 0 0 1 .734.215l2.22 2.22v-2.19a.75.75 0 0 1 .75-.75h1a.25.25 0 0 0 .25-.25Z"></path></svg>
            </div>
            <div data-targets="command-palette-page-stack.localOcticons" data-octicon-id="bell-color-fg-muted">
              <svg height="16" class="octicon octicon-bell color-fg-muted" viewBox="0 0 16 16" version="1.1" width="16" aria-hidden="true"><path d="M8 16a2 2 0 0 0 1.985-1.75c.017-.137-.097-.25-.235-.25h-3.5c-.138 0-.252.113-.235.25A2 2 0 0 0 8 16ZM3 5a5 5 0 0 1 10 0v2.947c0 .05.015.098.042.139l1.703 2.555A1.519 1.519 0 0 1 13.482 13H2.518a1.516 1.516 0 0 1-1.263-2.36l1.703-2.554A.255.255 0 0 0 3 7.947Zm5-3.5A3.5 3.5 0 0 0 4.5 5v2.947c0 .346-.102.683-.294.97l-1.703 2.556a.017.017 0 0 0-.003.01l.001.006c0 .002.002.004.004.006l.006.004.007.001h10.964l.007-.001.006-.004.004-.006.001-.007a.017.017 0 0 0-.003-.01l-1.703-2.554a1.745 1.745 0 0 1-.294-.97V5A3.5 3.5 0 0 0 8 1.5Z"></path></svg>
            </div>
            <div data-targets="command-palette-page-stack.localOcticons" data-octicon-id="bell-slash-color-fg-muted">
              <svg height="16" class="octicon octicon-bell-slash color-fg-muted" viewBox="0 0 16 16" version="1.1" width="16" aria-hidden="true"><path d="m4.182 4.31.016.011 10.104 7.316.013.01 1.375.996a.75.75 0 1 1-.88 1.214L13.626 13H2.518a1.516 1.516 0 0 1-1.263-2.36l1.703-2.554A.255.255 0 0 0 3 7.947V5.305L.31 3.357a.75.75 0 1 1 .88-1.214Zm7.373 7.19L4.5 6.391v1.556c0 .346-.102.683-.294.97l-1.703 2.556a.017.017 0 0 0-.003.01c0 .005.002.009.005.012l.006.004.007.001ZM8 1.5c-.997 0-1.895.416-2.534 1.086A.75.75 0 1 1 4.38 1.55 5 5 0 0 1 13 5v2.373a.75.75 0 0 1-1.5 0V5A3.5 3.5 0 0 0 8 1.5ZM8 16a2 2 0 0 1-1.985-1.75c-.017-.137.097-.25.235-.25h3.5c.138 0 .252.113.235.25A2 2 0 0 1 8 16Z"></path></svg>
            </div>
            <div data-targets="command-palette-page-stack.localOcticons" data-octicon-id="paintbrush-color-fg-muted">
              <svg height="16" class="octicon octicon-paintbrush color-fg-muted" viewBox="0 0 16 16" version="1.1" width="16" aria-hidden="true"><path d="M11.134 1.535c.7-.509 1.416-.942 2.076-1.155.649-.21 1.463-.267 2.069.34.603.601.568 1.411.368 2.07-.202.668-.624 1.39-1.125 2.096-1.011 1.424-2.496 2.987-3.775 4.249-1.098 1.084-2.132 1.839-3.04 2.3a3.744 3.744 0 0 1-1.055 3.217c-.431.431-1.065.691-1.657.861-.614.177-1.294.287-1.914.357A21.151 21.151 0 0 1 .797 16H.743l.007-.75H.749L.742 16a.75.75 0 0 1-.743-.742l.743-.008-.742.007v-.054a21.25 21.25 0 0 1 .13-2.284c.067-.647.187-1.287.358-1.914.17-.591.43-1.226.86-1.657a3.746 3.746 0 0 1 3.227-1.054c.466-.893 1.225-1.907 2.314-2.982 1.271-1.255 2.833-2.75 4.245-3.777ZM1.62 13.089c-.051.464-.086.929-.104 1.395.466-.018.932-.053 1.396-.104a10.511 10.511 0 0 0 1.668-.309c.526-.151.856-.325 1.011-.48a2.25 2.25 0 1 0-3.182-3.182c-.155.155-.329.485-.48 1.01a10.515 10.515 0 0 0-.309 1.67Zm10.396-10.34c-1.224.89-2.605 2.189-3.822 3.384l1.718 1.718c1.21-1.205 2.51-2.597 3.387-3.833.47-.662.78-1.227.912-1.662.134-.444.032-.551.009-.575h-.001V1.78c-.014-.014-.113-.113-.548.027-.432.14-.995.462-1.655.942Zm-4.832 7.266-.001.001a9.859 9.859 0 0 0 1.63-1.142L7.155 7.216a9.7 9.7 0 0 0-1.161 1.607c.482.302.889.71 1.19 1.192Z"></path></svg>
            </div>

            <command-palette-item-group
              data-group-id="top"
              data-group-title="Top result"
              data-group-hint=""
              data-group-limits="{}"
              data-default-priority="0"
            >
            </command-palette-item-group>
            <command-palette-item-group
              data-group-id="commands"
              data-group-title="Commands"
              data-group-hint="Type &gt; to filter"
              data-group-limits="{&quot;static_items_page&quot;:50,&quot;issue&quot;:50,&quot;pull_request&quot;:50,&quot;discussion&quot;:50}"
              data-default-priority="1"
            >
            </command-palette-item-group>
            <command-palette-item-group
              data-group-id="global_commands"
              data-group-title="Global Commands"
              data-group-hint="Type &gt; to filter"
              data-group-limits="{&quot;issue&quot;:0,&quot;pull_request&quot;:0,&quot;discussion&quot;:0}"
              data-default-priority="2"
            >
            </command-palette-item-group>
            <command-palette-item-group
              data-group-id="this_page"
              data-group-title="This Page"
              data-group-hint=""
              data-group-limits="{}"
              data-default-priority="3"
            >
            </command-palette-item-group>
            <command-palette-item-group
              data-group-id="files"
              data-group-title="Files"
              data-group-hint=""
              data-group-limits="{}"
              data-default-priority="4"
            >
            </command-palette-item-group>
            <command-palette-item-group
              data-group-id="default"
              data-group-title="Default"
              data-group-hint=""
              data-group-limits="{&quot;static_items_page&quot;:50}"
              data-default-priority="5"
            >
            </command-palette-item-group>
            <command-palette-item-group
              data-group-id="pages"
              data-group-title="Pages"
              data-group-hint=""
              data-group-limits="{&quot;repository&quot;:10}"
              data-default-priority="6"
            >
            </command-palette-item-group>
            <command-palette-item-group
              data-group-id="access_policies"
              data-group-title="Access Policies"
              data-group-hint=""
              data-group-limits="{}"
              data-default-priority="7"
            >
            </command-palette-item-group>
            <command-palette-item-group
              data-group-id="organizations"
              data-group-title="Organizations"
              data-group-hint=""
              data-group-limits="{}"
              data-default-priority="8"
            >
            </command-palette-item-group>
            <command-palette-item-group
              data-group-id="repositories"
              data-group-title="Repositories"
              data-group-hint=""
              data-group-limits="{}"
              data-default-priority="9"
            >
            </command-palette-item-group>
            <command-palette-item-group
              data-group-id="references"
              data-group-title="Issues, pull requests, and discussions"
              data-group-hint="Type # to filter"
              data-group-limits="{}"
              data-default-priority="10"
            >
            </command-palette-item-group>
            <command-palette-item-group
              data-group-id="teams"
              data-group-title="Teams"
              data-group-hint=""
              data-group-limits="{}"
              data-default-priority="11"
            >
            </command-palette-item-group>
            <command-palette-item-group
              data-group-id="users"
              data-group-title="Users"
              data-group-hint=""
              data-group-limits="{}"
              data-default-priority="12"
            >
            </command-palette-item-group>
            <command-palette-item-group
              data-group-id="memex_projects"
              data-group-title="Projects"
              data-group-hint=""
              data-group-limits="{}"
              data-default-priority="13"
            >
            </command-palette-item-group>
            <command-palette-item-group
              data-group-id="projects"
              data-group-title="Projects (classic)"
              data-group-hint=""
              data-group-limits="{}"
              data-default-priority="14"
            >
            </command-palette-item-group>
            <command-palette-item-group
              data-group-id="footer"
              data-group-title="Footer"
              data-group-hint=""
              data-group-limits="{}"
              data-default-priority="15"
            >
            </command-palette-item-group>
            <command-palette-item-group
              data-group-id="modes_help"
              data-group-title="Modes"
              data-group-hint=""
              data-group-limits="{}"
              data-default-priority="16"
            >
            </command-palette-item-group>
            <command-palette-item-group
              data-group-id="filters_help"
              data-group-title="Use filters in issues, pull requests, discussions, and projects"
              data-group-hint=""
              data-group-limits="{}"
              data-default-priority="17"
            >
            </command-palette-item-group>

            <command-palette-page
              data-page-title="AVKavan"
              data-scope-id="U_kgDOBmz6Xg"
              data-scope-type="owner"
              data-targets="command-palette-page-stack.defaultPages"
              hidden
            >
            </command-palette-page>
            <command-palette-page
              data-page-title="ML_Lab_6thSem"
              data-scope-id="R_kgDOJcHfvg"
              data-scope-type="repository"
              data-targets="command-palette-page-stack.defaultPages"
              hidden
            >
            </command-palette-page>
        </div>

        <command-palette-page data-is-root>
        </command-palette-page>
          <command-palette-page
            data-page-title="AVKavan"
            data-scope-id="U_kgDOBmz6Xg"
            data-scope-type="owner"
          >
          </command-palette-page>
          <command-palette-page
            data-page-title="ML_Lab_6thSem"
            data-scope-id="R_kgDOJcHfvg"
            data-scope-type="repository"
          >
          </command-palette-page>
      </command-palette-page-stack>

      <server-defined-provider data-type="search-links" data-targets="command-palette.serverDefinedProviderElements"></server-defined-provider>
      <server-defined-provider data-type="help" data-targets="command-palette.serverDefinedProviderElements">
          <command-palette-help
            data-group="modes_help"
              data-prefix="#"
              data-scope-types="[&quot;&quot;]"
          >
            <span data-target="command-palette-help.titleElement">Search for <strong>issues</strong> and <strong>pull requests</strong></span>
              <span data-target="command-palette-help.hintElement">
                <kbd class="hx_kbd">#</kbd>
              </span>
          </command-palette-help>
          <command-palette-help
            data-group="modes_help"
              data-prefix="#"
              data-scope-types="[&quot;owner&quot;,&quot;repository&quot;]"
          >
            <span data-target="command-palette-help.titleElement">Search for <strong>issues, pull requests, discussions,</strong> and <strong>projects</strong></span>
              <span data-target="command-palette-help.hintElement">
                <kbd class="hx_kbd">#</kbd>
              </span>
          </command-palette-help>
          <command-palette-help
            data-group="modes_help"
              data-prefix="@"
              data-scope-types="[&quot;&quot;]"
          >
            <span data-target="command-palette-help.titleElement">Search for <strong>organizations, repositories,</strong> and <strong>users</strong></span>
              <span data-target="command-palette-help.hintElement">
                <kbd class="hx_kbd">@</kbd>
              </span>
          </command-palette-help>
          <command-palette-help
            data-group="modes_help"
              data-prefix="!"
              data-scope-types="[&quot;owner&quot;,&quot;repository&quot;]"
          >
            <span data-target="command-palette-help.titleElement">Search for <strong>projects</strong></span>
              <span data-target="command-palette-help.hintElement">
                <kbd class="hx_kbd">!</kbd>
              </span>
          </command-palette-help>
          <command-palette-help
            data-group="modes_help"
              data-prefix="/"
              data-scope-types="[&quot;repository&quot;]"
          >
            <span data-target="command-palette-help.titleElement">Search for <strong>files</strong></span>
              <span data-target="command-palette-help.hintElement">
                <kbd class="hx_kbd">/</kbd>
              </span>
          </command-palette-help>
          <command-palette-help
            data-group="modes_help"
              data-prefix="&gt;"
          >
            <span data-target="command-palette-help.titleElement">Activate <strong>command mode</strong></span>
              <span data-target="command-palette-help.hintElement">
                <kbd class="hx_kbd">&gt;</kbd>
              </span>
          </command-palette-help>
          <command-palette-help
            data-group="filters_help"
              data-prefix="# author:@me"
          >
            <span data-target="command-palette-help.titleElement">Search your issues, pull requests, and discussions</span>
              <span data-target="command-palette-help.hintElement">
                <kbd class="hx_kbd"># author:@me</kbd>
              </span>
          </command-palette-help>
          <command-palette-help
            data-group="filters_help"
              data-prefix="# author:@me"
          >
            <span data-target="command-palette-help.titleElement">Search your issues, pull requests, and discussions</span>
              <span data-target="command-palette-help.hintElement">
                <kbd class="hx_kbd"># author:@me</kbd>
              </span>
          </command-palette-help>
          <command-palette-help
            data-group="filters_help"
              data-prefix="# is:pr"
          >
            <span data-target="command-palette-help.titleElement">Filter to pull requests</span>
              <span data-target="command-palette-help.hintElement">
                <kbd class="hx_kbd"># is:pr</kbd>
              </span>
          </command-palette-help>
          <command-palette-help
            data-group="filters_help"
              data-prefix="# is:issue"
          >
            <span data-target="command-palette-help.titleElement">Filter to issues</span>
              <span data-target="command-palette-help.hintElement">
                <kbd class="hx_kbd"># is:issue</kbd>
              </span>
          </command-palette-help>
          <command-palette-help
            data-group="filters_help"
              data-prefix="# is:discussion"
              data-scope-types="[&quot;owner&quot;,&quot;repository&quot;]"
          >
            <span data-target="command-palette-help.titleElement">Filter to discussions</span>
              <span data-target="command-palette-help.hintElement">
                <kbd class="hx_kbd"># is:discussion</kbd>
              </span>
          </command-palette-help>
          <command-palette-help
            data-group="filters_help"
              data-prefix="# is:project"
              data-scope-types="[&quot;owner&quot;,&quot;repository&quot;]"
          >
            <span data-target="command-palette-help.titleElement">Filter to projects</span>
              <span data-target="command-palette-help.hintElement">
                <kbd class="hx_kbd"># is:project</kbd>
              </span>
          </command-palette-help>
          <command-palette-help
            data-group="filters_help"
              data-prefix="# is:open"
          >
            <span data-target="command-palette-help.titleElement">Filter to open issues, pull requests, and discussions</span>
              <span data-target="command-palette-help.hintElement">
                <kbd class="hx_kbd"># is:open</kbd>
              </span>
          </command-palette-help>
      </server-defined-provider>

        <server-defined-provider
          data-type="commands"
          data-fetch-debounce="0"
            data-src="/command_palette/commands"
          data-supported-modes="[]"
            data-supports-commands
          
          data-targets="command-palette.serverDefinedProviderElements"
          ></server-defined-provider>
        <server-defined-provider
          data-type="prefetched"
          data-fetch-debounce="0"
            data-src="/command_palette/jump_to_page_navigation"
          data-supported-modes="[&quot;&quot;]"
            data-supported-scope-types="[&quot;&quot;,&quot;owner&quot;,&quot;repository&quot;]"
          
          data-targets="command-palette.serverDefinedProviderElements"
          ></server-defined-provider>
        <server-defined-provider
          data-type="remote"
          data-fetch-debounce="200"
            data-src="/command_palette/issues"
          data-supported-modes="[&quot;#&quot;,&quot;#&quot;]"
            data-supported-scope-types="[&quot;owner&quot;,&quot;repository&quot;,&quot;&quot;]"
          
          data-targets="command-palette.serverDefinedProviderElements"
          ></server-defined-provider>
        <server-defined-provider
          data-type="remote"
          data-fetch-debounce="200"
            data-src="/command_palette/jump_to"
          data-supported-modes="[&quot;@&quot;,&quot;@&quot;]"
            data-supported-scope-types="[&quot;&quot;,&quot;owner&quot;]"
          
          data-targets="command-palette.serverDefinedProviderElements"
          ></server-defined-provider>
        <server-defined-provider
          data-type="remote"
          data-fetch-debounce="200"
            data-src="/command_palette/jump_to_members_only"
          data-supported-modes="[&quot;@&quot;,&quot;@&quot;,&quot;&quot;,&quot;&quot;]"
            data-supported-scope-types="[&quot;&quot;,&quot;owner&quot;]"
          
          data-targets="command-palette.serverDefinedProviderElements"
          ></server-defined-provider>
        <server-defined-provider
          data-type="prefetched"
          data-fetch-debounce="0"
            data-src="/command_palette/jump_to_members_only_prefetched"
          data-supported-modes="[&quot;@&quot;,&quot;@&quot;,&quot;&quot;,&quot;&quot;]"
            data-supported-scope-types="[&quot;&quot;,&quot;owner&quot;]"
          
          data-targets="command-palette.serverDefinedProviderElements"
          ></server-defined-provider>
        <server-defined-provider
          data-type="files"
          data-fetch-debounce="0"
            data-src="/command_palette/files"
          data-supported-modes="[&quot;/&quot;]"
            data-supported-scope-types="[&quot;repository&quot;]"
          
          data-targets="command-palette.serverDefinedProviderElements"
          ></server-defined-provider>
        <server-defined-provider
          data-type="remote"
          data-fetch-debounce="200"
            data-src="/command_palette/discussions"
          data-supported-modes="[&quot;#&quot;]"
            data-supported-scope-types="[&quot;owner&quot;,&quot;repository&quot;]"
          
          data-targets="command-palette.serverDefinedProviderElements"
          ></server-defined-provider>
        <server-defined-provider
          data-type="remote"
          data-fetch-debounce="200"
            data-src="/command_palette/projects"
          data-supported-modes="[&quot;#&quot;,&quot;!&quot;]"
            data-supported-scope-types="[&quot;owner&quot;,&quot;repository&quot;]"
          
          data-targets="command-palette.serverDefinedProviderElements"
          ></server-defined-provider>
        <server-defined-provider
          data-type="prefetched"
          data-fetch-debounce="0"
            data-src="/command_palette/recent_issues"
          data-supported-modes="[&quot;#&quot;,&quot;#&quot;]"
            data-supported-scope-types="[&quot;owner&quot;,&quot;repository&quot;,&quot;&quot;]"
          
          data-targets="command-palette.serverDefinedProviderElements"
          ></server-defined-provider>
        <server-defined-provider
          data-type="remote"
          data-fetch-debounce="200"
            data-src="/command_palette/teams"
          data-supported-modes="[&quot;@&quot;,&quot;&quot;]"
            data-supported-scope-types="[&quot;owner&quot;]"
          
          data-targets="command-palette.serverDefinedProviderElements"
          ></server-defined-provider>
        <server-defined-provider
          data-type="remote"
          data-fetch-debounce="200"
            data-src="/command_palette/name_with_owner_repository"
          data-supported-modes="[&quot;@&quot;,&quot;@&quot;,&quot;&quot;,&quot;&quot;]"
            data-supported-scope-types="[&quot;&quot;,&quot;owner&quot;]"
          
          data-targets="command-palette.serverDefinedProviderElements"
          ></server-defined-provider>
    </command-palette>
  </details-dialog>
</details>

<div class="position-fixed bottom-0 left-0 ml-5 mb-5 js-command-palette-toasts" style="z-index: 1000">
  <div hidden class="Toast Toast--loading">
    <span class="Toast-icon">
      <svg class="Toast--spinner" viewBox="0 0 32 32" width="18" height="18" aria-hidden="true">
        <path
          fill="#959da5"
          d="M16 0 A16 16 0 0 0 16 32 A16 16 0 0 0 16 0 M16 4 A12 12 0 0 1 16 28 A12 12 0 0 1 16 4"
        />
        <path fill="#ffffff" d="M16 0 A16 16 0 0 1 32 16 L28 16 A12 12 0 0 0 16 4z"></path>
      </svg>
    </span>
    <span class="Toast-content"></span>
  </div>

  <div hidden class="anim-fade-in fast Toast Toast--error">
    <span class="Toast-icon">
      <svg aria-hidden="true" height="16" viewBox="0 0 16 16" version="1.1" width="16" data-view-component="true" class="octicon octicon-stop">
    <path d="M4.47.22A.749.749 0 0 1 5 0h6c.199 0 .389.079.53.22l4.25 4.25c.141.14.22.331.22.53v6a.749.749 0 0 1-.22.53l-4.25 4.25A.749.749 0 0 1 11 16H5a.749.749 0 0 1-.53-.22L.22 11.53A.749.749 0 0 1 0 11V5c0-.199.079-.389.22-.53Zm.84 1.28L1.5 5.31v5.38l3.81 3.81h5.38l3.81-3.81V5.31L10.69 1.5ZM8 4a.75.75 0 0 1 .75.75v3.5a.75.75 0 0 1-1.5 0v-3.5A.75.75 0 0 1 8 4Zm0 8a1 1 0 1 1 0-2 1 1 0 0 1 0 2Z"></path>
</svg>
    </span>
    <span class="Toast-content"></span>
  </div>

  <div hidden class="anim-fade-in fast Toast Toast--warning">
    <span class="Toast-icon">
      <svg aria-hidden="true" height="16" viewBox="0 0 16 16" version="1.1" width="16" data-view-component="true" class="octicon octicon-alert">
    <path d="M6.457 1.047c.659-1.234 2.427-1.234 3.086 0l6.082 11.378A1.75 1.75 0 0 1 14.082 15H1.918a1.75 1.75 0 0 1-1.543-2.575Zm1.763.707a.25.25 0 0 0-.44 0L1.698 13.132a.25.25 0 0 0 .22.368h12.164a.25.25 0 0 0 .22-.368Zm.53 3.996v2.5a.75.75 0 0 1-1.5 0v-2.5a.75.75 0 0 1 1.5 0ZM9 11a1 1 0 1 1-2 0 1 1 0 0 1 2 0Z"></path>
</svg>
    </span>
    <span class="Toast-content"></span>
  </div>


  <div hidden class="anim-fade-in fast Toast Toast--success">
    <span class="Toast-icon">
      <svg aria-hidden="true" height="16" viewBox="0 0 16 16" version="1.1" width="16" data-view-component="true" class="octicon octicon-check">
    <path d="M13.78 4.22a.75.75 0 0 1 0 1.06l-7.25 7.25a.75.75 0 0 1-1.06 0L2.22 9.28a.751.751 0 0 1 .018-1.042.751.751 0 0 1 1.042-.018L6 10.94l6.72-6.72a.75.75 0 0 1 1.06 0Z"></path>
</svg>
    </span>
    <span class="Toast-content"></span>
  </div>

  <div hidden class="anim-fade-in fast Toast">
    <span class="Toast-icon">
      <svg aria-hidden="true" height="16" viewBox="0 0 16 16" version="1.1" width="16" data-view-component="true" class="octicon octicon-info">
    <path d="M0 8a8 8 0 1 1 16 0A8 8 0 0 1 0 8Zm8-6.5a6.5 6.5 0 1 0 0 13 6.5 6.5 0 0 0 0-13ZM6.5 7.75A.75.75 0 0 1 7.25 7h1a.75.75 0 0 1 .75.75v2.75h.25a.75.75 0 0 1 0 1.5h-2a.75.75 0 0 1 0-1.5h.25v-2h-.25a.75.75 0 0 1-.75-.75ZM8 6a1 1 0 1 1 0-2 1 1 0 0 1 0 2Z"></path>
</svg>
    </span>
    <span class="Toast-content"></span>
  </div>
</div>


  <div
    class="application-main "
    data-commit-hovercards-enabled
    data-discussion-hovercards-enabled
    data-issue-and-pr-hovercards-enabled
  >
        <div itemscope itemtype="http://schema.org/SoftwareSourceCode" class="">
    <main id="js-repo-pjax-container" >
      
      






  
  <div id="repository-container-header"  class="pt-3 hide-full-screen" style="background-color: var(--color-page-header-bg);" data-turbo-replace>

      <div class="d-flex flex-wrap flex-justify-end mb-3  px-3 px-md-4 px-lg-5" style="gap: 1rem;">

        <div class="flex-auto min-width-0 width-fit mr-3">
            
  <div class=" d-flex flex-wrap flex-items-center wb-break-word f3 text-normal">
      <svg aria-hidden="true" height="16" viewBox="0 0 16 16" version="1.1" width="16" data-view-component="true" class="octicon octicon-repo color-fg-muted mr-2">
    <path d="M2 2.5A2.5 2.5 0 0 1 4.5 0h8.75a.75.75 0 0 1 .75.75v12.5a.75.75 0 0 1-.75.75h-2.5a.75.75 0 0 1 0-1.5h1.75v-2h-8a1 1 0 0 0-.714 1.7.75.75 0 1 1-1.072 1.05A2.495 2.495 0 0 1 2 11.5Zm10.5-1h-8a1 1 0 0 0-1 1v6.708A2.486 2.486 0 0 1 4.5 9h8ZM5 12.25a.25.25 0 0 1 .25-.25h3.5a.25.25 0 0 1 .25.25v3.25a.25.25 0 0 1-.4.2l-1.45-1.087a.249.249 0 0 0-.3 0L5.4 15.7a.25.25 0 0 1-.4-.2Z"></path>
</svg>
    
    <span class="author flex-self-stretch" itemprop="author">
      <a class="url fn" rel="author" data-hovercard-type="user" data-hovercard-url="/users/AVKavan/hovercard" data-octo-click="hovercard-link-click" data-octo-dimensions="link_type:self" href="/AVKavan">
        AVKavan
</a>    </span>
    <span class="mx-1 flex-self-stretch color-fg-muted">/</span>
    <strong itemprop="name" class="mr-2 flex-self-stretch">
      <a data-pjax="#repo-content-pjax-container" data-turbo-frame="repo-content-turbo-frame" href="/AVKavan/ML_Lab_6thSem">ML_Lab_6thSem</a>
    </strong>

    <span></span><span class="Label Label--secondary v-align-middle mr-1">Public</span>
  </div>


        </div>

        <div id="repository-details-container" data-turbo-replace>
            <ul class="pagehead-actions flex-shrink-0 d-none d-md-inline" style="padding: 2px 0;">
    
      

  <li>
        <include-fragment loading="lazy" src="/notifications/633462718/watch_subscription?aria_id_prefix=repository-details&amp;button_block=false&amp;show_count=true">
    <div data-hide-on-error>
        
            <button disabled="disabled" aria-label="Watching a repository" type="button" data-view-component="true" class="tooltipped tooltipped-n Button--secondary Button--small Button">    <span class="Button-content">
        <span class="Button-visual Button-leadingVisual">
          <svg aria-hidden="true" height="16" viewBox="0 0 16 16" version="1.1" width="16" data-view-component="true" class="octicon octicon-eye">
    <path d="M8 2c1.981 0 3.671.992 4.933 2.078 1.27 1.091 2.187 2.345 2.637 3.023a1.62 1.62 0 0 1 0 1.798c-.45.678-1.367 1.932-2.637 3.023C11.67 13.008 9.981 14 8 14c-1.981 0-3.671-.992-4.933-2.078C1.797 10.83.88 9.576.43 8.898a1.62 1.62 0 0 1 0-1.798c.45-.677 1.367-1.931 2.637-3.022C4.33 2.992 6.019 2 8 2ZM1.679 7.932a.12.12 0 0 0 0 .136c.411.622 1.241 1.75 2.366 2.717C5.176 11.758 6.527 12.5 8 12.5c1.473 0 2.825-.742 3.955-1.715 1.124-.967 1.954-2.096 2.366-2.717a.12.12 0 0 0 0-.136c-.412-.621-1.242-1.75-2.366-2.717C10.824 4.242 9.473 3.5 8 3.5c-1.473 0-2.825.742-3.955 1.715-1.124.967-1.954 2.096-2.366 2.717ZM8 10a2 2 0 1 1-.001-3.999A2 2 0 0 1 8 10Z"></path>
</svg>
        </span>
      <span class="Button-label">Watch</span>
    </span>
</button>  

    </div>
    <p data-show-on-error hidden>
        
          <span class="d-flex pt-1">
            <svg aria-hidden="true" height="16" viewBox="0 0 16 16" version="1.1" width="16" data-view-component="true" class="octicon octicon-alert mr-1">
    <path d="M6.457 1.047c.659-1.234 2.427-1.234 3.086 0l6.082 11.378A1.75 1.75 0 0 1 14.082 15H1.918a1.75 1.75 0 0 1-1.543-2.575Zm1.763.707a.25.25 0 0 0-.44 0L1.698 13.132a.25.25 0 0 0 .22.368h12.164a.25.25 0 0 0 .22-.368Zm.53 3.996v2.5a.75.75 0 0 1-1.5 0v-2.5a.75.75 0 0 1 1.5 0ZM9 11a1 1 0 1 1-2 0 1 1 0 0 1 2 0Z"></path>
</svg>
            Couldn't load subscription status.&nbsp;
              <button data-retry-button="" type="button" data-view-component="true" class="Button--link Button--medium Button">    <span class="Button-content">
      <span class="Button-label">Retry</span>
    </span>
</button>  

          </span>

    </p>
  </include-fragment>
  </li>

  <li>
        <div data-view-component="true" class="d-flex">
        <div data-view-component="true" class="position-relative d-inline-block">
    <a icon="repo-forked" id="fork-button" href="/AVKavan/ML_Lab_6thSem/fork" data-hydro-click="{&quot;event_type&quot;:&quot;repository.click&quot;,&quot;payload&quot;:{&quot;target&quot;:&quot;FORK_BUTTON&quot;,&quot;repository_id&quot;:633462718,&quot;originating_url&quot;:&quot;https://github.com/AVKavan/ML_Lab_6thSem/blob/main/Part-B/8B-AGNES_DIANA.ipynb&quot;,&quot;user_id&quot;:64247982}}" data-hydro-click-hmac="59081c546d5e9d0895e153eb2c03a842954a4a589bba06634b3c0673af06af88" data-ga-click="Repository, show fork modal, action:blob#show; text:Fork" data-view-component="true" class="btn-sm btn BtnGroup-item border-right-0">      <svg aria-hidden="true" height="16" viewBox="0 0 16 16" version="1.1" width="16" data-view-component="true" class="octicon octicon-repo-forked mr-2">
    <path d="M5 5.372v.878c0 .414.336.75.75.75h4.5a.75.75 0 0 0 .75-.75v-.878a2.25 2.25 0 1 1 1.5 0v.878a2.25 2.25 0 0 1-2.25 2.25h-1.5v2.128a2.251 2.251 0 1 1-1.5 0V8.5h-1.5A2.25 2.25 0 0 1 3.5 6.25v-.878a2.25 2.25 0 1 1 1.5 0ZM5 3.25a.75.75 0 1 0-1.5 0 .75.75 0 0 0 1.5 0Zm6.75.75a.75.75 0 1 0 0-1.5.75.75 0 0 0 0 1.5Zm-3 8.75a.75.75 0 1 0-1.5 0 .75.75 0 0 0 1.5 0Z"></path>
</svg>Fork
          <span id="repo-network-counter" data-pjax-replace="true" data-turbo-replace="true" title="0" data-view-component="true" class="Counter">0</span>
</a>    <tool-tip id="tooltip-beb6ae50-030d-4af2-a08a-8f0d7e918486" for="fork-button" data-direction="s" data-type="description" data-view-component="true" class="sr-only position-absolute">Fork your own copy of AVKavan/ML_Lab_6thSem</tool-tip>
</div>
      <details group_item="true" id="my-forks-menu-633462718" data-view-component="true" class="details-reset details-overlay BtnGroup-parent d-inline-block position-relative">
              <summary aria-label="See your forks of this repository" data-view-component="true" class="btn-sm btn BtnGroup-item px-2 float-none">    <svg aria-hidden="true" height="16" viewBox="0 0 16 16" version="1.1" width="16" data-view-component="true" class="octicon octicon-triangle-down">
    <path d="m4.427 7.427 3.396 3.396a.25.25 0 0 0 .354 0l3.396-3.396A.25.25 0 0 0 11.396 7H4.604a.25.25 0 0 0-.177.427Z"></path>
</svg>
</summary>
  <details-menu
    class="SelectMenu right-0"
      src="/AVKavan/ML_Lab_6thSem/my_forks_menu_content?can_fork=true"
      
      role="menu"
      
>
    <div class="SelectMenu-modal">
        <button class="SelectMenu-closeButton position-absolute right-0 m-2" type="button" aria-label="Close menu" data-toggle-for="details-45648b">
          <svg aria-hidden="true" height="16" viewBox="0 0 16 16" version="1.1" width="16" data-view-component="true" class="octicon octicon-x">
    <path d="M3.72 3.72a.75.75 0 0 1 1.06 0L8 6.94l3.22-3.22a.749.749 0 0 1 1.275.326.749.749 0 0 1-.215.734L9.06 8l3.22 3.22a.749.749 0 0 1-.326 1.275.749.749 0 0 1-.734-.215L8 9.06l-3.22 3.22a.751.751 0 0 1-1.042-.018.751.751 0 0 1-.018-1.042L6.94 8 3.72 4.78a.75.75 0 0 1 0-1.06Z"></path>
</svg>
        </button>
      <div
        id="filter-menu-45648b"
        class="d-flex flex-column flex-1 overflow-hidden"
>
        <div
          class="SelectMenu-list"
          >

            <include-fragment class="SelectMenu-loading" aria-label="Loading">
              <svg role="menuitem" style="box-sizing: content-box; color: var(--color-icon-primary);" width="32" height="32" viewBox="0 0 16 16" fill="none" data-view-component="true" class="anim-rotate">
  <circle cx="8" cy="8" r="7" stroke="currentColor" stroke-opacity="0.25" stroke-width="2" vector-effect="non-scaling-stroke" />
  <path d="M15 8a7.002 7.002 0 00-7-7" stroke="currentColor" stroke-width="2" stroke-linecap="round" vector-effect="non-scaling-stroke" />
</svg>
            </include-fragment>
        </div>
        
      </div>
    </div>
  </details-menu>
</details></div>
  </li>

  <li>
        <template class="js-unstar-confirmation-dialog-template">
  <div class="Box-header">
    <h2 class="Box-title">Unstar this repository?</h2>
  </div>
  <div class="Box-body">
    <p class="mb-3">
      This will remove {{ repoNameWithOwner }} from the {{ listsWithCount }} that it's been added to.
    </p>
    <div class="form-actions">
      <!-- '"` --><!-- </textarea></xmp> --></option></form><form class="js-social-confirmation-form" data-turbo="false" action="{{ confirmUrl }}" accept-charset="UTF-8" method="post">
        <input type="hidden" name="authenticity_token" value="{{ confirmCsrfToken }}">
        <input type="hidden" name="confirm" value="true">
          <button data-close-dialog="true" type="submit" data-view-component="true" class="btn-danger btn width-full">    Unstar
</button>
</form>    </div>
  </div>
</template>

  <div data-view-component="true" class="js-toggler-container js-social-container starring-container d-flex">
    <div data-view-component="true" class="starred BtnGroup flex-1">
      <!-- '"` --><!-- </textarea></xmp> --></option></form><form class="js-social-form BtnGroup-parent flex-auto js-deferred-toggler-target" data-turbo="false" action="/AVKavan/ML_Lab_6thSem/unstar" accept-charset="UTF-8" method="post"><input type="hidden" name="authenticity_token" value="HGoAMpuMUCfWc1AEGfhwcVzYYWZYuqufRsxoE7LrhPssTHPNAdoO3SvUXGoms10tftwGYDTRckh9wRY8uXqKlA" autocomplete="off" />
          <input type="hidden" value="AGmWFjuBhth1-wiXbYpdR2y6JuQLmcCBbVmai6qs988wT-XpodfYIohcBPlSwXAbTr5B4mfyGVZWVOSkoT35oA" data-csrf="true" class="js-confirm-csrf-token" />
        <input type="hidden" name="context" value="repository">
          <button data-hydro-click="{&quot;event_type&quot;:&quot;repository.click&quot;,&quot;payload&quot;:{&quot;target&quot;:&quot;UNSTAR_BUTTON&quot;,&quot;repository_id&quot;:633462718,&quot;originating_url&quot;:&quot;https://github.com/AVKavan/ML_Lab_6thSem/blob/main/Part-B/8B-AGNES_DIANA.ipynb&quot;,&quot;user_id&quot;:64247982}}" data-hydro-click-hmac="08edec3862a0f2a91156df14b03c8efb549b497151d773f1433d02b2c1133aa6" data-ga-click="Repository, click unstar button, action:blob#show; text:Unstar" aria-label="Unstar this repository (0)" type="submit" data-view-component="true" class="rounded-left-2 btn-sm btn BtnGroup-item">    <svg aria-hidden="true" height="16" viewBox="0 0 16 16" version="1.1" width="16" data-view-component="true" class="octicon octicon-star-fill starred-button-icon d-inline-block mr-2">
    <path d="M8 .25a.75.75 0 0 1 .673.418l1.882 3.815 4.21.612a.75.75 0 0 1 .416 1.279l-3.046 2.97.719 4.192a.751.751 0 0 1-1.088.791L8 12.347l-3.766 1.98a.75.75 0 0 1-1.088-.79l.72-4.194L.818 6.374a.75.75 0 0 1 .416-1.28l4.21-.611L7.327.668A.75.75 0 0 1 8 .25Z"></path>
</svg><span data-view-component="true" class="d-inline">
              Starred
</span>              <span id="repo-stars-counter-unstar" aria-label="0 users starred this repository" data-singular-suffix="user starred this repository" data-plural-suffix="users starred this repository" data-turbo-replace="true" title="0" data-view-component="true" class="Counter js-social-count">0</span>
</button></form>        <details id="details-user-list-633462718-starred" data-view-component="true" class="details-reset details-overlay BtnGroup-parent js-user-list-menu d-inline-block position-relative">
        <summary aria-label="Add this repository to a list" data-view-component="true" class="btn-sm btn BtnGroup-item px-2 float-none">    <svg aria-hidden="true" height="16" viewBox="0 0 16 16" version="1.1" width="16" data-view-component="true" class="octicon octicon-triangle-down">
    <path d="m4.427 7.427 3.396 3.396a.25.25 0 0 0 .354 0l3.396-3.396A.25.25 0 0 0 11.396 7H4.604a.25.25 0 0 0-.177.427Z"></path>
</svg>
</summary>
  <details-menu
    class="SelectMenu right-0"
      src="/AVKavan/ML_Lab_6thSem/lists"
      
      role="menu"
      
>
    <div class="SelectMenu-modal">
        <button class="SelectMenu-closeButton position-absolute right-0 m-2" type="button" aria-label="Close menu" data-toggle-for="details-fbe91d">
          <svg aria-hidden="true" height="16" viewBox="0 0 16 16" version="1.1" width="16" data-view-component="true" class="octicon octicon-x">
    <path d="M3.72 3.72a.75.75 0 0 1 1.06 0L8 6.94l3.22-3.22a.749.749 0 0 1 1.275.326.749.749 0 0 1-.215.734L9.06 8l3.22 3.22a.749.749 0 0 1-.326 1.275.749.749 0 0 1-.734-.215L8 9.06l-3.22 3.22a.751.751 0 0 1-1.042-.018.751.751 0 0 1-.018-1.042L6.94 8 3.72 4.78a.75.75 0 0 1 0-1.06Z"></path>
</svg>
        </button>
      <div
        id="filter-menu-fbe91d"
        class="d-flex flex-column flex-1 overflow-hidden"
>
        <div
          class="SelectMenu-list"
          >

            <include-fragment class="SelectMenu-loading" aria-label="Loading">
              <svg role="menuitem" style="box-sizing: content-box; color: var(--color-icon-primary);" width="32" height="32" viewBox="0 0 16 16" fill="none" data-view-component="true" class="anim-rotate">
  <circle cx="8" cy="8" r="7" stroke="currentColor" stroke-opacity="0.25" stroke-width="2" vector-effect="non-scaling-stroke" />
  <path d="M15 8a7.002 7.002 0 00-7-7" stroke="currentColor" stroke-width="2" stroke-linecap="round" vector-effect="non-scaling-stroke" />
</svg>
            </include-fragment>
        </div>
        
      </div>
    </div>
  </details-menu>
</details>
</div>
    <div data-view-component="true" class="unstarred BtnGroup flex-1">
      <!-- '"` --><!-- </textarea></xmp> --></option></form><form class="js-social-form BtnGroup-parent flex-auto" data-turbo="false" action="/AVKavan/ML_Lab_6thSem/star" accept-charset="UTF-8" method="post"><input type="hidden" name="authenticity_token" value="GMSxnqqTQtkq8N8EXydjHorr972A1mM4k0N46VpvpDY30fp4YDiBbRvvgUNoi6Nd5szfNn9Mi3f2rDlzqO370g" autocomplete="off" />
        <input type="hidden" name="context" value="repository">
          <button data-hydro-click="{&quot;event_type&quot;:&quot;repository.click&quot;,&quot;payload&quot;:{&quot;target&quot;:&quot;STAR_BUTTON&quot;,&quot;repository_id&quot;:633462718,&quot;originating_url&quot;:&quot;https://github.com/AVKavan/ML_Lab_6thSem/blob/main/Part-B/8B-AGNES_DIANA.ipynb&quot;,&quot;user_id&quot;:64247982}}" data-hydro-click-hmac="1dd4aa32ab7f4c340c06d749ed536e80122f77845d9a62724c80355b2cfc7f18" data-ga-click="Repository, click star button, action:blob#show; text:Star" aria-label="Star this repository (0)" type="submit" data-view-component="true" class="js-toggler-target rounded-left-2 btn-sm btn BtnGroup-item">    <svg aria-hidden="true" height="16" viewBox="0 0 16 16" version="1.1" width="16" data-view-component="true" class="octicon octicon-star d-inline-block mr-2">
    <path d="M8 .25a.75.75 0 0 1 .673.418l1.882 3.815 4.21.612a.75.75 0 0 1 .416 1.279l-3.046 2.97.719 4.192a.751.751 0 0 1-1.088.791L8 12.347l-3.766 1.98a.75.75 0 0 1-1.088-.79l.72-4.194L.818 6.374a.75.75 0 0 1 .416-1.28l4.21-.611L7.327.668A.75.75 0 0 1 8 .25Zm0 2.445L6.615 5.5a.75.75 0 0 1-.564.41l-3.097.45 2.24 2.184a.75.75 0 0 1 .216.664l-.528 3.084 2.769-1.456a.75.75 0 0 1 .698 0l2.77 1.456-.53-3.084a.75.75 0 0 1 .216-.664l2.24-2.183-3.096-.45a.75.75 0 0 1-.564-.41L8 2.694Z"></path>
</svg><span data-view-component="true" class="d-inline">
              Star
</span>              <span id="repo-stars-counter-star" aria-label="0 users starred this repository" data-singular-suffix="user starred this repository" data-plural-suffix="users starred this repository" data-turbo-replace="true" title="0" data-view-component="true" class="Counter js-social-count">0</span>
</button></form>        <details id="details-user-list-633462718-unstarred" data-view-component="true" class="details-reset details-overlay BtnGroup-parent js-user-list-menu d-inline-block position-relative">
        <summary aria-label="Add this repository to a list" data-view-component="true" class="btn-sm btn BtnGroup-item px-2 float-none">    <svg aria-hidden="true" height="16" viewBox="0 0 16 16" version="1.1" width="16" data-view-component="true" class="octicon octicon-triangle-down">
    <path d="m4.427 7.427 3.396 3.396a.25.25 0 0 0 .354 0l3.396-3.396A.25.25 0 0 0 11.396 7H4.604a.25.25 0 0 0-.177.427Z"></path>
</svg>
</summary>
  <details-menu
    class="SelectMenu right-0"
      src="/AVKavan/ML_Lab_6thSem/lists"
      
      role="menu"
      
>
    <div class="SelectMenu-modal">
        <button class="SelectMenu-closeButton position-absolute right-0 m-2" type="button" aria-label="Close menu" data-toggle-for="details-7cb640">
          <svg aria-hidden="true" height="16" viewBox="0 0 16 16" version="1.1" width="16" data-view-component="true" class="octicon octicon-x">
    <path d="M3.72 3.72a.75.75 0 0 1 1.06 0L8 6.94l3.22-3.22a.749.749 0 0 1 1.275.326.749.749 0 0 1-.215.734L9.06 8l3.22 3.22a.749.749 0 0 1-.326 1.275.749.749 0 0 1-.734-.215L8 9.06l-3.22 3.22a.751.751 0 0 1-1.042-.018.751.751 0 0 1-.018-1.042L6.94 8 3.72 4.78a.75.75 0 0 1 0-1.06Z"></path>
</svg>
        </button>
      <div
        id="filter-menu-7cb640"
        class="d-flex flex-column flex-1 overflow-hidden"
>
        <div
          class="SelectMenu-list"
          >

            <include-fragment class="SelectMenu-loading" aria-label="Loading">
              <svg role="menuitem" style="box-sizing: content-box; color: var(--color-icon-primary);" width="32" height="32" viewBox="0 0 16 16" fill="none" data-view-component="true" class="anim-rotate">
  <circle cx="8" cy="8" r="7" stroke="currentColor" stroke-opacity="0.25" stroke-width="2" vector-effect="non-scaling-stroke" />
  <path d="M15 8a7.002 7.002 0 00-7-7" stroke="currentColor" stroke-width="2" stroke-linecap="round" vector-effect="non-scaling-stroke" />
</svg>
            </include-fragment>
        </div>
        
      </div>
    </div>
  </details-menu>
</details>
</div></div>
  </li>


    

</ul>

        </div>
      </div>

        <div id="responsive-meta-container" data-turbo-replace>
</div>


          <nav data-pjax="#js-repo-pjax-container" aria-label="Repository" data-view-component="true" class="js-repo-nav js-sidenav-container-pjax js-responsive-underlinenav overflow-hidden UnderlineNav px-3 px-md-4 px-lg-5">

  <ul data-view-component="true" class="UnderlineNav-body list-style-none">
      <li data-view-component="true" class="d-inline-flex">
  <a id="code-tab" href="/AVKavan/ML_Lab_6thSem" data-tab-item="i0code-tab" data-selected-links="repo_source repo_downloads repo_commits repo_releases repo_tags repo_branches repo_packages repo_deployments /AVKavan/ML_Lab_6thSem" data-pjax="#repo-content-pjax-container" data-turbo-frame="repo-content-turbo-frame" data-hotkey="g c" data-analytics-event="{&quot;category&quot;:&quot;Underline navbar&quot;,&quot;action&quot;:&quot;Click tab&quot;,&quot;label&quot;:&quot;Code&quot;,&quot;target&quot;:&quot;UNDERLINE_NAV.TAB&quot;}" aria-current="page" data-view-component="true" class="UnderlineNav-item no-wrap js-responsive-underlinenav-item js-selected-navigation-item selected">
    
              <svg aria-hidden="true" height="16" viewBox="0 0 16 16" version="1.1" width="16" data-view-component="true" class="octicon octicon-code UnderlineNav-octicon d-none d-sm-inline">
    <path d="m11.28 3.22 4.25 4.25a.75.75 0 0 1 0 1.06l-4.25 4.25a.749.749 0 0 1-1.275-.326.749.749 0 0 1 .215-.734L13.94 8l-3.72-3.72a.749.749 0 0 1 .326-1.275.749.749 0 0 1 .734.215Zm-6.56 0a.751.751 0 0 1 1.042.018.751.751 0 0 1 .018 1.042L2.06 8l3.72 3.72a.749.749 0 0 1-.326 1.275.749.749 0 0 1-.734-.215L.47 8.53a.75.75 0 0 1 0-1.06Z"></path>
</svg>
        <span data-content="Code">Code</span>
          <span id="code-repo-tab-count" data-pjax-replace="" data-turbo-replace="" title="Not available" data-view-component="true" class="Counter"></span>


    
</a></li>
      <li data-view-component="true" class="d-inline-flex">
  <a id="issues-tab" href="/AVKavan/ML_Lab_6thSem/issues" data-tab-item="i1issues-tab" data-selected-links="repo_issues repo_labels repo_milestones /AVKavan/ML_Lab_6thSem/issues" data-pjax="#repo-content-pjax-container" data-turbo-frame="repo-content-turbo-frame" data-hotkey="g i" data-analytics-event="{&quot;category&quot;:&quot;Underline navbar&quot;,&quot;action&quot;:&quot;Click tab&quot;,&quot;label&quot;:&quot;Issues&quot;,&quot;target&quot;:&quot;UNDERLINE_NAV.TAB&quot;}" data-view-component="true" class="UnderlineNav-item no-wrap js-responsive-underlinenav-item js-selected-navigation-item">
    
              <svg aria-hidden="true" height="16" viewBox="0 0 16 16" version="1.1" width="16" data-view-component="true" class="octicon octicon-issue-opened UnderlineNav-octicon d-none d-sm-inline">
    <path d="M8 9.5a1.5 1.5 0 1 0 0-3 1.5 1.5 0 0 0 0 3Z"></path><path d="M8 0a8 8 0 1 1 0 16A8 8 0 0 1 8 0ZM1.5 8a6.5 6.5 0 1 0 13 0 6.5 6.5 0 0 0-13 0Z"></path>
</svg>
        <span data-content="Issues">Issues</span>
          <span id="issues-repo-tab-count" data-pjax-replace="" data-turbo-replace="" title="0" hidden="hidden" data-view-component="true" class="Counter">0</span>


    
</a></li>
      <li data-view-component="true" class="d-inline-flex">
  <a id="pull-requests-tab" href="/AVKavan/ML_Lab_6thSem/pulls" data-tab-item="i2pull-requests-tab" data-selected-links="repo_pulls checks /AVKavan/ML_Lab_6thSem/pulls" data-pjax="#repo-content-pjax-container" data-turbo-frame="repo-content-turbo-frame" data-hotkey="g p" data-analytics-event="{&quot;category&quot;:&quot;Underline navbar&quot;,&quot;action&quot;:&quot;Click tab&quot;,&quot;label&quot;:&quot;Pull requests&quot;,&quot;target&quot;:&quot;UNDERLINE_NAV.TAB&quot;}" data-view-component="true" class="UnderlineNav-item no-wrap js-responsive-underlinenav-item js-selected-navigation-item">
    
              <svg aria-hidden="true" height="16" viewBox="0 0 16 16" version="1.1" width="16" data-view-component="true" class="octicon octicon-git-pull-request UnderlineNav-octicon d-none d-sm-inline">
    <path d="M1.5 3.25a2.25 2.25 0 1 1 3 2.122v5.256a2.251 2.251 0 1 1-1.5 0V5.372A2.25 2.25 0 0 1 1.5 3.25Zm5.677-.177L9.573.677A.25.25 0 0 1 10 .854V2.5h1A2.5 2.5 0 0 1 13.5 5v5.628a2.251 2.251 0 1 1-1.5 0V5a1 1 0 0 0-1-1h-1v1.646a.25.25 0 0 1-.427.177L7.177 3.427a.25.25 0 0 1 0-.354ZM3.75 2.5a.75.75 0 1 0 0 1.5.75.75 0 0 0 0-1.5Zm0 9.5a.75.75 0 1 0 0 1.5.75.75 0 0 0 0-1.5Zm8.25.75a.75.75 0 1 0 1.5 0 .75.75 0 0 0-1.5 0Z"></path>
</svg>
        <span data-content="Pull requests">Pull requests</span>
          <span id="pull-requests-repo-tab-count" data-pjax-replace="" data-turbo-replace="" title="0" hidden="hidden" data-view-component="true" class="Counter">0</span>


    
</a></li>
      <li data-view-component="true" class="d-inline-flex">
  <a id="actions-tab" href="/AVKavan/ML_Lab_6thSem/actions" data-tab-item="i3actions-tab" data-selected-links="repo_actions /AVKavan/ML_Lab_6thSem/actions" data-pjax="#repo-content-pjax-container" data-turbo-frame="repo-content-turbo-frame" data-hotkey="g a" data-analytics-event="{&quot;category&quot;:&quot;Underline navbar&quot;,&quot;action&quot;:&quot;Click tab&quot;,&quot;label&quot;:&quot;Actions&quot;,&quot;target&quot;:&quot;UNDERLINE_NAV.TAB&quot;}" data-view-component="true" class="UnderlineNav-item no-wrap js-responsive-underlinenav-item js-selected-navigation-item">
    
              <svg aria-hidden="true" height="16" viewBox="0 0 16 16" version="1.1" width="16" data-view-component="true" class="octicon octicon-play UnderlineNav-octicon d-none d-sm-inline">
    <path d="M8 0a8 8 0 1 1 0 16A8 8 0 0 1 8 0ZM1.5 8a6.5 6.5 0 1 0 13 0 6.5 6.5 0 0 0-13 0Zm4.879-2.773 4.264 2.559a.25.25 0 0 1 0 .428l-4.264 2.559A.25.25 0 0 1 6 10.559V5.442a.25.25 0 0 1 .379-.215Z"></path>
</svg>
        <span data-content="Actions">Actions</span>
          <span id="actions-repo-tab-count" data-pjax-replace="" data-turbo-replace="" title="Not available" data-view-component="true" class="Counter"></span>


    
</a></li>
      <li data-view-component="true" class="d-inline-flex">
  <a id="projects-tab" href="/AVKavan/ML_Lab_6thSem/projects" data-tab-item="i4projects-tab" data-selected-links="repo_projects new_repo_project repo_project /AVKavan/ML_Lab_6thSem/projects" data-pjax="#repo-content-pjax-container" data-turbo-frame="repo-content-turbo-frame" data-hotkey="g b" data-analytics-event="{&quot;category&quot;:&quot;Underline navbar&quot;,&quot;action&quot;:&quot;Click tab&quot;,&quot;label&quot;:&quot;Projects&quot;,&quot;target&quot;:&quot;UNDERLINE_NAV.TAB&quot;}" data-view-component="true" class="UnderlineNav-item no-wrap js-responsive-underlinenav-item js-selected-navigation-item">
    
              <svg aria-hidden="true" height="16" viewBox="0 0 16 16" version="1.1" width="16" data-view-component="true" class="octicon octicon-table UnderlineNav-octicon d-none d-sm-inline">
    <path d="M0 1.75C0 .784.784 0 1.75 0h12.5C15.216 0 16 .784 16 1.75v12.5A1.75 1.75 0 0 1 14.25 16H1.75A1.75 1.75 0 0 1 0 14.25ZM6.5 6.5v8h7.75a.25.25 0 0 0 .25-.25V6.5Zm8-1.5V1.75a.25.25 0 0 0-.25-.25H6.5V5Zm-13 1.5v7.75c0 .138.112.25.25.25H5v-8ZM5 5V1.5H1.75a.25.25 0 0 0-.25.25V5Z"></path>
</svg>
        <span data-content="Projects">Projects</span>
          <span id="projects-repo-tab-count" data-pjax-replace="" data-turbo-replace="" title="0" hidden="hidden" data-view-component="true" class="Counter">0</span>


    
</a></li>
      <li data-view-component="true" class="d-inline-flex">
  <a id="security-tab" href="/AVKavan/ML_Lab_6thSem/security" data-tab-item="i5security-tab" data-selected-links="security overview alerts policy token_scanning code_scanning /AVKavan/ML_Lab_6thSem/security" data-pjax="#repo-content-pjax-container" data-turbo-frame="repo-content-turbo-frame" data-hotkey="g s" data-analytics-event="{&quot;category&quot;:&quot;Underline navbar&quot;,&quot;action&quot;:&quot;Click tab&quot;,&quot;label&quot;:&quot;Security&quot;,&quot;target&quot;:&quot;UNDERLINE_NAV.TAB&quot;}" data-view-component="true" class="UnderlineNav-item no-wrap js-responsive-underlinenav-item js-selected-navigation-item">
    
              <svg aria-hidden="true" height="16" viewBox="0 0 16 16" version="1.1" width="16" data-view-component="true" class="octicon octicon-shield UnderlineNav-octicon d-none d-sm-inline">
    <path d="M7.467.133a1.748 1.748 0 0 1 1.066 0l5.25 1.68A1.75 1.75 0 0 1 15 3.48V7c0 1.566-.32 3.182-1.303 4.682-.983 1.498-2.585 2.813-5.032 3.855a1.697 1.697 0 0 1-1.33 0c-2.447-1.042-4.049-2.357-5.032-3.855C1.32 10.182 1 8.566 1 7V3.48a1.75 1.75 0 0 1 1.217-1.667Zm.61 1.429a.25.25 0 0 0-.153 0l-5.25 1.68a.25.25 0 0 0-.174.238V7c0 1.358.275 2.666 1.057 3.86.784 1.194 2.121 2.34 4.366 3.297a.196.196 0 0 0 .154 0c2.245-.956 3.582-2.104 4.366-3.298C13.225 9.666 13.5 8.36 13.5 7V3.48a.251.251 0 0 0-.174-.237l-5.25-1.68ZM8.75 4.75v3a.75.75 0 0 1-1.5 0v-3a.75.75 0 0 1 1.5 0ZM9 10.5a1 1 0 1 1-2 0 1 1 0 0 1 2 0Z"></path>
</svg>
        <span data-content="Security">Security</span>
          <include-fragment src="/AVKavan/ML_Lab_6thSem/security/overall-count" accept="text/fragment+html"></include-fragment>

    
</a></li>
      <li data-view-component="true" class="d-inline-flex">
  <a id="insights-tab" href="/AVKavan/ML_Lab_6thSem/pulse" data-tab-item="i6insights-tab" data-selected-links="repo_graphs repo_contributors dependency_graph dependabot_updates pulse people community /AVKavan/ML_Lab_6thSem/pulse" data-pjax="#repo-content-pjax-container" data-turbo-frame="repo-content-turbo-frame" data-analytics-event="{&quot;category&quot;:&quot;Underline navbar&quot;,&quot;action&quot;:&quot;Click tab&quot;,&quot;label&quot;:&quot;Insights&quot;,&quot;target&quot;:&quot;UNDERLINE_NAV.TAB&quot;}" data-view-component="true" class="UnderlineNav-item no-wrap js-responsive-underlinenav-item js-selected-navigation-item">
    
              <svg aria-hidden="true" height="16" viewBox="0 0 16 16" version="1.1" width="16" data-view-component="true" class="octicon octicon-graph UnderlineNav-octicon d-none d-sm-inline">
    <path d="M1.5 1.75V13.5h13.75a.75.75 0 0 1 0 1.5H.75a.75.75 0 0 1-.75-.75V1.75a.75.75 0 0 1 1.5 0Zm14.28 2.53-5.25 5.25a.75.75 0 0 1-1.06 0L7 7.06 4.28 9.78a.751.751 0 0 1-1.042-.018.751.751 0 0 1-.018-1.042l3.25-3.25a.75.75 0 0 1 1.06 0L10 7.94l4.72-4.72a.751.751 0 0 1 1.042.018.751.751 0 0 1 .018 1.042Z"></path>
</svg>
        <span data-content="Insights">Insights</span>
          <span id="insights-repo-tab-count" data-pjax-replace="" data-turbo-replace="" title="Not available" data-view-component="true" class="Counter"></span>


    
</a></li>
</ul>
    <div style="visibility:hidden;" data-view-component="true" class="UnderlineNav-actions js-responsive-underlinenav-overflow position-absolute pr-3 pr-md-4 pr-lg-5 right-0">      <details data-view-component="true" class="details-overlay details-reset position-relative">
  <summary role="button" data-view-component="true">          <div class="UnderlineNav-item mr-0 border-0">
            <svg aria-hidden="true" height="16" viewBox="0 0 16 16" version="1.1" width="16" data-view-component="true" class="octicon octicon-kebab-horizontal">
    <path d="M8 9a1.5 1.5 0 1 0 0-3 1.5 1.5 0 0 0 0 3ZM1.5 9a1.5 1.5 0 1 0 0-3 1.5 1.5 0 0 0 0 3Zm13 0a1.5 1.5 0 1 0 0-3 1.5 1.5 0 0 0 0 3Z"></path>
</svg>
            <span class="sr-only">More</span>
          </div>
</summary>
  <details-menu role="menu" data-view-component="true" class="dropdown-menu dropdown-menu-sw">          <ul>
              <li data-menu-item="i0code-tab" hidden>
                <a role="menuitem" class="js-selected-navigation-item selected dropdown-item" aria-current="page" data-selected-links="repo_source repo_downloads repo_commits repo_releases repo_tags repo_branches repo_packages repo_deployments /AVKavan/ML_Lab_6thSem" href="/AVKavan/ML_Lab_6thSem">
                  Code
</a>              </li>
              <li data-menu-item="i1issues-tab" hidden>
                <a role="menuitem" class="js-selected-navigation-item dropdown-item" data-selected-links="repo_issues repo_labels repo_milestones /AVKavan/ML_Lab_6thSem/issues" href="/AVKavan/ML_Lab_6thSem/issues">
                  Issues
</a>              </li>
              <li data-menu-item="i2pull-requests-tab" hidden>
                <a role="menuitem" class="js-selected-navigation-item dropdown-item" data-selected-links="repo_pulls checks /AVKavan/ML_Lab_6thSem/pulls" href="/AVKavan/ML_Lab_6thSem/pulls">
                  Pull requests
</a>              </li>
              <li data-menu-item="i3actions-tab" hidden>
                <a role="menuitem" class="js-selected-navigation-item dropdown-item" data-selected-links="repo_actions /AVKavan/ML_Lab_6thSem/actions" href="/AVKavan/ML_Lab_6thSem/actions">
                  Actions
</a>              </li>
              <li data-menu-item="i4projects-tab" hidden>
                <a role="menuitem" class="js-selected-navigation-item dropdown-item" data-selected-links="repo_projects new_repo_project repo_project /AVKavan/ML_Lab_6thSem/projects" href="/AVKavan/ML_Lab_6thSem/projects">
                  Projects
</a>              </li>
              <li data-menu-item="i5security-tab" hidden>
                <a role="menuitem" class="js-selected-navigation-item dropdown-item" data-selected-links="security overview alerts policy token_scanning code_scanning /AVKavan/ML_Lab_6thSem/security" href="/AVKavan/ML_Lab_6thSem/security">
                  Security
</a>              </li>
              <li data-menu-item="i6insights-tab" hidden>
                <a role="menuitem" class="js-selected-navigation-item dropdown-item" data-selected-links="repo_graphs repo_contributors dependency_graph dependabot_updates pulse people community /AVKavan/ML_Lab_6thSem/pulse" href="/AVKavan/ML_Lab_6thSem/pulse">
                  Insights
</a>              </li>
          </ul>
</details-menu>
</details></div>
</nav>

  </div>

  



<turbo-frame id="repo-content-turbo-frame" target="_top" data-turbo-action="advance" class="">
    <div id="repo-content-pjax-container" class="repository-content " >
      <a href="https://github.dev/" class="d-none js-github-dev-shortcut" data-hotkey=".">Open in github.dev</a>
  <a href="https://github.dev/" class="d-none js-github-dev-new-tab-shortcut" data-hotkey="Shift+.,Shift+&gt;,&gt;" target="_blank">Open in a new github.dev tab</a>
    <a class="d-none" data-hotkey="," target="_blank" href="/codespaces/new/AVKavan/ML_Lab_6thSem/tree/main?resume=1">Open in codespace</a>



    
      
    





<react-app
  app-name="react-code-view"
  initial-path="/AVKavan/ML_Lab_6thSem/blob/main/Part-B/8B-AGNES_DIANA.ipynb"
  style="min-height: calc(100vh - 62px)"
  data-ssr="false"
  data-lazy="false"
  data-alternate="false"
>
  
  <script type="application/json" data-target="react-app.embeddedData">{"payload":{"allShortcutsEnabled":true,"fileTree":{"Part-B":{"items":[{"name":"1B-Simple_Linear_Reg.ipynb","path":"Part-B/1B-Simple_Linear_Reg.ipynb","contentType":"file"},{"name":"2B-Multiple_Linear_Reg.ipynb","path":"Part-B/2B-Multiple_Linear_Reg.ipynb","contentType":"file"},{"name":"3B-NaiveBayes(BiNomial).ipynb","path":"Part-B/3B-NaiveBayes(BiNomial).ipynb","contentType":"file"},{"name":"4B-NaiveBayes(MultiNomial).ipynb","path":"Part-B/4B-NaiveBayes(MultiNomial).ipynb","contentType":"file"},{"name":"6B-DecisionTree.ipynb","path":"Part-B/6B-DecisionTree.ipynb","contentType":"file"},{"name":"7B-LogisticRegression.ipynb","path":"Part-B/7B-LogisticRegression.ipynb","contentType":"file"},{"name":"8B-AGNES_DIANA.ipynb","path":"Part-B/8B-AGNES_DIANA.ipynb","contentType":"file"}],"totalCount":7},"":{"items":[{"name":"Part-A","path":"Part-A","contentType":"directory"},{"name":"Part-B","path":"Part-B","contentType":"directory"}],"totalCount":2}},"fileTreeProcessingTime":3.719243,"foldersToFetch":[],"reducedMotionEnabled":"system","repo":{"id":633462718,"defaultBranch":"main","name":"ML_Lab_6thSem","ownerLogin":"AVKavan","currentUserCanPush":false,"isFork":false,"isEmpty":false,"createdAt":"2023-04-27T20:19:59.000+05:30","ownerAvatar":"https://avatars.githubusercontent.com/u/107805278?v=4","public":true,"private":false},"refInfo":{"name":"main","listCacheKey":"v0:1682607370.0","canEdit":true,"refType":"branch","currentOid":"c03378cfc8b136e76e6e4a81532fee218ea1edc1"},"path":"Part-B/8B-AGNES_DIANA.ipynb","currentUser":{"id":64247982,"login":"suhaswarrior","userEmail":"suhas4341@gmail.com"},"blob":{"rawBlob":"{\n \"cells\": [\n  {\n   \"cell_type\": \"code\",\n   \"execution_count\": 1,\n   \"metadata\": {},\n   \"outputs\": [],\n   \"source\": [\n    \"import pandas as pd\\n\",\n    \"import matplotlib.pyplot as plt\\n\",\n    \"import numpy as np\\n\",\n    \"import scipy.cluster.hierarchy as sch\\n\",\n    \"from sklearn.cluster import AgglomerativeClustering\"\n   ]\n  },\n  {\n   \"cell_type\": \"code\",\n   \"execution_count\": 2,\n   \"metadata\": {},\n   \"outputs\": [\n    {\n     \"data\": {\n      \"text/html\": [\n       \"\u003cdiv\u003e\\n\",\n       \"\u003cstyle scoped\u003e\\n\",\n       \"    .dataframe tbody tr th:only-of-type {\\n\",\n       \"        vertical-align: middle;\\n\",\n       \"    }\\n\",\n       \"\\n\",\n       \"    .dataframe tbody tr th {\\n\",\n       \"        vertical-align: top;\\n\",\n       \"    }\\n\",\n       \"\\n\",\n       \"    .dataframe thead th {\\n\",\n       \"        text-align: right;\\n\",\n       \"    }\\n\",\n       \"\u003c/style\u003e\\n\",\n       \"\u003ctable border=\\\"1\\\" class=\\\"dataframe\\\"\u003e\\n\",\n       \"  \u003cthead\u003e\\n\",\n       \"    \u003ctr style=\\\"text-align: right;\\\"\u003e\\n\",\n       \"      \u003cth\u003e\u003c/th\u003e\\n\",\n       \"      \u003cth\u003eSepal_Length\u003c/th\u003e\\n\",\n       \"      \u003cth\u003eSepal_Width\u003c/th\u003e\\n\",\n       \"      \u003cth\u003ePetal_Length\u003c/th\u003e\\n\",\n       \"      \u003cth\u003ePetal_Width\u003c/th\u003e\\n\",\n       \"      \u003cth\u003eClass\u003c/th\u003e\\n\",\n       \"    \u003c/tr\u003e\\n\",\n       \"  \u003c/thead\u003e\\n\",\n       \"  \u003ctbody\u003e\\n\",\n       \"    \u003ctr\u003e\\n\",\n       \"      \u003cth\u003e0\u003c/th\u003e\\n\",\n       \"      \u003ctd\u003e5.1\u003c/td\u003e\\n\",\n       \"      \u003ctd\u003e3.5\u003c/td\u003e\\n\",\n       \"      \u003ctd\u003e1.4\u003c/td\u003e\\n\",\n       \"      \u003ctd\u003e0.2\u003c/td\u003e\\n\",\n       \"      \u003ctd\u003eIris-setosa\u003c/td\u003e\\n\",\n       \"    \u003c/tr\u003e\\n\",\n       \"    \u003ctr\u003e\\n\",\n       \"      \u003cth\u003e1\u003c/th\u003e\\n\",\n       \"      \u003ctd\u003e4.9\u003c/td\u003e\\n\",\n       \"      \u003ctd\u003e3.0\u003c/td\u003e\\n\",\n       \"      \u003ctd\u003e1.4\u003c/td\u003e\\n\",\n       \"      \u003ctd\u003e0.2\u003c/td\u003e\\n\",\n       \"      \u003ctd\u003eIris-setosa\u003c/td\u003e\\n\",\n       \"    \u003c/tr\u003e\\n\",\n       \"    \u003ctr\u003e\\n\",\n       \"      \u003cth\u003e2\u003c/th\u003e\\n\",\n       \"      \u003ctd\u003e4.7\u003c/td\u003e\\n\",\n       \"      \u003ctd\u003e3.2\u003c/td\u003e\\n\",\n       \"      \u003ctd\u003e1.3\u003c/td\u003e\\n\",\n       \"      \u003ctd\u003e0.2\u003c/td\u003e\\n\",\n       \"      \u003ctd\u003eIris-setosa\u003c/td\u003e\\n\",\n       \"    \u003c/tr\u003e\\n\",\n       \"    \u003ctr\u003e\\n\",\n       \"      \u003cth\u003e3\u003c/th\u003e\\n\",\n       \"      \u003ctd\u003e4.6\u003c/td\u003e\\n\",\n       \"      \u003ctd\u003e3.1\u003c/td\u003e\\n\",\n       \"      \u003ctd\u003e1.5\u003c/td\u003e\\n\",\n       \"      \u003ctd\u003e0.2\u003c/td\u003e\\n\",\n       \"      \u003ctd\u003eIris-setosa\u003c/td\u003e\\n\",\n       \"    \u003c/tr\u003e\\n\",\n       \"    \u003ctr\u003e\\n\",\n       \"      \u003cth\u003e4\u003c/th\u003e\\n\",\n       \"      \u003ctd\u003e5.0\u003c/td\u003e\\n\",\n       \"      \u003ctd\u003e3.6\u003c/td\u003e\\n\",\n       \"      \u003ctd\u003e1.4\u003c/td\u003e\\n\",\n       \"      \u003ctd\u003e0.2\u003c/td\u003e\\n\",\n       \"      \u003ctd\u003eIris-setosa\u003c/td\u003e\\n\",\n       \"    \u003c/tr\u003e\\n\",\n       \"    \u003ctr\u003e\\n\",\n       \"      \u003cth\u003e...\u003c/th\u003e\\n\",\n       \"      \u003ctd\u003e...\u003c/td\u003e\\n\",\n       \"      \u003ctd\u003e...\u003c/td\u003e\\n\",\n       \"      \u003ctd\u003e...\u003c/td\u003e\\n\",\n       \"      \u003ctd\u003e...\u003c/td\u003e\\n\",\n       \"      \u003ctd\u003e...\u003c/td\u003e\\n\",\n       \"    \u003c/tr\u003e\\n\",\n       \"    \u003ctr\u003e\\n\",\n       \"      \u003cth\u003e145\u003c/th\u003e\\n\",\n       \"      \u003ctd\u003e6.7\u003c/td\u003e\\n\",\n       \"      \u003ctd\u003e3.0\u003c/td\u003e\\n\",\n       \"      \u003ctd\u003e5.2\u003c/td\u003e\\n\",\n       \"      \u003ctd\u003e2.3\u003c/td\u003e\\n\",\n       \"      \u003ctd\u003eIris-virginica\u003c/td\u003e\\n\",\n       \"    \u003c/tr\u003e\\n\",\n       \"    \u003ctr\u003e\\n\",\n       \"      \u003cth\u003e146\u003c/th\u003e\\n\",\n       \"      \u003ctd\u003e6.3\u003c/td\u003e\\n\",\n       \"      \u003ctd\u003e2.5\u003c/td\u003e\\n\",\n       \"      \u003ctd\u003e5.0\u003c/td\u003e\\n\",\n       \"      \u003ctd\u003e1.9\u003c/td\u003e\\n\",\n       \"      \u003ctd\u003eIris-virginica\u003c/td\u003e\\n\",\n       \"    \u003c/tr\u003e\\n\",\n       \"    \u003ctr\u003e\\n\",\n       \"      \u003cth\u003e147\u003c/th\u003e\\n\",\n       \"      \u003ctd\u003e6.5\u003c/td\u003e\\n\",\n       \"      \u003ctd\u003e3.0\u003c/td\u003e\\n\",\n       \"      \u003ctd\u003e5.2\u003c/td\u003e\\n\",\n       \"      \u003ctd\u003e2.0\u003c/td\u003e\\n\",\n       \"      \u003ctd\u003eIris-virginica\u003c/td\u003e\\n\",\n       \"    \u003c/tr\u003e\\n\",\n       \"    \u003ctr\u003e\\n\",\n       \"      \u003cth\u003e148\u003c/th\u003e\\n\",\n       \"      \u003ctd\u003e6.2\u003c/td\u003e\\n\",\n       \"      \u003ctd\u003e3.4\u003c/td\u003e\\n\",\n       \"      \u003ctd\u003e5.4\u003c/td\u003e\\n\",\n       \"      \u003ctd\u003e2.3\u003c/td\u003e\\n\",\n       \"      \u003ctd\u003eIris-virginica\u003c/td\u003e\\n\",\n       \"    \u003c/tr\u003e\\n\",\n       \"    \u003ctr\u003e\\n\",\n       \"      \u003cth\u003e149\u003c/th\u003e\\n\",\n       \"      \u003ctd\u003e5.9\u003c/td\u003e\\n\",\n       \"      \u003ctd\u003e3.0\u003c/td\u003e\\n\",\n       \"      \u003ctd\u003e5.1\u003c/td\u003e\\n\",\n       \"      \u003ctd\u003e1.8\u003c/td\u003e\\n\",\n       \"      \u003ctd\u003eIris-virginica\u003c/td\u003e\\n\",\n       \"    \u003c/tr\u003e\\n\",\n       \"  \u003c/tbody\u003e\\n\",\n       \"\u003c/table\u003e\\n\",\n       \"\u003cp\u003e150 rows × 5 columns\u003c/p\u003e\\n\",\n       \"\u003c/div\u003e\"\n      ],\n      \"text/plain\": [\n       \"     Sepal_Length  Sepal_Width  Petal_Length  Petal_Width           Class\\n\",\n       \"0             5.1          3.5           1.4          0.2     Iris-setosa\\n\",\n       \"1             4.9          3.0           1.4          0.2     Iris-setosa\\n\",\n       \"2             4.7          3.2           1.3          0.2     Iris-setosa\\n\",\n       \"3             4.6          3.1           1.5          0.2     Iris-setosa\\n\",\n       \"4             5.0          3.6           1.4          0.2     Iris-setosa\\n\",\n       \"..            ...          ...           ...          ...             ...\\n\",\n       \"145           6.7          3.0           5.2          2.3  Iris-virginica\\n\",\n       \"146           6.3          2.5           5.0          1.9  Iris-virginica\\n\",\n       \"147           6.5          3.0           5.2          2.0  Iris-virginica\\n\",\n       \"148           6.2          3.4           5.4          2.3  Iris-virginica\\n\",\n       \"149           5.9          3.0           5.1          1.8  Iris-virginica\\n\",\n       \"\\n\",\n       \"[150 rows x 5 columns]\"\n      ]\n     },\n     \"execution_count\": 2,\n     \"metadata\": {},\n     \"output_type\": \"execute_result\"\n    }\n   ],\n   \"source\": [\n    \"df = pd.read_csv('iris.csv')\\n\",\n    \"df\"\n   ]\n  },\n  {\n   \"cell_type\": \"code\",\n   \"execution_count\": 3,\n   \"metadata\": {},\n   \"outputs\": [\n    {\n     \"data\": {\n      \"text/html\": [\n       \"\u003cdiv\u003e\\n\",\n       \"\u003cstyle scoped\u003e\\n\",\n       \"    .dataframe tbody tr th:only-of-type {\\n\",\n       \"        vertical-align: middle;\\n\",\n       \"    }\\n\",\n       \"\\n\",\n       \"    .dataframe tbody tr th {\\n\",\n       \"        vertical-align: top;\\n\",\n       \"    }\\n\",\n       \"\\n\",\n       \"    .dataframe thead th {\\n\",\n       \"        text-align: right;\\n\",\n       \"    }\\n\",\n       \"\u003c/style\u003e\\n\",\n       \"\u003ctable border=\\\"1\\\" class=\\\"dataframe\\\"\u003e\\n\",\n       \"  \u003cthead\u003e\\n\",\n       \"    \u003ctr style=\\\"text-align: right;\\\"\u003e\\n\",\n       \"      \u003cth\u003e\u003c/th\u003e\\n\",\n       \"      \u003cth\u003eSepal_Length\u003c/th\u003e\\n\",\n       \"      \u003cth\u003eSepal_Width\u003c/th\u003e\\n\",\n       \"      \u003cth\u003ePetal_Length\u003c/th\u003e\\n\",\n       \"      \u003cth\u003ePetal_Width\u003c/th\u003e\\n\",\n       \"      \u003cth\u003eClass\u003c/th\u003e\\n\",\n       \"    \u003c/tr\u003e\\n\",\n       \"  \u003c/thead\u003e\\n\",\n       \"  \u003ctbody\u003e\\n\",\n       \"    \u003ctr\u003e\\n\",\n       \"      \u003cth\u003e0\u003c/th\u003e\\n\",\n       \"      \u003ctd\u003e8\u003c/td\u003e\\n\",\n       \"      \u003ctd\u003e14\u003c/td\u003e\\n\",\n       \"      \u003ctd\u003e4\u003c/td\u003e\\n\",\n       \"      \u003ctd\u003e1\u003c/td\u003e\\n\",\n       \"      \u003ctd\u003e0\u003c/td\u003e\\n\",\n       \"    \u003c/tr\u003e\\n\",\n       \"    \u003ctr\u003e\\n\",\n       \"      \u003cth\u003e1\u003c/th\u003e\\n\",\n       \"      \u003ctd\u003e6\u003c/td\u003e\\n\",\n       \"      \u003ctd\u003e9\u003c/td\u003e\\n\",\n       \"      \u003ctd\u003e4\u003c/td\u003e\\n\",\n       \"      \u003ctd\u003e1\u003c/td\u003e\\n\",\n       \"      \u003ctd\u003e0\u003c/td\u003e\\n\",\n       \"    \u003c/tr\u003e\\n\",\n       \"    \u003ctr\u003e\\n\",\n       \"      \u003cth\u003e2\u003c/th\u003e\\n\",\n       \"      \u003ctd\u003e4\u003c/td\u003e\\n\",\n       \"      \u003ctd\u003e11\u003c/td\u003e\\n\",\n       \"      \u003ctd\u003e3\u003c/td\u003e\\n\",\n       \"      \u003ctd\u003e1\u003c/td\u003e\\n\",\n       \"      \u003ctd\u003e0\u003c/td\u003e\\n\",\n       \"    \u003c/tr\u003e\\n\",\n       \"    \u003ctr\u003e\\n\",\n       \"      \u003cth\u003e3\u003c/th\u003e\\n\",\n       \"      \u003ctd\u003e3\u003c/td\u003e\\n\",\n       \"      \u003ctd\u003e10\u003c/td\u003e\\n\",\n       \"      \u003ctd\u003e5\u003c/td\u003e\\n\",\n       \"      \u003ctd\u003e1\u003c/td\u003e\\n\",\n       \"      \u003ctd\u003e0\u003c/td\u003e\\n\",\n       \"    \u003c/tr\u003e\\n\",\n       \"    \u003ctr\u003e\\n\",\n       \"      \u003cth\u003e4\u003c/th\u003e\\n\",\n       \"      \u003ctd\u003e7\u003c/td\u003e\\n\",\n       \"      \u003ctd\u003e15\u003c/td\u003e\\n\",\n       \"      \u003ctd\u003e4\u003c/td\u003e\\n\",\n       \"      \u003ctd\u003e1\u003c/td\u003e\\n\",\n       \"      \u003ctd\u003e0\u003c/td\u003e\\n\",\n       \"    \u003c/tr\u003e\\n\",\n       \"    \u003ctr\u003e\\n\",\n       \"      \u003cth\u003e...\u003c/th\u003e\\n\",\n       \"      \u003ctd\u003e...\u003c/td\u003e\\n\",\n       \"      \u003ctd\u003e...\u003c/td\u003e\\n\",\n       \"      \u003ctd\u003e...\u003c/td\u003e\\n\",\n       \"      \u003ctd\u003e...\u003c/td\u003e\\n\",\n       \"      \u003ctd\u003e...\u003c/td\u003e\\n\",\n       \"    \u003c/tr\u003e\\n\",\n       \"    \u003ctr\u003e\\n\",\n       \"      \u003cth\u003e145\u003c/th\u003e\\n\",\n       \"      \u003ctd\u003e24\u003c/td\u003e\\n\",\n       \"      \u003ctd\u003e9\u003c/td\u003e\\n\",\n       \"      \u003ctd\u003e28\u003c/td\u003e\\n\",\n       \"      \u003ctd\u003e19\u003c/td\u003e\\n\",\n       \"      \u003ctd\u003e2\u003c/td\u003e\\n\",\n       \"    \u003c/tr\u003e\\n\",\n       \"    \u003ctr\u003e\\n\",\n       \"      \u003cth\u003e146\u003c/th\u003e\\n\",\n       \"      \u003ctd\u003e20\u003c/td\u003e\\n\",\n       \"      \u003ctd\u003e4\u003c/td\u003e\\n\",\n       \"      \u003ctd\u003e26\u003c/td\u003e\\n\",\n       \"      \u003ctd\u003e15\u003c/td\u003e\\n\",\n       \"      \u003ctd\u003e2\u003c/td\u003e\\n\",\n       \"    \u003c/tr\u003e\\n\",\n       \"    \u003ctr\u003e\\n\",\n       \"      \u003cth\u003e147\u003c/th\u003e\\n\",\n       \"      \u003ctd\u003e22\u003c/td\u003e\\n\",\n       \"      \u003ctd\u003e9\u003c/td\u003e\\n\",\n       \"      \u003ctd\u003e28\u003c/td\u003e\\n\",\n       \"      \u003ctd\u003e16\u003c/td\u003e\\n\",\n       \"      \u003ctd\u003e2\u003c/td\u003e\\n\",\n       \"    \u003c/tr\u003e\\n\",\n       \"    \u003ctr\u003e\\n\",\n       \"      \u003cth\u003e148\u003c/th\u003e\\n\",\n       \"      \u003ctd\u003e19\u003c/td\u003e\\n\",\n       \"      \u003ctd\u003e13\u003c/td\u003e\\n\",\n       \"      \u003ctd\u003e30\u003c/td\u003e\\n\",\n       \"      \u003ctd\u003e19\u003c/td\u003e\\n\",\n       \"      \u003ctd\u003e2\u003c/td\u003e\\n\",\n       \"    \u003c/tr\u003e\\n\",\n       \"    \u003ctr\u003e\\n\",\n       \"      \u003cth\u003e149\u003c/th\u003e\\n\",\n       \"      \u003ctd\u003e16\u003c/td\u003e\\n\",\n       \"      \u003ctd\u003e9\u003c/td\u003e\\n\",\n       \"      \u003ctd\u003e27\u003c/td\u003e\\n\",\n       \"      \u003ctd\u003e14\u003c/td\u003e\\n\",\n       \"      \u003ctd\u003e2\u003c/td\u003e\\n\",\n       \"    \u003c/tr\u003e\\n\",\n       \"  \u003c/tbody\u003e\\n\",\n       \"\u003c/table\u003e\\n\",\n       \"\u003cp\u003e150 rows × 5 columns\u003c/p\u003e\\n\",\n       \"\u003c/div\u003e\"\n      ],\n      \"text/plain\": [\n       \"     Sepal_Length  Sepal_Width  Petal_Length  Petal_Width  Class\\n\",\n       \"0               8           14             4            1      0\\n\",\n       \"1               6            9             4            1      0\\n\",\n       \"2               4           11             3            1      0\\n\",\n       \"3               3           10             5            1      0\\n\",\n       \"4               7           15             4            1      0\\n\",\n       \"..            ...          ...           ...          ...    ...\\n\",\n       \"145            24            9            28           19      2\\n\",\n       \"146            20            4            26           15      2\\n\",\n       \"147            22            9            28           16      2\\n\",\n       \"148            19           13            30           19      2\\n\",\n       \"149            16            9            27           14      2\\n\",\n       \"\\n\",\n       \"[150 rows x 5 columns]\"\n      ]\n     },\n     \"execution_count\": 3,\n     \"metadata\": {},\n     \"output_type\": \"execute_result\"\n    }\n   ],\n   \"source\": [\n    \"from sklearn.preprocessing import LabelEncoder\\n\",\n    \"encoder = LabelEncoder()\\n\",\n    \"df = df.apply(encoder.fit_transform)\\n\",\n    \"df\"\n   ]\n  },\n  {\n   \"cell_type\": \"code\",\n   \"execution_count\": 5,\n   \"metadata\": {},\n   \"outputs\": [\n    {\n     \"data\": {\n      \"text/plain\": [\n       \"Text(0.5, 1.0, 'AGNES')\"\n      ]\n     },\n     \"execution_count\": 5,\n     \"metadata\": {},\n     \"output_type\": \"execute_result\"\n    },\n    {\n     \"data\": {\n      \"image/png\": \"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\",\n      \"text/plain\": [\n       \"\u003cFigure size 640x480 with 1 Axes\u003e\"\n      ]\n     },\n     \"metadata\": {},\n     \"output_type\": \"display_data\"\n    }\n   ],\n   \"source\": [\n    \"x = df.drop(['Class'],axis =1)\\n\",\n    \"y = df['Class']\\n\",\n    \"\\n\",\n    \"sch.dendrogram(sch.linkage(x,method = 'ward'))\\n\",\n    \"plt.title(\\\"AGNES\\\")\"\n   ]\n  },\n  {\n   \"cell_type\": \"code\",\n   \"execution_count\": 6,\n   \"metadata\": {},\n   \"outputs\": [\n    {\n     \"data\": {\n      \"text/plain\": [\n       \"array([1, 1, 1, 1, 1, 1, 1, 1, 1, 1, 1, 1, 1, 1, 1, 1, 1, 1, 1, 1, 1, 1,\\n\",\n       \"       1, 1, 1, 1, 1, 1, 1, 1, 1, 1, 1, 1, 1, 1, 1, 1, 1, 1, 1, 1, 1, 1,\\n\",\n       \"       1, 1, 1, 1, 1, 1, 0, 0, 0, 0, 0, 0, 0, 0, 0, 0, 0, 0, 0, 0, 0, 0,\\n\",\n       \"       0, 0, 0, 0, 0, 0, 0, 0, 0, 0, 0, 2, 0, 0, 0, 0, 0, 0, 0, 0, 0, 0,\\n\",\n       \"       0, 0, 0, 0, 0, 0, 0, 0, 0, 0, 0, 0, 2, 0, 2, 2, 2, 2, 0, 2, 2, 2,\\n\",\n       \"       2, 2, 2, 0, 0, 2, 2, 2, 2, 0, 2, 0, 2, 0, 2, 2, 0, 0, 2, 2, 2, 2,\\n\",\n       \"       2, 0, 0, 2, 2, 2, 0, 2, 2, 2, 0, 2, 2, 2, 0, 2, 2, 0], dtype=int64)\"\n      ]\n     },\n     \"execution_count\": 6,\n     \"metadata\": {},\n     \"output_type\": \"execute_result\"\n    }\n   ],\n   \"source\": [\n    \"cluster = AgglomerativeClustering(n_clusters= 3,affinity= 'euclidean',linkage='ward')\\n\",\n    \"cluster.fit(x)\\n\",\n    \"labels = cluster.labels_\\n\",\n    \"labels\"\n   ]\n  },\n  {\n   \"cell_type\": \"code\",\n   \"execution_count\": 10,\n   \"metadata\": {},\n   \"outputs\": [\n    {\n     \"data\": {\n      \"image/png\": \"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\",\n      \"text/plain\": [\n       \"\u003cFigure size 640x480 with 1 Axes\u003e\"\n      ]\n     },\n     \"metadata\": {},\n     \"output_type\": \"display_data\"\n    }\n   ],\n   \"source\": [\n    \"x = np.array(x)\\n\",\n    \"plt.scatter(x[labels == 0,0],x[labels == 0,1],s=100,color = 'red')\\n\",\n    \"plt.scatter(x[labels == 1,0],x[labels == 1,1],s=100,color = 'green')\\n\",\n    \"plt.scatter(x[labels == 2,0],x[labels == 2,1],s=100,color = 'blue')\\n\",\n    \"plt.title(\\\"Agnes\\\")\\n\",\n    \"plt.show()\"\n   ]\n  },\n  {\n   \"cell_type\": \"code\",\n   \"execution_count\": 11,\n   \"metadata\": {},\n   \"outputs\": [\n    {\n     \"data\": {\n      \"text/plain\": [\n       \"Text(0.5, 1.0, 'DIANA')\"\n      ]\n     },\n     \"execution_count\": 11,\n     \"metadata\": {},\n     \"output_type\": \"execute_result\"\n    },\n    {\n     \"data\": {\n      \"image/png\": \"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\",\n      \"text/plain\": [\n       \"\u003cFigure size 640x480 with 1 Axes\u003e\"\n      ]\n     },\n     \"metadata\": {},\n     \"output_type\": \"display_data\"\n    }\n   ],\n   \"source\": [\n    \"x = df.drop(['Class'],axis =1)\\n\",\n    \"y = df['Class']\\n\",\n    \"\\n\",\n    \"sch.dendrogram(sch.linkage(x,method = 'complete'))\\n\",\n    \"plt.title(\\\"DIANA\\\")\"\n   ]\n  },\n  {\n   \"cell_type\": \"code\",\n   \"execution_count\": 12,\n   \"metadata\": {},\n   \"outputs\": [\n    {\n     \"data\": {\n      \"text/plain\": [\n       \"array([0, 0, 0, 0, 0, 0, 0, 0, 0, 0, 0, 0, 0, 0, 0, 0, 0, 0, 0, 0, 0, 0,\\n\",\n       \"       0, 0, 0, 0, 0, 0, 0, 0, 0, 0, 0, 0, 0, 0, 0, 0, 0, 0, 0, 0, 0, 0,\\n\",\n       \"       0, 0, 0, 0, 0, 0, 2, 2, 2, 2, 2, 2, 2, 0, 2, 2, 0, 2, 2, 2, 2, 2,\\n\",\n       \"       2, 2, 2, 2, 2, 2, 2, 2, 2, 2, 2, 2, 2, 2, 2, 2, 2, 2, 2, 2, 2, 2,\\n\",\n       \"       2, 2, 2, 2, 2, 0, 2, 2, 2, 2, 0, 2, 1, 2, 1, 1, 1, 1, 2, 1, 1, 1,\\n\",\n       \"       1, 2, 1, 2, 2, 1, 1, 1, 1, 2, 1, 2, 1, 2, 1, 1, 2, 2, 1, 1, 1, 1,\\n\",\n       \"       1, 2, 2, 1, 1, 1, 2, 1, 1, 1, 2, 1, 1, 1, 2, 1, 1, 2], dtype=int64)\"\n      ]\n     },\n     \"execution_count\": 12,\n     \"metadata\": {},\n     \"output_type\": \"execute_result\"\n    }\n   ],\n   \"source\": [\n    \"cluster = AgglomerativeClustering(n_clusters= 3,affinity= 'euclidean',linkage='complete')\\n\",\n    \"cluster.fit(x)\\n\",\n    \"labels = cluster.labels_\\n\",\n    \"labels\"\n   ]\n  },\n  {\n   \"cell_type\": \"code\",\n   \"execution_count\": 13,\n   \"metadata\": {},\n   \"outputs\": [\n    {\n     \"data\": {\n      \"image/png\": \"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\",\n      \"text/plain\": [\n       \"\u003cFigure size 640x480 with 1 Axes\u003e\"\n      ]\n     },\n     \"metadata\": {},\n     \"output_type\": \"display_data\"\n    }\n   ],\n   \"source\": [\n    \"x = np.array(x)\\n\",\n    \"plt.scatter(x[labels == 0,0],x[labels == 0,1],s=100,color = 'red')\\n\",\n    \"plt.scatter(x[labels == 1,0],x[labels == 1,1],s=100,color = 'green')\\n\",\n    \"plt.scatter(x[labels == 2,0],x[labels == 2,1],s=100,color = 'blue')\\n\",\n    \"plt.title(\\\"DIANA\\\")\\n\",\n    \"plt.show()\"\n   ]\n  }\n ],\n \"metadata\": {\n  \"kernelspec\": {\n   \"display_name\": \"base\",\n   \"language\": \"python\",\n   \"name\": \"python3\"\n  },\n  \"language_info\": {\n   \"codemirror_mode\": {\n    \"name\": \"ipython\",\n    \"version\": 3\n   },\n   \"file_extension\": \".py\",\n   \"mimetype\": \"text/x-python\",\n   \"name\": \"python\",\n   \"nbconvert_exporter\": \"python\",\n   \"pygments_lexer\": \"ipython3\",\n   \"version\": \"3.9.13\"\n  },\n  \"orig_nbformat\": 4\n },\n \"nbformat\": 4,\n \"nbformat_minor\": 2\n}\n","colorizedLines":null,"stylingDirectives":null,"csv":null,"csvError":null,"dependabotInfo":{"showConfigurationBanner":false,"configFilePath":null,"networkDependabotPath":"/AVKavan/ML_Lab_6thSem/network/updates","dismissConfigurationNoticePath":"/settings/dismiss-notice/dependabot_configuration_notice","configurationNoticeDismissed":false,"repoAlertsPath":"/AVKavan/ML_Lab_6thSem/security/dependabot","repoSecurityAndAnalysisPath":"/AVKavan/ML_Lab_6thSem/settings/security_analysis","repoOwnerIsOrg":false,"currentUserCanAdminRepo":false},"displayName":"8B-AGNES_DIANA.ipynb","displayUrl":"https://notebooks.githubusercontent.com/view/ipynb?browser=chrome\u0026bypass_fastly=true\u0026color_mode=auto\u0026commit=c03378cfc8b136e76e6e4a81532fee218ea1edc1\u0026device=unknown_device\u0026docs_host=https%3A%2F%2Fdocs.github.com\u0026enc_url=68747470733a2f2f7261772e67697468756275736572636f6e74656e742e636f6d2f41564b6176616e2f4d4c5f4c61625f36746853656d2f633033333738636663386231333665373665366534613831353332666565323138656131656463312f506172742d422f38422d41474e45535f4449414e412e6970796e62\u0026logged_in=true\u0026nwo=AVKavan%2FML_Lab_6thSem\u0026path=Part-B%2F8B-AGNES_DIANA.ipynb\u0026platform=windows\u0026repository_id=633462718\u0026repository_type=Repository\u0026version=113","headerInfo":{"blobSize":"132 KB","deleteInfo":{"deletePath":"https://github.com/AVKavan/ML_Lab_6thSem/delete/main/Part-B/8B-AGNES_DIANA.ipynb","deleteTooltip":"Fork this repository and delete the file"},"editInfo":{"editTooltip":"Fork this repository and edit the file"},"ghDesktopPath":"https://desktop.github.com","gitLfsPath":null,"onBranch":true,"shortPath":"878c88c","siteNavLoginPath":"/login?return_to=https%3A%2F%2Fgithub.com%2FAVKavan%2FML_Lab_6thSem%2Fblob%2Fmain%2FPart-B%2F8B-AGNES_DIANA.ipynb","isCSV":false,"isRichtext":false,"toc":null,"lineInfo":{"truncatedLoc":"525","truncatedSloc":"525"},"mode":"file"},"image":false,"isCodeownersFile":null,"isValidLegacyIssueTemplate":false,"issueTemplateHelpUrl":"https://docs.github.com/articles/about-issue-and-pull-request-templates","issueTemplate":null,"discussionTemplate":null,"language":"Jupyter Notebook","large":false,"loggedIn":true,"newDiscussionPath":"/AVKavan/ML_Lab_6thSem/discussions/new","newIssuePath":"/AVKavan/ML_Lab_6thSem/issues/new","planSupportInfo":{"repoIsFork":null,"repoOwnedByCurrentUser":null,"requestFullPath":"/AVKavan/ML_Lab_6thSem/blob/main/Part-B/8B-AGNES_DIANA.ipynb","showFreeOrgGatedFeatureMessage":null,"showPlanSupportBanner":null,"upgradeDataAttributes":null,"upgradePath":null},"publishBannersInfo":{"dismissActionNoticePath":"/settings/dismiss-notice/publish_action_from_dockerfile","dismissStackNoticePath":"/settings/dismiss-notice/publish_stack_from_file","releasePath":"/AVKavan/ML_Lab_6thSem/releases/new?marketplace=true","showPublishActionBanner":false,"showPublishStackBanner":false},"renderImageOrRaw":false,"richText":null,"renderedFileInfo":{"identityUUID":"0786d3a0-a51f-4ebb-8272-dee0bf04d6b1","renderFileType":"ipynb","size":135255},"tabSize":8,"topBannersInfo":{"overridingGlobalFundingFile":false,"globalPreferredFundingPath":null,"repoOwner":"AVKavan","repoName":"ML_Lab_6thSem","showInvalidCitationWarning":false,"citationHelpUrl":"https://docs.github.com/en/github/creating-cloning-and-archiving-repositories/creating-a-repository-on-github/about-citation-files","showDependabotConfigurationBanner":false,"actionsOnboardingTip":null},"truncated":false,"viewable":true,"workflowRedirectUrl":null,"symbols":{"timedOut":false,"notAnalyzed":true,"symbols":[]}},"csrf_tokens":{"/AVKavan/ML_Lab_6thSem/branches":{"post":"9ysXhqDoCGxkypKgpZH2i6lzZgp4bYqziJpWj8gWrBmwLyu0aDOIQTBDtxR_rfppUavjzR65My6hkO-AUOpY_A"}}},"title":"ML_Lab_6thSem/8B-AGNES_DIANA.ipynb at main · AVKavan/ML_Lab_6thSem","locale":"en","appPayload":{"helpUrl":"https://docs.github.com","findFileWorkerPath":"/assets-cdn/worker/find-file-worker-848bb9a5da17.js","findInFileWorkerPath":"/assets-cdn/worker/find-in-file-worker-8812f8040df6.js","githubDevUrl":"https://github.dev/","enabled_features":{"virtualize_file_tree":true,"react_repos_overview":false,"repos_new_shortcut_enabled":false,"blob_navigation_cursor":true,"code_nav_ui_events":false,"ref_selector_v2":false,"codeview_codemirror_next":false}}}</script>
  <div data-target="react-app.reactRoot"></div>
</react-app>
</turbo-frame>



  </div>

</turbo-frame>

    </main>
  </div>

  </div>

          <footer class="footer width-full container-xl p-responsive" role="contentinfo">
  <h2 class='sr-only'>Footer</h2>

  <div class="position-relative d-flex flex-items-center pb-2 f6 color-fg-muted border-top color-border-muted flex-column-reverse flex-lg-row flex-wrap flex-lg-nowrap mt-6 pt-6">
    <div class="list-style-none d-flex flex-wrap col-0 col-lg-2 flex-justify-start flex-lg-justify-between mb-2 mb-lg-0">
      <div class="mt-2 mt-lg-0 d-flex flex-items-center">
        <a aria-label="Homepage" title="GitHub" class="footer-octicon mr-2" href="https://github.com">
          <svg aria-hidden="true" height="24" viewBox="0 0 16 16" version="1.1" width="24" data-view-component="true" class="octicon octicon-mark-github">
    <path d="M8 0c4.42 0 8 3.58 8 8a8.013 8.013 0 0 1-5.45 7.59c-.4.08-.55-.17-.55-.38 0-.27.01-1.13.01-2.2 0-.75-.25-1.23-.54-1.48 1.78-.2 3.65-.88 3.65-3.95 0-.88-.31-1.59-.82-2.15.08-.2.36-1.02-.08-2.12 0 0-.67-.22-2.2.82-.64-.18-1.32-.27-2-.27-.68 0-1.36.09-2 .27-1.53-1.03-2.2-.82-2.2-.82-.44 1.1-.16 1.92-.08 2.12-.51.56-.82 1.28-.82 2.15 0 3.06 1.86 3.75 3.64 3.95-.23.2-.44.55-.51 1.07-.46.21-1.61.55-2.33-.66-.15-.24-.6-.83-1.23-.82-.67.01-.27.38.01.53.34.19.73.9.82 1.13.16.45.68 1.31 2.69.94 0 .67.01 1.3.01 1.49 0 .21-.15.45-.55.38A7.995 7.995 0 0 1 0 8c0-4.42 3.58-8 8-8Z"></path>
</svg>
</a>        <span>
        &copy; 2023 GitHub, Inc.
        </span>
      </div>
    </div>

    <nav aria-label='Footer' class="col-12 col-lg-8">
      <h3 class='sr-only' id='sr-footer-heading'>Footer navigation</h3>
      <ul class="list-style-none d-flex flex-wrap col-12 flex-justify-center flex-lg-justify-between mb-2 mb-lg-0" aria-labelledby='sr-footer-heading'>
          <li class="mr-3 mr-lg-0"><a href="https://docs.github.com/site-policy/github-terms/github-terms-of-service" data-analytics-event="{&quot;category&quot;:&quot;Footer&quot;,&quot;action&quot;:&quot;go to terms&quot;,&quot;label&quot;:&quot;text:terms&quot;}">Terms</a></li>
          <li class="mr-3 mr-lg-0"><a href="https://docs.github.com/site-policy/privacy-policies/github-privacy-statement" data-analytics-event="{&quot;category&quot;:&quot;Footer&quot;,&quot;action&quot;:&quot;go to privacy&quot;,&quot;label&quot;:&quot;text:privacy&quot;}">Privacy</a></li>
          <li class="mr-3 mr-lg-0"><a data-analytics-event="{&quot;category&quot;:&quot;Footer&quot;,&quot;action&quot;:&quot;go to security&quot;,&quot;label&quot;:&quot;text:security&quot;}" href="https://github.com/security">Security</a></li>
          <li class="mr-3 mr-lg-0"><a href="https://www.githubstatus.com/" data-analytics-event="{&quot;category&quot;:&quot;Footer&quot;,&quot;action&quot;:&quot;go to status&quot;,&quot;label&quot;:&quot;text:status&quot;}">Status</a></li>
          <li class="mr-3 mr-lg-0"><a data-ga-click="Footer, go to help, text:Docs" href="https://docs.github.com">Docs</a></li>
          <li class="mr-3 mr-lg-0"><a href="https://support.github.com?tags=dotcom-footer" data-analytics-event="{&quot;category&quot;:&quot;Footer&quot;,&quot;action&quot;:&quot;go to contact&quot;,&quot;label&quot;:&quot;text:contact&quot;}">Contact GitHub</a></li>
          <li class="mr-3 mr-lg-0"><a href="https://github.com/pricing" data-analytics-event="{&quot;category&quot;:&quot;Footer&quot;,&quot;action&quot;:&quot;go to Pricing&quot;,&quot;label&quot;:&quot;text:Pricing&quot;}">Pricing</a></li>
        <li class="mr-3 mr-lg-0"><a href="https://docs.github.com" data-analytics-event="{&quot;category&quot;:&quot;Footer&quot;,&quot;action&quot;:&quot;go to api&quot;,&quot;label&quot;:&quot;text:api&quot;}">API</a></li>
        <li class="mr-3 mr-lg-0"><a href="https://services.github.com" data-analytics-event="{&quot;category&quot;:&quot;Footer&quot;,&quot;action&quot;:&quot;go to training&quot;,&quot;label&quot;:&quot;text:training&quot;}">Training</a></li>
          <li class="mr-3 mr-lg-0"><a href="https://github.blog" data-analytics-event="{&quot;category&quot;:&quot;Footer&quot;,&quot;action&quot;:&quot;go to blog&quot;,&quot;label&quot;:&quot;text:blog&quot;}">Blog</a></li>
          <li><a data-ga-click="Footer, go to about, text:about" href="https://github.com/about">About</a></li>
      </ul>
    </nav>
  </div>

  <div class="d-flex flex-justify-center pb-6">
    <span class="f6 color-fg-muted"></span>
  </div>
</footer>




  <div id="ajax-error-message" class="ajax-error-message flash flash-error" hidden>
    <svg aria-hidden="true" height="16" viewBox="0 0 16 16" version="1.1" width="16" data-view-component="true" class="octicon octicon-alert">
    <path d="M6.457 1.047c.659-1.234 2.427-1.234 3.086 0l6.082 11.378A1.75 1.75 0 0 1 14.082 15H1.918a1.75 1.75 0 0 1-1.543-2.575Zm1.763.707a.25.25 0 0 0-.44 0L1.698 13.132a.25.25 0 0 0 .22.368h12.164a.25.25 0 0 0 .22-.368Zm.53 3.996v2.5a.75.75 0 0 1-1.5 0v-2.5a.75.75 0 0 1 1.5 0ZM9 11a1 1 0 1 1-2 0 1 1 0 0 1 2 0Z"></path>
</svg>
    <button type="button" class="flash-close js-ajax-error-dismiss" aria-label="Dismiss error">
      <svg aria-hidden="true" height="16" viewBox="0 0 16 16" version="1.1" width="16" data-view-component="true" class="octicon octicon-x">
    <path d="M3.72 3.72a.75.75 0 0 1 1.06 0L8 6.94l3.22-3.22a.749.749 0 0 1 1.275.326.749.749 0 0 1-.215.734L9.06 8l3.22 3.22a.749.749 0 0 1-.326 1.275.749.749 0 0 1-.734-.215L8 9.06l-3.22 3.22a.751.751 0 0 1-1.042-.018.751.751 0 0 1-.018-1.042L6.94 8 3.72 4.78a.75.75 0 0 1 0-1.06Z"></path>
</svg>
    </button>
    You can’t perform that action at this time.
  </div>

  <div class="js-stale-session-flash flash flash-warn flash-banner" hidden
    >
    <svg aria-hidden="true" height="16" viewBox="0 0 16 16" version="1.1" width="16" data-view-component="true" class="octicon octicon-alert">
    <path d="M6.457 1.047c.659-1.234 2.427-1.234 3.086 0l6.082 11.378A1.75 1.75 0 0 1 14.082 15H1.918a1.75 1.75 0 0 1-1.543-2.575Zm1.763.707a.25.25 0 0 0-.44 0L1.698 13.132a.25.25 0 0 0 .22.368h12.164a.25.25 0 0 0 .22-.368Zm.53 3.996v2.5a.75.75 0 0 1-1.5 0v-2.5a.75.75 0 0 1 1.5 0ZM9 11a1 1 0 1 1-2 0 1 1 0 0 1 2 0Z"></path>
</svg>
    <span class="js-stale-session-flash-signed-in" hidden>You signed in with another tab or window. <a href="">Reload</a> to refresh your session.</span>
    <span class="js-stale-session-flash-signed-out" hidden>You signed out in another tab or window. <a href="">Reload</a> to refresh your session.</span>
  </div>
    <template id="site-details-dialog">
  <details class="details-reset details-overlay details-overlay-dark lh-default color-fg-default hx_rsm" open>
    <summary role="button" aria-label="Close dialog"></summary>
    <details-dialog class="Box Box--overlay d-flex flex-column anim-fade-in fast hx_rsm-dialog hx_rsm-modal">
      <button class="Box-btn-octicon m-0 btn-octicon position-absolute right-0 top-0" type="button" aria-label="Close dialog" data-close-dialog>
        <svg aria-hidden="true" height="16" viewBox="0 0 16 16" version="1.1" width="16" data-view-component="true" class="octicon octicon-x">
    <path d="M3.72 3.72a.75.75 0 0 1 1.06 0L8 6.94l3.22-3.22a.749.749 0 0 1 1.275.326.749.749 0 0 1-.215.734L9.06 8l3.22 3.22a.749.749 0 0 1-.326 1.275.749.749 0 0 1-.734-.215L8 9.06l-3.22 3.22a.751.751 0 0 1-1.042-.018.751.751 0 0 1-.018-1.042L6.94 8 3.72 4.78a.75.75 0 0 1 0-1.06Z"></path>
</svg>
      </button>
      <div class="octocat-spinner my-6 js-details-dialog-spinner"></div>
    </details-dialog>
  </details>
</template>

    <div class="Popover js-hovercard-content position-absolute" style="display: none; outline: none;" tabindex="0">
  <div class="Popover-message Popover-message--bottom-left Popover-message--large Box color-shadow-large" style="width:360px;">
  </div>
</div>

    <template id="snippet-clipboard-copy-button">
  <div class="zeroclipboard-container position-absolute right-0 top-0">
    <clipboard-copy aria-label="Copy" class="ClipboardButton btn js-clipboard-copy m-2 p-0 tooltipped-no-delay" data-copy-feedback="Copied!" data-tooltip-direction="w">
      <svg aria-hidden="true" height="16" viewBox="0 0 16 16" version="1.1" width="16" data-view-component="true" class="octicon octicon-copy js-clipboard-copy-icon m-2">
    <path d="M0 6.75C0 5.784.784 5 1.75 5h1.5a.75.75 0 0 1 0 1.5h-1.5a.25.25 0 0 0-.25.25v7.5c0 .138.112.25.25.25h7.5a.25.25 0 0 0 .25-.25v-1.5a.75.75 0 0 1 1.5 0v1.5A1.75 1.75 0 0 1 9.25 16h-7.5A1.75 1.75 0 0 1 0 14.25Z"></path><path d="M5 1.75C5 .784 5.784 0 6.75 0h7.5C15.216 0 16 .784 16 1.75v7.5A1.75 1.75 0 0 1 14.25 11h-7.5A1.75 1.75 0 0 1 5 9.25Zm1.75-.25a.25.25 0 0 0-.25.25v7.5c0 .138.112.25.25.25h7.5a.25.25 0 0 0 .25-.25v-7.5a.25.25 0 0 0-.25-.25Z"></path>
</svg>
      <svg aria-hidden="true" height="16" viewBox="0 0 16 16" version="1.1" width="16" data-view-component="true" class="octicon octicon-check js-clipboard-check-icon color-fg-success d-none m-2">
    <path d="M13.78 4.22a.75.75 0 0 1 0 1.06l-7.25 7.25a.75.75 0 0 1-1.06 0L2.22 9.28a.751.751 0 0 1 .018-1.042.751.751 0 0 1 1.042-.018L6 10.94l6.72-6.72a.75.75 0 0 1 1.06 0Z"></path>
</svg>
    </clipboard-copy>
  </div>
</template>
<template id="snippet-clipboard-copy-button-unpositioned">
  <div class="zeroclipboard-container">
    <clipboard-copy aria-label="Copy" class="ClipboardButton btn btn-invisible js-clipboard-copy m-2 p-0 tooltipped-no-delay d-flex flex-justify-center flex-items-center" data-copy-feedback="Copied!" data-tooltip-direction="w">
      <svg aria-hidden="true" height="16" viewBox="0 0 16 16" version="1.1" width="16" data-view-component="true" class="octicon octicon-copy js-clipboard-copy-icon">
    <path d="M0 6.75C0 5.784.784 5 1.75 5h1.5a.75.75 0 0 1 0 1.5h-1.5a.25.25 0 0 0-.25.25v7.5c0 .138.112.25.25.25h7.5a.25.25 0 0 0 .25-.25v-1.5a.75.75 0 0 1 1.5 0v1.5A1.75 1.75 0 0 1 9.25 16h-7.5A1.75 1.75 0 0 1 0 14.25Z"></path><path d="M5 1.75C5 .784 5.784 0 6.75 0h7.5C15.216 0 16 .784 16 1.75v7.5A1.75 1.75 0 0 1 14.25 11h-7.5A1.75 1.75 0 0 1 5 9.25Zm1.75-.25a.25.25 0 0 0-.25.25v7.5c0 .138.112.25.25.25h7.5a.25.25 0 0 0 .25-.25v-7.5a.25.25 0 0 0-.25-.25Z"></path>
</svg>
      <svg aria-hidden="true" height="16" viewBox="0 0 16 16" version="1.1" width="16" data-view-component="true" class="octicon octicon-check js-clipboard-check-icon color-fg-success d-none">
    <path d="M13.78 4.22a.75.75 0 0 1 0 1.06l-7.25 7.25a.75.75 0 0 1-1.06 0L2.22 9.28a.751.751 0 0 1 .018-1.042.751.751 0 0 1 1.042-.018L6 10.94l6.72-6.72a.75.75 0 0 1 1.06 0Z"></path>
</svg>
    </clipboard-copy>
  </div>
</template>


    <style>
      .user-mention[href$="/suhaswarrior"] {
        color: var(--color-user-mention-fg);
        background-color: var(--color-user-mention-bg);
        border-radius: 2px;
        margin-left: -2px;
        margin-right: -2px;
        padding: 0 2px;
      }
    </style>


    </div>

    <div id="js-global-screen-reader-notice" class="sr-only" aria-live="polite" ></div>
  </body>
</html>

